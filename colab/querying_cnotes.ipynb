{
  "nbformat": 4,
  "nbformat_minor": 0,
  "metadata": {
    "colab": {
      "name": "querying_cnotes.ipynb",
      "version": "0.3.2",
      "provenance": [],
      "collapsed_sections": [],
      "include_colab_link": true
    },
    "kernelspec": {
      "name": "python3",
      "display_name": "Python 3"
    }
  },
  "cells": [
    {
      "cell_type": "markdown",
      "metadata": {
        "id": "view-in-github",
        "colab_type": "text"
      },
      "source": [
        "[View in Colaboratory](https://colab.research.google.com/github/alexamies/chinesenotes.com/blob/master/colab/querying_cnotes.ipynb)"
      ]
    },
    {
      "metadata": {
        "id": "9GQtWkq5-6-B",
        "colab_type": "text"
      },
      "cell_type": "markdown",
      "source": [
        "# Querying the Chinese Notes Corpus\n",
        "Query the Chinese Notes corpus based on titles, word frequency, and bigram frequency. First load the \n",
        "document and index data into BigQuery using the instructions in the \n",
        "[index/README.md](https://github.com/alexamies/chinesenotes.com/blob/master/index/README.md)\n",
        "file."
      ]
    },
    {
      "metadata": {
        "id": "XyOMzCnP_rmA",
        "colab_type": "text"
      },
      "cell_type": "markdown",
      "source": [
        "## Setup\n",
        "Setup this sheet for querying the dataset"
      ]
    },
    {
      "metadata": {
        "id": "FByqNkIS_Lfd",
        "colab_type": "code",
        "colab": {
          "base_uri": "https://localhost:8080/",
          "height": 34
        },
        "outputId": "f80ed6e6-0c0a-4790-d4fb-a6bc3583186a"
      },
      "cell_type": "code",
      "source": [
        "project_id = \"YOUR PROJECT ID\"\n",
        "!gcloud config set project {project_id}\n",
        "\n",
        "import os\n",
        "os.environ['GOOGLE_CLOUD_PROJECT'] = project_id\n",
        "\n",
        "from google.colab import auth\n",
        "auth.authenticate_user()\n",
        "\n",
        "import numpy as np\n",
        "import pandas as pd\n",
        "import matplotlib.pyplot as plt"
      ],
      "execution_count": 1,
      "outputs": [
        {
          "output_type": "stream",
          "text": [
            "Updated property [core/project].\r\n"
          ],
          "name": "stdout"
        }
      ]
    },
    {
      "metadata": {
        "id": "fR36aLE7AkKm",
        "colab_type": "text"
      },
      "cell_type": "markdown",
      "source": [
        "## Query Word Frequency\n",
        "With BM25 document similarity"
      ]
    },
    {
      "metadata": {
        "id": "OFjJ3fls_3Pk",
        "colab_type": "code",
        "colab": {}
      },
      "cell_type": "code",
      "source": [
        "query = \"莫如樹人\"\n",
        "terms = [\"莫如\",\"樹\", \"人\"]\n",
        "bigram = [terms[0] + terms[1], terms[1] + terms[2]]"
      ],
      "execution_count": 0,
      "outputs": []
    },
    {
      "metadata": {
        "id": "_4ufxRC3A4Ef",
        "colab_type": "code",
        "colab": {
          "base_uri": "https://localhost:8080/",
          "height": 204
        },
        "outputId": "6eeb1900-7718-41e8-9662-5a5ffab82268"
      },
      "cell_type": "code",
      "source": [
        "word_freq_df3u = pd.io.gbq.read_gbq('''\n",
        "  SELECT\n",
        "    SUM(2.5 * frequency * idf / (frequency + 1.5)) AS sim_words,\n",
        "    document\n",
        "  FROM\n",
        "    [cnreader.word_freq_doc]\n",
        "  WHERE\n",
        "    (word = '%s' OR word = '%s' OR word = '%s')\n",
        "  GROUP BY document \n",
        "  ORDER BY sim_words DESC LIMIT 5000\n",
        "''' % (terms[0], terms[1], terms[2]), project_id=project_id)\n",
        "word_freq_df3u.head(5)"
      ],
      "execution_count": 55,
      "outputs": [
        {
          "output_type": "execute_result",
          "data": {
            "text/html": [
              "<div>\n",
              "<style scoped>\n",
              "    .dataframe tbody tr th:only-of-type {\n",
              "        vertical-align: middle;\n",
              "    }\n",
              "\n",
              "    .dataframe tbody tr th {\n",
              "        vertical-align: top;\n",
              "    }\n",
              "\n",
              "    .dataframe thead th {\n",
              "        text-align: right;\n",
              "    }\n",
              "</style>\n",
              "<table border=\"1\" class=\"dataframe\">\n",
              "  <thead>\n",
              "    <tr style=\"text-align: right;\">\n",
              "      <th></th>\n",
              "      <th>sim_words</th>\n",
              "      <th>document</th>\n",
              "    </tr>\n",
              "  </thead>\n",
              "  <tbody>\n",
              "    <tr>\n",
              "      <th>0</th>\n",
              "      <td>4.011951</td>\n",
              "      <td>zuozhuan/zuozhuan011.html</td>\n",
              "    </tr>\n",
              "    <tr>\n",
              "      <th>1</th>\n",
              "      <td>3.676043</td>\n",
              "      <td>songshi/songshi295.html</td>\n",
              "    </tr>\n",
              "    <tr>\n",
              "      <th>2</th>\n",
              "      <td>3.654087</td>\n",
              "      <td>zuozhuan/zuozhuan010.html</td>\n",
              "    </tr>\n",
              "    <tr>\n",
              "      <th>3</th>\n",
              "      <td>3.622560</td>\n",
              "      <td>guanzi/guanzi004.html</td>\n",
              "    </tr>\n",
              "    <tr>\n",
              "      <th>4</th>\n",
              "      <td>3.584419</td>\n",
              "      <td>wenxuan/wenxuan029.html</td>\n",
              "    </tr>\n",
              "  </tbody>\n",
              "</table>\n",
              "</div>"
            ],
            "text/plain": [
              "   sim_words                   document\n",
              "0   4.011951  zuozhuan/zuozhuan011.html\n",
              "1   3.676043    songshi/songshi295.html\n",
              "2   3.654087  zuozhuan/zuozhuan010.html\n",
              "3   3.622560      guanzi/guanzi004.html\n",
              "4   3.584419    wenxuan/wenxuan029.html"
            ]
          },
          "metadata": {
            "tags": []
          },
          "execution_count": 55
        }
      ]
    },
    {
      "metadata": {
        "id": "m68A-zaMBMQY",
        "colab_type": "code",
        "colab": {
          "base_uri": "https://localhost:8080/",
          "height": 80
        },
        "outputId": "1835304e-80e8-4b2d-c272-4670695391eb"
      },
      "cell_type": "code",
      "source": [
        "word_freq_df3u[word_freq_df3u['document'] == 'guanzi/guanzi004.html']"
      ],
      "execution_count": 56,
      "outputs": [
        {
          "output_type": "execute_result",
          "data": {
            "text/html": [
              "<div>\n",
              "<style scoped>\n",
              "    .dataframe tbody tr th:only-of-type {\n",
              "        vertical-align: middle;\n",
              "    }\n",
              "\n",
              "    .dataframe tbody tr th {\n",
              "        vertical-align: top;\n",
              "    }\n",
              "\n",
              "    .dataframe thead th {\n",
              "        text-align: right;\n",
              "    }\n",
              "</style>\n",
              "<table border=\"1\" class=\"dataframe\">\n",
              "  <thead>\n",
              "    <tr style=\"text-align: right;\">\n",
              "      <th></th>\n",
              "      <th>sim_words</th>\n",
              "      <th>document</th>\n",
              "    </tr>\n",
              "  </thead>\n",
              "  <tbody>\n",
              "    <tr>\n",
              "      <th>3</th>\n",
              "      <td>3.62256</td>\n",
              "      <td>guanzi/guanzi004.html</td>\n",
              "    </tr>\n",
              "  </tbody>\n",
              "</table>\n",
              "</div>"
            ],
            "text/plain": [
              "   sim_words               document\n",
              "3    3.62256  guanzi/guanzi004.html"
            ]
          },
          "metadata": {
            "tags": []
          },
          "execution_count": 56
        }
      ]
    },
    {
      "metadata": {
        "id": "HB574uwWCaIQ",
        "colab_type": "code",
        "colab": {
          "base_uri": "https://localhost:8080/",
          "height": 80
        },
        "outputId": "0bb5bab3-9f66-4644-e1d5-c338b51eb406"
      },
      "cell_type": "code",
      "source": [
        "word_freq_df3u[word_freq_df3u['document'] == 'hanfeizi/hanfeizi033.html']"
      ],
      "execution_count": 59,
      "outputs": [
        {
          "output_type": "execute_result",
          "data": {
            "text/html": [
              "<div>\n",
              "<style scoped>\n",
              "    .dataframe tbody tr th:only-of-type {\n",
              "        vertical-align: middle;\n",
              "    }\n",
              "\n",
              "    .dataframe tbody tr th {\n",
              "        vertical-align: top;\n",
              "    }\n",
              "\n",
              "    .dataframe thead th {\n",
              "        text-align: right;\n",
              "    }\n",
              "</style>\n",
              "<table border=\"1\" class=\"dataframe\">\n",
              "  <thead>\n",
              "    <tr style=\"text-align: right;\">\n",
              "      <th></th>\n",
              "      <th>sim_words</th>\n",
              "      <th>document</th>\n",
              "    </tr>\n",
              "  </thead>\n",
              "  <tbody>\n",
              "    <tr>\n",
              "      <th>240</th>\n",
              "      <td>1.458261</td>\n",
              "      <td>hanfeizi/hanfeizi033.html</td>\n",
              "    </tr>\n",
              "  </tbody>\n",
              "</table>\n",
              "</div>"
            ],
            "text/plain": [
              "     sim_words                   document\n",
              "240   1.458261  hanfeizi/hanfeizi033.html"
            ]
          },
          "metadata": {
            "tags": []
          },
          "execution_count": 59
        }
      ]
    },
    {
      "metadata": {
        "id": "JHcAoKeIBmwj",
        "colab_type": "code",
        "colab": {
          "base_uri": "https://localhost:8080/",
          "height": 34
        },
        "outputId": "29ba4cce-3237-4012-f2ed-c394fe35fdd7"
      },
      "cell_type": "code",
      "source": [
        "1.458261/3.62256"
      ],
      "execution_count": 60,
      "outputs": [
        {
          "output_type": "execute_result",
          "data": {
            "text/plain": [
              "0.4025498542467206"
            ]
          },
          "metadata": {
            "tags": []
          },
          "execution_count": 60
        }
      ]
    },
    {
      "metadata": {
        "id": "HeyQPK4jCob3",
        "colab_type": "code",
        "colab": {}
      },
      "cell_type": "code",
      "source": [
        ""
      ],
      "execution_count": 0,
      "outputs": []
    }
  ]
}