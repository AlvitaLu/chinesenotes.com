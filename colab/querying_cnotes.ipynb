{
  "nbformat": 4,
  "nbformat_minor": 0,
  "metadata": {
    "colab": {
      "name": "querying_cnotes.ipynb",
      "version": "0.3.2",
      "provenance": [],
      "collapsed_sections": [
        "XyOMzCnP_rmA",
        "fR36aLE7AkKm",
        "iwu0Y0YL3JHr"
      ],
      "include_colab_link": true
    },
    "kernelspec": {
      "name": "python3",
      "display_name": "Python 3"
    }
  },
  "cells": [
    {
      "cell_type": "markdown",
      "metadata": {
        "id": "view-in-github",
        "colab_type": "text"
      },
      "source": [
        "[View in Colaboratory](https://colab.research.google.com/github/alexamies/chinesenotes.com/blob/master/colab/querying_cnotes.ipynb)"
      ]
    },
    {
      "metadata": {
        "id": "9GQtWkq5-6-B",
        "colab_type": "text"
      },
      "cell_type": "markdown",
      "source": [
        "# Querying a Chinese Corpus\n",
        "Demonstrates querying the Chinese Notes corpus based on titles, word frequency, and bigram frequency."
      ]
    },
    {
      "metadata": {
        "id": "XyOMzCnP_rmA",
        "colab_type": "text"
      },
      "cell_type": "markdown",
      "source": [
        "## Setup\n",
        "Common imports"
      ]
    },
    {
      "metadata": {
        "id": "FByqNkIS_Lfd",
        "colab_type": "code",
        "colab": {}
      },
      "cell_type": "code",
      "source": [
        "import numpy as np\n",
        "import pandas as pd\n",
        "import matplotlib.pyplot as plt"
      ],
      "execution_count": 0,
      "outputs": []
    },
    {
      "metadata": {
        "id": "fR36aLE7AkKm",
        "colab_type": "text"
      },
      "cell_type": "markdown",
      "source": [
        "## Vector Space Model\n",
        "This section demonstrates how to compute the values for BM25, which is a measure of vector space similarity. BM25 is regarded as one of the best models for document similarity (Robertson and Zaragoza 2009, p. 333). The BM25 formula is also explained by Zhai and Massung (2016, loc. 2423). First load the \n",
        "document and index data into BigQuery using the instructions in the \n",
        "[index/README.md](https://github.com/alexamies/chinesenotes.com/blob/master/index/README.md)\n",
        "file."
      ]
    },
    {
      "metadata": {
        "id": "OFjJ3fls_3Pk",
        "colab_type": "code",
        "colab": {
          "base_uri": "https://localhost:8080/",
          "height": 34
        },
        "outputId": "295240cb-a175-4551-b556-2b34848b2db9"
      },
      "cell_type": "code",
      "source": [
        "project_id = \"YOUR PROJECT ID\"\n",
        "!gcloud config set project {project_id}\n",
        "\n",
        "import os\n",
        "os.environ['GOOGLE_CLOUD_PROJECT'] = project_id\n",
        "\n",
        "from google.colab import auth\n",
        "auth.authenticate_user()\n"
      ],
      "execution_count": 2,
      "outputs": [
        {
          "output_type": "stream",
          "text": [
            "Updated property [core/project].\r\n"
          ],
          "name": "stdout"
        }
      ]
    },
    {
      "metadata": {
        "id": "kJdgm4DQH2ck",
        "colab_type": "text"
      },
      "cell_type": "markdown",
      "source": [
        "Example query with three terms with k = 1.5, b = 0.65"
      ]
    },
    {
      "metadata": {
        "id": "0n3L3sDXGWiG",
        "colab_type": "code",
        "colab": {}
      },
      "cell_type": "code",
      "source": [
        "query = \"莫如樹人\"\n",
        "terms = [\"莫如\",\"樹\", \"人\"]\n",
        "bigram = [terms[0] + terms[1], terms[1] + terms[2]]\n",
        "avdl = 4497.0 # Average document length"
      ],
      "execution_count": 0,
      "outputs": []
    },
    {
      "metadata": {
        "id": "_4ufxRC3A4Ef",
        "colab_type": "code",
        "colab": {
          "base_uri": "https://localhost:8080/",
          "height": 204
        },
        "outputId": "cf182e3f-b715-40a1-8d1e-b1ca936eb67d"
      },
      "cell_type": "code",
      "source": [
        "word_freq_df3u = pd.io.gbq.read_gbq('''\n",
        "  SELECT\n",
        "    SUM((1.5 + 1) * frequency * idf / (frequency + 1.5 * (1 - 0.65 + 0.65 * (doc_len / %f)))) AS bm25,\n",
        "    document\n",
        "  FROM\n",
        "    [cnreader.word_freq_doc]\n",
        "  WHERE\n",
        "    (word = '%s' OR word = '%s' OR word = '%s')\n",
        "  GROUP BY document \n",
        "  ORDER BY bm25 DESC LIMIT 5000\n",
        "''' % (avdl, terms[0], terms[1], terms[2]), project_id=project_id)\n",
        "word_freq_df3u.head(5)"
      ],
      "execution_count": 8,
      "outputs": [
        {
          "output_type": "execute_result",
          "data": {
            "text/html": [
              "<div>\n",
              "<style scoped>\n",
              "    .dataframe tbody tr th:only-of-type {\n",
              "        vertical-align: middle;\n",
              "    }\n",
              "\n",
              "    .dataframe tbody tr th {\n",
              "        vertical-align: top;\n",
              "    }\n",
              "\n",
              "    .dataframe thead th {\n",
              "        text-align: right;\n",
              "    }\n",
              "</style>\n",
              "<table border=\"1\" class=\"dataframe\">\n",
              "  <thead>\n",
              "    <tr style=\"text-align: right;\">\n",
              "      <th></th>\n",
              "      <th>bm25</th>\n",
              "      <th>document</th>\n",
              "    </tr>\n",
              "  </thead>\n",
              "  <tbody>\n",
              "    <tr>\n",
              "      <th>0</th>\n",
              "      <td>4.148233</td>\n",
              "      <td>guanzi/guanzi004.html</td>\n",
              "    </tr>\n",
              "    <tr>\n",
              "      <th>1</th>\n",
              "      <td>3.844266</td>\n",
              "      <td>guanzi/guanzi011.html</td>\n",
              "    </tr>\n",
              "    <tr>\n",
              "      <th>2</th>\n",
              "      <td>3.577029</td>\n",
              "      <td>shuoyuan/shuoyuan017.html</td>\n",
              "    </tr>\n",
              "    <tr>\n",
              "      <th>3</th>\n",
              "      <td>3.264684</td>\n",
              "      <td>zhuangzi/zhuangzi014.html</td>\n",
              "    </tr>\n",
              "    <tr>\n",
              "      <th>4</th>\n",
              "      <td>3.172393</td>\n",
              "      <td>songshi/songshi295.html</td>\n",
              "    </tr>\n",
              "  </tbody>\n",
              "</table>\n",
              "</div>"
            ],
            "text/plain": [
              "       bm25                   document\n",
              "0  4.148233      guanzi/guanzi004.html\n",
              "1  3.844266      guanzi/guanzi011.html\n",
              "2  3.577029  shuoyuan/shuoyuan017.html\n",
              "3  3.264684  zhuangzi/zhuangzi014.html\n",
              "4  3.172393    songshi/songshi295.html"
            ]
          },
          "metadata": {
            "tags": []
          },
          "execution_count": 8
        }
      ]
    },
    {
      "metadata": {
        "id": "m68A-zaMBMQY",
        "colab_type": "code",
        "colab": {
          "base_uri": "https://localhost:8080/",
          "height": 80
        },
        "outputId": "4261465e-570e-4a1c-a21f-eaebbaaa976d"
      },
      "cell_type": "code",
      "source": [
        "word_freq_df3u[word_freq_df3u['document'] == 'guanzi/guanzi004.html']"
      ],
      "execution_count": 9,
      "outputs": [
        {
          "output_type": "execute_result",
          "data": {
            "text/html": [
              "<div>\n",
              "<style scoped>\n",
              "    .dataframe tbody tr th:only-of-type {\n",
              "        vertical-align: middle;\n",
              "    }\n",
              "\n",
              "    .dataframe tbody tr th {\n",
              "        vertical-align: top;\n",
              "    }\n",
              "\n",
              "    .dataframe thead th {\n",
              "        text-align: right;\n",
              "    }\n",
              "</style>\n",
              "<table border=\"1\" class=\"dataframe\">\n",
              "  <thead>\n",
              "    <tr style=\"text-align: right;\">\n",
              "      <th></th>\n",
              "      <th>bm25</th>\n",
              "      <th>document</th>\n",
              "    </tr>\n",
              "  </thead>\n",
              "  <tbody>\n",
              "    <tr>\n",
              "      <th>0</th>\n",
              "      <td>4.148233</td>\n",
              "      <td>guanzi/guanzi004.html</td>\n",
              "    </tr>\n",
              "  </tbody>\n",
              "</table>\n",
              "</div>"
            ],
            "text/plain": [
              "       bm25               document\n",
              "0  4.148233  guanzi/guanzi004.html"
            ]
          },
          "metadata": {
            "tags": []
          },
          "execution_count": 9
        }
      ]
    },
    {
      "metadata": {
        "id": "HB574uwWCaIQ",
        "colab_type": "code",
        "colab": {
          "base_uri": "https://localhost:8080/",
          "height": 80
        },
        "outputId": "09623cf6-5758-4ebf-ce51-23c5be349228"
      },
      "cell_type": "code",
      "source": [
        "word_freq_df3u[word_freq_df3u['document'] == 'hanfeizi/hanfeizi033.html']"
      ],
      "execution_count": 10,
      "outputs": [
        {
          "output_type": "execute_result",
          "data": {
            "text/html": [
              "<div>\n",
              "<style scoped>\n",
              "    .dataframe tbody tr th:only-of-type {\n",
              "        vertical-align: middle;\n",
              "    }\n",
              "\n",
              "    .dataframe tbody tr th {\n",
              "        vertical-align: top;\n",
              "    }\n",
              "\n",
              "    .dataframe thead th {\n",
              "        text-align: right;\n",
              "    }\n",
              "</style>\n",
              "<table border=\"1\" class=\"dataframe\">\n",
              "  <thead>\n",
              "    <tr style=\"text-align: right;\">\n",
              "      <th></th>\n",
              "      <th>bm25</th>\n",
              "      <th>document</th>\n",
              "    </tr>\n",
              "  </thead>\n",
              "  <tbody>\n",
              "    <tr>\n",
              "      <th>170</th>\n",
              "      <td>1.483595</td>\n",
              "      <td>hanfeizi/hanfeizi033.html</td>\n",
              "    </tr>\n",
              "  </tbody>\n",
              "</table>\n",
              "</div>"
            ],
            "text/plain": [
              "         bm25                   document\n",
              "170  1.483595  hanfeizi/hanfeizi033.html"
            ]
          },
          "metadata": {
            "tags": []
          },
          "execution_count": 10
        }
      ]
    },
    {
      "metadata": {
        "id": "JHcAoKeIBmwj",
        "colab_type": "code",
        "colab": {
          "base_uri": "https://localhost:8080/",
          "height": 34
        },
        "outputId": "29ba4cce-3237-4012-f2ed-c394fe35fdd7"
      },
      "cell_type": "code",
      "source": [
        "1.458261/3.62256"
      ],
      "execution_count": 60,
      "outputs": [
        {
          "output_type": "execute_result",
          "data": {
            "text/plain": [
              "0.4025498542467206"
            ]
          },
          "metadata": {
            "tags": []
          },
          "execution_count": 60
        }
      ]
    },
    {
      "metadata": {
        "id": "dTSDVmGcNtwb",
        "colab_type": "text"
      },
      "cell_type": "markdown",
      "source": [
        "## Relevance\n",
        "The chinesenotes.com software computes the BM25 for individual words and bigrams and then outputs the results to logs when users run the queries. Some results extracted from exported logs are shown here. Exploring the relation between BM25 and relevance with some results from [hbreader.org](http://hbreader.org/)."
      ]
    },
    {
      "metadata": {
        "id": "FE0E0BC9Md5Z",
        "colab_type": "code",
        "colab": {
          "base_uri": "https://localhost:8080/",
          "height": 462
        },
        "outputId": "cdb92076-4a23-4351-d920-83084873d683"
      },
      "cell_type": "code",
      "source": [
        "import io\n",
        "import urllib.request\n",
        "\n",
        "url = (\"https://raw.githubusercontent.com/alexamies/chinesenotes.com/master/\"\n",
        "       \"python/relevance-hbreader.tsv\")\n",
        "response = urllib.request.urlopen(url)\n",
        "content = response.read()\n",
        "types = {'Corpus': np.object, 'Query': np.object, 'Terms': np.uint32, \n",
        "        'Scoped': np.bool, 'Rank': np.uint32, 'Title': np.object, \n",
        "        'Sim Title': np.uint32, 'Sim Words': np.float32, 'Sim Bigrams': np.float32, \n",
        "        'Bit Vector': np.float32, 'Exact Match': np.uint32, 'Sim Bigrams': np.float32, \n",
        "        'ContainsTerms': np.object, 'Relevant': np.uint32}\n",
        "\n",
        "relevance_df=pd.read_csv(io.StringIO(content.decode('utf-8')), sep='\\t',\n",
        "                           skiprows=(0), header=(0), dtype=types)\n",
        "relevance_df.head()"
      ],
      "execution_count": 45,
      "outputs": [
        {
          "output_type": "execute_result",
          "data": {
            "text/html": [
              "<div>\n",
              "<style scoped>\n",
              "    .dataframe tbody tr th:only-of-type {\n",
              "        vertical-align: middle;\n",
              "    }\n",
              "\n",
              "    .dataframe tbody tr th {\n",
              "        vertical-align: top;\n",
              "    }\n",
              "\n",
              "    .dataframe thead th {\n",
              "        text-align: right;\n",
              "    }\n",
              "</style>\n",
              "<table border=\"1\" class=\"dataframe\">\n",
              "  <thead>\n",
              "    <tr style=\"text-align: right;\">\n",
              "      <th></th>\n",
              "      <th>Corpus</th>\n",
              "      <th>Query</th>\n",
              "      <th>Terms</th>\n",
              "      <th>Scoped</th>\n",
              "      <th>Rank</th>\n",
              "      <th>Title</th>\n",
              "      <th>Link</th>\n",
              "      <th>Sim Title</th>\n",
              "      <th>Sim Words</th>\n",
              "      <th>Sim Bigrams</th>\n",
              "      <th>Bit Vector</th>\n",
              "      <th>Exact Match</th>\n",
              "      <th>ContainsTerms</th>\n",
              "      <th>Relevant</th>\n",
              "    </tr>\n",
              "  </thead>\n",
              "  <tbody>\n",
              "    <tr>\n",
              "      <th>0</th>\n",
              "      <td>hbreader.org</td>\n",
              "      <td>一腳印</td>\n",
              "      <td>2</td>\n",
              "      <td>False</td>\n",
              "      <td>1</td>\n",
              "      <td>A Footprint with Every Step  一步一腳印</td>\n",
              "      <td>http://hbreader.org/wenji/miyun_shengming67.html</td>\n",
              "      <td>1</td>\n",
              "      <td>1.000000</td>\n",
              "      <td>1.000000</td>\n",
              "      <td>1.0</td>\n",
              "      <td>1</td>\n",
              "      <td>一腳印</td>\n",
              "      <td>1</td>\n",
              "    </tr>\n",
              "    <tr>\n",
              "      <th>1</th>\n",
              "      <td>hbreader.org</td>\n",
              "      <td>一腳印</td>\n",
              "      <td>2</td>\n",
              "      <td>False</td>\n",
              "      <td>2</td>\n",
              "      <td>Chapter 1: Don't be Lacking - One Step, One Fo...</td>\n",
              "      <td>http://hbreader.org/wenji/wanshi07002.html</td>\n",
              "      <td>1</td>\n",
              "      <td>0.987608</td>\n",
              "      <td>0.968682</td>\n",
              "      <td>1.0</td>\n",
              "      <td>1</td>\n",
              "      <td>一腳印</td>\n",
              "      <td>1</td>\n",
              "    </tr>\n",
              "    <tr>\n",
              "      <th>2</th>\n",
              "      <td>hbreader.org</td>\n",
              "      <td>一腳印</td>\n",
              "      <td>2</td>\n",
              "      <td>False</td>\n",
              "      <td>3</td>\n",
              "      <td>Chapter 3: Unbounded Creativity - Footprints 卷...</td>\n",
              "      <td>http://hbreader.org/wenji/wanshi08066.html</td>\n",
              "      <td>0</td>\n",
              "      <td>0.976419</td>\n",
              "      <td>0.853587</td>\n",
              "      <td>1.0</td>\n",
              "      <td>1</td>\n",
              "      <td>一腳印</td>\n",
              "      <td>1</td>\n",
              "    </tr>\n",
              "    <tr>\n",
              "      <th>3</th>\n",
              "      <td>hbreader.org</td>\n",
              "      <td>一腳印</td>\n",
              "      <td>2</td>\n",
              "      <td>False</td>\n",
              "      <td>4</td>\n",
              "      <td>Chapter 4: The Beauty of Transcendence - Histo...</td>\n",
              "      <td>http://hbreader.org/wenji/wanshi09084.html</td>\n",
              "      <td>0</td>\n",
              "      <td>0.875465</td>\n",
              "      <td>0.570640</td>\n",
              "      <td>1.0</td>\n",
              "      <td>1</td>\n",
              "      <td>一腳印</td>\n",
              "      <td>1</td>\n",
              "    </tr>\n",
              "    <tr>\n",
              "      <th>4</th>\n",
              "      <td>hbreader.org</td>\n",
              "      <td>一腳印</td>\n",
              "      <td>2</td>\n",
              "      <td>False</td>\n",
              "      <td>5</td>\n",
              "      <td>Being Humble 低　頭</td>\n",
              "      <td>http://hbreader.org/wenji/miyun_heziji07.html</td>\n",
              "      <td>0</td>\n",
              "      <td>0.577605</td>\n",
              "      <td>0.591299</td>\n",
              "      <td>1.0</td>\n",
              "      <td>1</td>\n",
              "      <td>一腳印</td>\n",
              "      <td>1</td>\n",
              "    </tr>\n",
              "  </tbody>\n",
              "</table>\n",
              "</div>"
            ],
            "text/plain": [
              "         Corpus Query  Terms  Scoped  Rank  \\\n",
              "0  hbreader.org   一腳印      2   False     1   \n",
              "1  hbreader.org   一腳印      2   False     2   \n",
              "2  hbreader.org   一腳印      2   False     3   \n",
              "3  hbreader.org   一腳印      2   False     4   \n",
              "4  hbreader.org   一腳印      2   False     5   \n",
              "\n",
              "                                               Title  \\\n",
              "0                 A Footprint with Every Step  一步一腳印   \n",
              "1  Chapter 1: Don't be Lacking - One Step, One Fo...   \n",
              "2  Chapter 3: Unbounded Creativity - Footprints 卷...   \n",
              "3  Chapter 4: The Beauty of Transcendence - Histo...   \n",
              "4                                   Being Humble 低　頭   \n",
              "\n",
              "                                               Link  Sim Title  Sim Words  \\\n",
              "0  http://hbreader.org/wenji/miyun_shengming67.html          1   1.000000   \n",
              "1        http://hbreader.org/wenji/wanshi07002.html          1   0.987608   \n",
              "2        http://hbreader.org/wenji/wanshi08066.html          0   0.976419   \n",
              "3        http://hbreader.org/wenji/wanshi09084.html          0   0.875465   \n",
              "4     http://hbreader.org/wenji/miyun_heziji07.html          0   0.577605   \n",
              "\n",
              "   Sim Bigrams  Bit Vector  Exact Match ContainsTerms  Relevant  \n",
              "0     1.000000         1.0            1           一腳印         1  \n",
              "1     0.968682         1.0            1           一腳印         1  \n",
              "2     0.853587         1.0            1           一腳印         1  \n",
              "3     0.570640         1.0            1           一腳印         1  \n",
              "4     0.591299         1.0            1           一腳印         1  "
            ]
          },
          "metadata": {
            "tags": []
          },
          "execution_count": 45
        }
      ]
    },
    {
      "metadata": {
        "id": "S-ED1J6CN19M",
        "colab_type": "code",
        "colab": {}
      },
      "cell_type": "code",
      "source": [
        "# Use if you want to load from your own file\n",
        "from google.colab import files\n",
        "\n",
        "uploaded = files.upload()\n",
        "fname = \"\"\n",
        "for fn in uploaded.keys():\n",
        "  print('User uploaded file \"{name}\" with length {length} bytes'.format(\n",
        "      name=fn, length=len(uploaded[fn])))\n",
        "  fname = fn\n",
        "  relevance_df = pd.read_csv(fname,sep='\\t',skiprows=(0),header=(0))\n",
        "relevance_df.head()"
      ],
      "execution_count": 0,
      "outputs": []
    },
    {
      "metadata": {
        "id": "puNirNIwPt8G",
        "colab_type": "code",
        "colab": {
          "base_uri": "https://localhost:8080/",
          "height": 378
        },
        "outputId": "72f1ae7f-ce61-40df-c4cf-4d907c3c844c"
      },
      "cell_type": "code",
      "source": [
        "relevant_df = relevance_df[relevance_df['Relevant'] == 1]\n",
        "not_relevant_df = relevance_df[relevance_df['Relevant'] == 0]\n",
        "\n",
        "ax = relevant_df.plot.scatter(x = 'Sim Words', y = 'Sim Bigrams', color='Blue', label='Relevant')\n",
        "not_relevant_df.plot.scatter(x = 'Sim Words', y = 'Sim Bigrams', color='Red', label='Not Relevant', ax=ax)"
      ],
      "execution_count": 46,
      "outputs": [
        {
          "output_type": "execute_result",
          "data": {
            "text/plain": [
              "<matplotlib.axes._subplots.AxesSubplot at 0x7f2587eb1240>"
            ]
          },
          "metadata": {
            "tags": []
          },
          "execution_count": 46
        },
        {
          "output_type": "display_data",
          "data": {
            "image/png": "[encoded data removed]",
            "text/plain": [
              "<matplotlib.figure.Figure at 0x7f2587ecb5f8>"
            ]
          },
          "metadata": {
            "tags": []
          }
        }
      ]
    },
    {
      "metadata": {
        "id": "fstsg8XPD7rf",
        "colab_type": "text"
      },
      "cell_type": "markdown",
      "source": [
        "## Prediction of Relevance\n",
        "Training the results using logistic regression (Géron 2017, pp. 136-140). Try with only bigram based BM25 to begin with."
      ]
    },
    {
      "metadata": {
        "id": "YtmZqut9RBB2",
        "colab_type": "code",
        "colab": {
          "base_uri": "https://localhost:8080/",
          "height": 34
        },
        "outputId": "ea893ba3-679c-4bae-f2e9-87e279bba39b"
      },
      "cell_type": "code",
      "source": [
        "from sklearn.linear_model import LogisticRegression\n",
        "\n",
        "# Train\n",
        "X = relevance_df[\"Sim Bigrams\"]\n",
        "X = X[:, np.newaxis]\n",
        "y = relevance_df[\"Relevant\"].astype(np.int)\n",
        "model = LogisticRegression()\n",
        "model.fit(X, y)\n",
        "#model.coef_"
      ],
      "execution_count": 49,
      "outputs": [
        {
          "output_type": "execute_result",
          "data": {
            "text/plain": [
              "array([[3.01341748]])"
            ]
          },
          "metadata": {
            "tags": []
          },
          "execution_count": 49
        }
      ]
    },
    {
      "metadata": {
        "id": "0MSmGsZSeqx5",
        "colab_type": "code",
        "colab": {
          "base_uri": "https://localhost:8080/",
          "height": 364
        },
        "outputId": "5f785109-d186-4cd9-ed50-7420fec444a8"
      },
      "cell_type": "code",
      "source": [
        "# Plot results\n",
        "X_p = np.linspace(0, 2, 1000).reshape(-1, 1)\n",
        "y_p = model.predict_proba(X_p)\n",
        "plt.plot(X_p, y_p[:, 1], \"g-\", label=\"Relevant\")\n",
        "plt.plot(X_p, y_p[:, 0], \"b--\", label=\"Not Relevant\")"
      ],
      "execution_count": 54,
      "outputs": [
        {
          "output_type": "execute_result",
          "data": {
            "text/plain": [
              "[<matplotlib.lines.Line2D at 0x7f2587d9eb70>]"
            ]
          },
          "metadata": {
            "tags": []
          },
          "execution_count": 54
        },
        {
          "output_type": "display_data",
          "data": {
            "image/png": "[encoded data removed]",
            "text/plain": [
              "<matplotlib.figure.Figure at 0x7f2587d9e2b0>"
            ]
          },
          "metadata": {
            "tags": []
          }
        }
      ]
    },
    {
      "metadata": {
        "id": "iwu0Y0YL3JHr",
        "colab_type": "text"
      },
      "cell_type": "markdown",
      "source": [
        "## References\n",
        "1. Géron, Aurélien 2017, *Hands-On Machine Learning with Scikit-Learn and TensorFlow: Concepts, Tools, and Techniques to Build Intelligent Systems*, Kindle ed., O’Reilly Media, Inc.\n",
        "\n",
        "2. Robertson, Stephen and Hugo Zaragoza 2009, \"The Probabilistic Relevance Framework: BM25 and Beyond\", *Foundations and Trends® in Information Retrieval*: Vol. 3: No. 4, pp 333-389. http://dx.doi.org/10.1561/1500000019.\n",
        "\n",
        "3. Zhai, Chengxiang and Sean Massung 2016, *Text Data Management and Analysis: A Practical Introduction to Information Retrieval and Text Mining*, Association for Computing Machinery; Morgan & Claypool.\n"
      ]
    },
    {
      "metadata": {
        "id": "1Y9tbyli3j_Y",
        "colab_type": "code",
        "colab": {}
      },
      "cell_type": "code",
      "source": [
        ""
      ],
      "execution_count": 0,
      "outputs": []
    }
  ]
}