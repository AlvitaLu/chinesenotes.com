{
  "nbformat": 4,
  "nbformat_minor": 0,
  "metadata": {
    "colab": {
      "name": "explore_corpus.ipynb",
      "version": "0.3.2",
      "provenance": [],
      "collapsed_sections": [],
      "include_colab_link": true
    },
    "kernelspec": {
      "name": "python3",
      "display_name": "Python 3"
    }
  },
  "cells": [
    {
      "cell_type": "markdown",
      "metadata": {
        "id": "view-in-github",
        "colab_type": "text"
      },
      "source": [
        "[View in Colaboratory](https://colab.research.google.com/github/alexamies/chinesenotes.com/blob/master/colab/explore_corpus.ipynb)"
      ]
    },
    {
      "metadata": {
        "id": "Qvbwz0208f6k",
        "colab_type": "text"
      },
      "cell_type": "markdown",
      "source": [
        "<h1>Exporing the Chinese Notes Corpus</h1>\n",
        "This notebook explores the Chinese Notes corpus of historic and literary Chinese texts."
      ]
    },
    {
      "metadata": {
        "id": "7ShIU0CO7sWt",
        "colab_type": "code",
        "colab": {}
      },
      "cell_type": "code",
      "source": [
        "import pandas as pd\n",
        "import numpy as np"
      ],
      "execution_count": 0,
      "outputs": []
    },
    {
      "metadata": {
        "id": "DNqJbDjzFURE",
        "colab_type": "text"
      },
      "cell_type": "markdown",
      "source": [
        "<h2>The Collection of Documents</h2>\n",
        "A collection is a list of text documents."
      ]
    },
    {
      "metadata": {
        "id": "dvhY6j2R9PrR",
        "colab_type": "code",
        "colab": {
          "base_uri": "https://localhost:8080/",
          "height": 34
        },
        "outputId": "da50e380-2b7f-4d1e-b574-d02164df7612"
      },
      "cell_type": "code",
      "source": [
        "# Load list of collections of documents\n",
        "colnames = [\"Collection File\", \"HTML File\", \"Title\", \"Description\", \n",
        "            \"Introduction File\", \"Corpus\", \"Language\", \"Format\", \n",
        "            \"Period\", \"Genre\"]\n",
        "types = {\"Collection File\": np.object, \"HTML File\": np.object,\n",
        "         \"Corpus\": np.object, \"Description\": np.object,\n",
        "         \"Introduction File\": np.object, \"Corpus\": np.object,\n",
        "         \"Language\": np.object, \"Format\": np.object,\n",
        "         \"Period\": np.object, \"Genre\": np.object}\n",
        "collections_url = \"https://github.com/alexamies/chinesenotes.com/raw/master/data/corpus/collections.csv\"\n",
        "cols_df = pd.read_table(collections_url, names=colnames, dtype=types, comment='#')\n",
        "num_col = len(cols_df.index)\n",
        "print(\"Number of collections: \", num_col)"
      ],
      "execution_count": 3,
      "outputs": [
        {
          "output_type": "stream",
          "text": [
            "Number of collections:  67\n"
          ],
          "name": "stdout"
        }
      ]
    },
    {
      "metadata": {
        "id": "nE7gCWjKp6Ge",
        "colab_type": "text"
      },
      "cell_type": "markdown",
      "source": [
        "Iterate through the collection metadata to find the number of documents in each collection"
      ]
    },
    {
      "metadata": {
        "id": "1iwQ6CS39uO9",
        "colab_type": "code",
        "colab": {
          "base_uri": "https://localhost:8080/",
          "height": 34
        },
        "outputId": "12713f0a-9cc6-4435-b02a-fb222010cf59"
      },
      "cell_type": "code",
      "source": [
        "col_files = cols_df[\"Collection File\"]\n",
        "dcolnames = [\"Source file\", \"output file\", \"\"]\n",
        "dtypes = {\"Source file\": np.object, \"output file\": np.object, \"Title\": np.object}\n",
        "col_sizes = []\n",
        "num_docs = 0\n",
        "for f in col_files:\n",
        "  f_url = \"https://github.com/alexamies/chinesenotes.com/raw/master/data/corpus/\" + f\n",
        "  col_df = pd.read_table(f_url, names=dcolnames, dtype=dtypes, comment='#')\n",
        "  num_doc = len(col_df.index)\n",
        "  col_sizes.append(num_doc)\n",
        "  num_docs += num_doc\n",
        "print(\"Number of documents: \", num_docs)"
      ],
      "execution_count": 4,
      "outputs": [
        {
          "output_type": "stream",
          "text": [
            "Number of documents:  5246\n"
          ],
          "name": "stdout"
        }
      ]
    },
    {
      "metadata": {
        "id": "8EIM_ZgZptEZ",
        "colab_type": "code",
        "colab": {
          "base_uri": "https://localhost:8080/",
          "height": 348
        },
        "outputId": "78a0ae16-de1b-4a22-9d33-1edf719ccbff"
      },
      "cell_type": "code",
      "source": [
        "col_sizes_df = pd.DataFrame({\n",
        "    \"Title\": cols_df[\"Title\"],\n",
        "    \"Size\": pd.Series(col_sizes)})\n",
        "col_sizes_df.head()\n",
        "col_sizes_df = col_sizes_df.sort_values(by=[\"Size\"], ascending=False)\n",
        "col_sizes_df[:20].plot(kind='bar');"
      ],
      "execution_count": 5,
      "outputs": [
        {
          "output_type": "display_data",
          "data": {
            "image/png": "[encoded data removed]",
            "text/plain": [
              "<matplotlib.figure.Figure at 0x7fe08ed6aac8>"
            ]
          },
          "metadata": {
            "tags": []
          }
        }
      ]
    },
    {
      "metadata": {
        "id": "VUcfvm-1KsB8",
        "colab_type": "text"
      },
      "cell_type": "markdown",
      "source": [
        "The collections with the largest number of documents are"
      ]
    },
    {
      "metadata": {
        "id": "lB2qjVJMqz3J",
        "colab_type": "code",
        "colab": {
          "base_uri": "https://localhost:8080/",
          "height": 204
        },
        "outputId": "939ad614-467d-47ba-b73a-ce9cfda63aff"
      },
      "cell_type": "code",
      "source": [
        "col_sizes_df.head()"
      ],
      "execution_count": 6,
      "outputs": [
        {
          "output_type": "execute_result",
          "data": {
            "text/html": [
              "<div>\n",
              "<style scoped>\n",
              "    .dataframe tbody tr th:only-of-type {\n",
              "        vertical-align: middle;\n",
              "    }\n",
              "\n",
              "    .dataframe tbody tr th {\n",
              "        vertical-align: top;\n",
              "    }\n",
              "\n",
              "    .dataframe thead th {\n",
              "        text-align: right;\n",
              "    }\n",
              "</style>\n",
              "<table border=\"1\" class=\"dataframe\">\n",
              "  <thead>\n",
              "    <tr style=\"text-align: right;\">\n",
              "      <th></th>\n",
              "      <th>Size</th>\n",
              "      <th>Title</th>\n",
              "    </tr>\n",
              "  </thead>\n",
              "  <tbody>\n",
              "    <tr>\n",
              "      <th>53</th>\n",
              "      <td>540</td>\n",
              "      <td>Shuo Wen Jie Zi 《說文解字》</td>\n",
              "    </tr>\n",
              "    <tr>\n",
              "      <th>39</th>\n",
              "      <td>498</td>\n",
              "      <td>History of Song 《宋史》</td>\n",
              "    </tr>\n",
              "    <tr>\n",
              "      <th>43</th>\n",
              "      <td>333</td>\n",
              "      <td>History of Ming 《明史》</td>\n",
              "    </tr>\n",
              "    <tr>\n",
              "      <th>0</th>\n",
              "      <td>305</td>\n",
              "      <td>The Book of Songs 《詩經》</td>\n",
              "    </tr>\n",
              "    <tr>\n",
              "      <th>36</th>\n",
              "      <td>249</td>\n",
              "      <td>New Book of Tang 《新唐書》</td>\n",
              "    </tr>\n",
              "  </tbody>\n",
              "</table>\n",
              "</div>"
            ],
            "text/plain": [
              "    Size                   Title\n",
              "53   540  Shuo Wen Jie Zi 《說文解字》\n",
              "39   498    History of Song 《宋史》\n",
              "43   333    History of Ming 《明史》\n",
              "0    305  The Book of Songs 《詩經》\n",
              "36   249  New Book of Tang 《新唐書》"
            ]
          },
          "metadata": {
            "tags": []
          },
          "execution_count": 6
        }
      ]
    },
    {
      "metadata": {
        "id": "wOYMTiX_KSHi",
        "colab_type": "text"
      },
      "cell_type": "markdown",
      "source": [
        "<h2> Word Frequencies</h2>\n",
        "Information about the word frequencies files is given in \n",
        "<a href=\"https://github.com/alexamies/chinesenotes.com/blob/master/index/index-README.md\">index-README.md</a>."
      ]
    },
    {
      "metadata": {
        "id": "ywI_kkaatInK",
        "colab_type": "code",
        "colab": {
          "base_uri": "https://localhost:8080/",
          "height": 204
        },
        "outputId": "ef107d81-30b8-40c9-d416-6a4830790904"
      },
      "cell_type": "code",
      "source": [
        "# Load list of words and their frequencies\n",
        "fcolnames = [\"Word\", \"Frequency\", \"Rate\"]\n",
        "ftypes = {\"Word\": np.object, \"Frequency\": np.uint64, \"Rate\": np.float64}\n",
        "wf_url = \"https://github.com/alexamies/chinesenotes.com/raw/master/index/word_frequencies.txt\"\n",
        "wf_df = pd.read_table(wf_url, names=fcolnames, dtype=ftypes, comment='#')\n",
        "wf_df.head()"
      ],
      "execution_count": 10,
      "outputs": [
        {
          "output_type": "execute_result",
          "data": {
            "text/html": [
              "<div>\n",
              "<style scoped>\n",
              "    .dataframe tbody tr th:only-of-type {\n",
              "        vertical-align: middle;\n",
              "    }\n",
              "\n",
              "    .dataframe tbody tr th {\n",
              "        vertical-align: top;\n",
              "    }\n",
              "\n",
              "    .dataframe thead th {\n",
              "        text-align: right;\n",
              "    }\n",
              "</style>\n",
              "<table border=\"1\" class=\"dataframe\">\n",
              "  <thead>\n",
              "    <tr style=\"text-align: right;\">\n",
              "      <th></th>\n",
              "      <th>Word</th>\n",
              "      <th>Frequency</th>\n",
              "      <th>Rate</th>\n",
              "    </tr>\n",
              "  </thead>\n",
              "  <tbody>\n",
              "    <tr>\n",
              "      <th>0</th>\n",
              "      <td>之</td>\n",
              "      <td>543195</td>\n",
              "      <td>229.824448</td>\n",
              "    </tr>\n",
              "    <tr>\n",
              "      <th>1</th>\n",
              "      <td>以</td>\n",
              "      <td>278785</td>\n",
              "      <td>117.953237</td>\n",
              "    </tr>\n",
              "    <tr>\n",
              "      <th>2</th>\n",
              "      <td>為</td>\n",
              "      <td>233877</td>\n",
              "      <td>98.952774</td>\n",
              "    </tr>\n",
              "    <tr>\n",
              "      <th>3</th>\n",
              "      <td>曰</td>\n",
              "      <td>210243</td>\n",
              "      <td>88.953288</td>\n",
              "    </tr>\n",
              "    <tr>\n",
              "      <th>4</th>\n",
              "      <td>其</td>\n",
              "      <td>193073</td>\n",
              "      <td>81.688704</td>\n",
              "    </tr>\n",
              "  </tbody>\n",
              "</table>\n",
              "</div>"
            ],
            "text/plain": [
              "  Word  Frequency        Rate\n",
              "0    之     543195  229.824448\n",
              "1    以     278785  117.953237\n",
              "2    為     233877   98.952774\n",
              "3    曰     210243   88.953288\n",
              "4    其     193073   81.688704"
            ]
          },
          "metadata": {
            "tags": []
          },
          "execution_count": 10
        }
      ]
    },
    {
      "metadata": {
        "id": "h6rdq8KvKWPB",
        "colab_type": "code",
        "colab": {
          "base_uri": "https://localhost:8080/",
          "height": 347
        },
        "outputId": "2e6409c7-f15f-4ede-ecdf-b57041ac9729"
      },
      "cell_type": "code",
      "source": [
        "wf_df[\"Frequency\"][:500].plot(kind='line');"
      ],
      "execution_count": 16,
      "outputs": [
        {
          "output_type": "display_data",
          "data": {
            "image/png": "[encoded data removed]",
            "text/plain": [
              "<matplotlib.figure.Figure at 0x7fe08bd41a90>"
            ]
          },
          "metadata": {
            "tags": []
          }
        }
      ]
    },
    {
      "metadata": {
        "id": "G4VfU0RJSoPw",
        "colab_type": "text"
      },
      "cell_type": "markdown",
      "source": [
        "<h2>Bigrams</h2>\n",
        "Bigrams are a source of new words that have not yet been added to the dictionary and also collocations."
      ]
    },
    {
      "metadata": {
        "id": "Mu4xFHOBP53Z",
        "colab_type": "code",
        "colab": {
          "base_uri": "https://localhost:8080/",
          "height": 204
        },
        "outputId": "eff7ced5-d00f-4772-9874-2b2e2da92c62"
      },
      "cell_type": "code",
      "source": [
        "# Load list of bigrams and their frequencies\n",
        "bfcolnames = [\"Bigram\", \"Frequency\", \"Rate\"]\n",
        "bftypes = {\"Bigram\": np.object, \"Frequency\": np.uint64, \"Rate\": np.float64}\n",
        "bf_url = \"https://github.com/alexamies/chinesenotes.com/raw/master/index/ngram_frequencies.txt\"\n",
        "bf_df = pd.read_table(bf_url, names=bfcolnames, dtype=bftypes, comment='#')\n",
        "bf_df.head()"
      ],
      "execution_count": 18,
      "outputs": [
        {
          "output_type": "execute_result",
          "data": {
            "text/html": [
              "<div>\n",
              "<style scoped>\n",
              "    .dataframe tbody tr th:only-of-type {\n",
              "        vertical-align: middle;\n",
              "    }\n",
              "\n",
              "    .dataframe tbody tr th {\n",
              "        vertical-align: top;\n",
              "    }\n",
              "\n",
              "    .dataframe thead th {\n",
              "        text-align: right;\n",
              "    }\n",
              "</style>\n",
              "<table border=\"1\" class=\"dataframe\">\n",
              "  <thead>\n",
              "    <tr style=\"text-align: right;\">\n",
              "      <th></th>\n",
              "      <th>Bigram</th>\n",
              "      <th>Frequency</th>\n",
              "      <th>Rate</th>\n",
              "    </tr>\n",
              "  </thead>\n",
              "  <tbody>\n",
              "    <tr>\n",
              "      <th>0</th>\n",
              "      <td>二年</td>\n",
              "      <td>18044</td>\n",
              "      <td>7.634371</td>\n",
              "    </tr>\n",
              "    <tr>\n",
              "      <th>1</th>\n",
              "      <td>三年</td>\n",
              "      <td>17147</td>\n",
              "      <td>7.254853</td>\n",
              "    </tr>\n",
              "    <tr>\n",
              "      <th>2</th>\n",
              "      <td>四年</td>\n",
              "      <td>11469</td>\n",
              "      <td>4.852505</td>\n",
              "    </tr>\n",
              "    <tr>\n",
              "      <th>3</th>\n",
              "      <td>州刺史</td>\n",
              "      <td>10924</td>\n",
              "      <td>4.621917</td>\n",
              "    </tr>\n",
              "    <tr>\n",
              "      <th>4</th>\n",
              "      <td>中書</td>\n",
              "      <td>10745</td>\n",
              "      <td>4.546183</td>\n",
              "    </tr>\n",
              "  </tbody>\n",
              "</table>\n",
              "</div>"
            ],
            "text/plain": [
              "  Bigram  Frequency      Rate\n",
              "0     二年      18044  7.634371\n",
              "1     三年      17147  7.254853\n",
              "2     四年      11469  4.852505\n",
              "3    州刺史      10924  4.621917\n",
              "4     中書      10745  4.546183"
            ]
          },
          "metadata": {
            "tags": []
          },
          "execution_count": 18
        }
      ]
    },
    {
      "metadata": {
        "id": "3VeHVvnxZuZU",
        "colab_type": "text"
      },
      "cell_type": "markdown",
      "source": [
        "<h2>Vector Space Model</h2>\n",
        "The indexing process computes the word frequencies for each document in the corpus and generates\n",
        "word_freq_doc.txt but the file is too big to check into GitHub. The file\n",
        "<a href=\"https://github.com/alexamies/chinesenotes.com/blob/master/index/word_freq_shijing.txt\">word_freq_shijing.txt</a>\n",
        "is provided for prototyping with the word frequencies for each document in the <i>Book of Songs</i>\n",
        "詩經 (shijing)."
      ]
    },
    {
      "metadata": {
        "id": "TM2JjHSiStKq",
        "colab_type": "code",
        "colab": {
          "base_uri": "https://localhost:8080/",
          "height": 204
        },
        "outputId": "abfcd3a5-a496-482a-f9d7-0797a1c6f3d6"
      },
      "cell_type": "code",
      "source": [
        "# Load word frequencies for shijing\n",
        "wfdcolnames = [\"Word\", \"Frequency\", \"Rate\", \"File\"]\n",
        "wfdtypes = {\"Word\": np.object, \"Frequency\": np.uint64, \"Rate\": np.float64,\n",
        "           \"File\": np.object}\n",
        "wfd_url = \"https://github.com/alexamies/chinesenotes.com/raw/master/index/word_freq_shijing.txt\"\n",
        "wfd_df = pd.read_table(wfd_url, names=wfdcolnames, dtype=wfdtypes)\n",
        "wfd_df.head()"
      ],
      "execution_count": 19,
      "outputs": [
        {
          "output_type": "execute_result",
          "data": {
            "text/html": [
              "<div>\n",
              "<style scoped>\n",
              "    .dataframe tbody tr th:only-of-type {\n",
              "        vertical-align: middle;\n",
              "    }\n",
              "\n",
              "    .dataframe tbody tr th {\n",
              "        vertical-align: top;\n",
              "    }\n",
              "\n",
              "    .dataframe thead th {\n",
              "        text-align: right;\n",
              "    }\n",
              "</style>\n",
              "<table border=\"1\" class=\"dataframe\">\n",
              "  <thead>\n",
              "    <tr style=\"text-align: right;\">\n",
              "      <th></th>\n",
              "      <th>Word</th>\n",
              "      <th>Frequency</th>\n",
              "      <th>Rate</th>\n",
              "      <th>File</th>\n",
              "    </tr>\n",
              "  </thead>\n",
              "  <tbody>\n",
              "    <tr>\n",
              "      <th>0</th>\n",
              "      <td>之</td>\n",
              "      <td>54</td>\n",
              "      <td>1060.903733</td>\n",
              "      <td>shijing/shijing001.txt</td>\n",
              "    </tr>\n",
              "    <tr>\n",
              "      <th>1</th>\n",
              "      <td>風</td>\n",
              "      <td>18</td>\n",
              "      <td>353.634578</td>\n",
              "      <td>shijing/shijing001.txt</td>\n",
              "    </tr>\n",
              "    <tr>\n",
              "      <th>2</th>\n",
              "      <td>也</td>\n",
              "      <td>17</td>\n",
              "      <td>333.988212</td>\n",
              "      <td>shijing/shijing001.txt</td>\n",
              "    </tr>\n",
              "    <tr>\n",
              "      <th>3</th>\n",
              "      <td>曰</td>\n",
              "      <td>13</td>\n",
              "      <td>255.402750</td>\n",
              "      <td>shijing/shijing001.txt</td>\n",
              "    </tr>\n",
              "    <tr>\n",
              "      <th>4</th>\n",
              "      <td>以</td>\n",
              "      <td>12</td>\n",
              "      <td>235.756385</td>\n",
              "      <td>shijing/shijing001.txt</td>\n",
              "    </tr>\n",
              "  </tbody>\n",
              "</table>\n",
              "</div>"
            ],
            "text/plain": [
              "  Word  Frequency         Rate                    File\n",
              "0    之         54  1060.903733  shijing/shijing001.txt\n",
              "1    風         18   353.634578  shijing/shijing001.txt\n",
              "2    也         17   333.988212  shijing/shijing001.txt\n",
              "3    曰         13   255.402750  shijing/shijing001.txt\n",
              "4    以         12   235.756385  shijing/shijing001.txt"
            ]
          },
          "metadata": {
            "tags": []
          },
          "execution_count": 19
        }
      ]
    },
    {
      "metadata": {
        "id": "a3cAM2phxy2m",
        "colab_type": "text"
      },
      "cell_type": "markdown",
      "source": [
        "One of the simplest measures for document similarity is a dot product of word frequencies in a vector\n",
        "space (Zhai and Massung 2016, p. 93). An alternative the using the word frequencies is to use 1 if the word is present in the document. In addition to the similarity of two documents, one 'document' can be a search query. Then the formula is\n",
        "\n",
        "Sim(q, d) = **q**∙**d**\n",
        "\n",
        "For example, the query \"后妃之德\" 'the virtue of the imperial consort' can be decomposed into the words (\"后妃\", \"之\", \"德\") and compared to the occurences in [Chapter 2](http://chinesenotes.com/shijing/shijing002.html) in the <i>Book of Songs</i> with frequencies (1, 1, 1) as"
      ]
    },
    {
      "metadata": {
        "id": "2xF54cCeas6o",
        "colab_type": "code",
        "colab": {
          "base_uri": "https://localhost:8080/",
          "height": 34
        },
        "outputId": "011564f2-6b48-4022-f398-bf262456143d"
      },
      "cell_type": "code",
      "source": [
        "similarity_q_ch2 = 1*1 + 1*1 + 1*1\n",
        "print(\"Similarity between query and Chapter 2: \", similarity_q_ch2)"
      ],
      "execution_count": 2,
      "outputs": [
        {
          "output_type": "stream",
          "text": [
            "Similarity between query and Chapter 2:  3\n"
          ],
          "name": "stdout"
        }
      ]
    },
    {
      "metadata": {
        "id": "Gtv3Ak6r1pHM",
        "colab_type": "text"
      },
      "cell_type": "markdown",
      "source": [
        "This can be compared to the occurrance  in [Chapter 3](http://chinesenotes.com/shijing/shijing003.html) (1, 1, 0)"
      ]
    },
    {
      "metadata": {
        "id": "S1rFnUzIyEC3",
        "colab_type": "code",
        "colab": {
          "base_uri": "https://localhost:8080/",
          "height": 34
        },
        "outputId": "448fde8a-c02b-4770-de66-5445088f245f"
      },
      "cell_type": "code",
      "source": [
        "similarity_q_ch3 = 1*1 + 1*1 + 1*0\n",
        "print(\"Similarity between query and Chapter 3: \", similarity_q_ch3)"
      ],
      "execution_count": 3,
      "outputs": [
        {
          "output_type": "stream",
          "text": [
            "Similarity between query and Chapter 3:  2\n"
          ],
          "name": "stdout"
        }
      ]
    },
    {
      "metadata": {
        "id": "lymhYyAT-1CP",
        "colab_type": "text"
      },
      "cell_type": "markdown",
      "source": [
        "The higher value for Chapter 2 shows that it is more similar to the query. Indeed this exact string in present\n",
        "in Chapter 2."
      ]
    },
    {
      "metadata": {
        "id": "Id9GFDj7yGF5",
        "colab_type": "text"
      },
      "cell_type": "markdown",
      "source": [
        "<h2>References</h2>\n",
        "<ol>\n",
        "  <li>Zhai, Chengxiang and Sean Massung 2016, <i>Text Data Management and Analysis: A Practical Introduction to Information Retrieval and Text Mining</i>. Association for Computing Machinery; Morgan &amp; Claypool.\n",
        "</li>\n",
        "</ol>"
      ]
    },
    {
      "metadata": {
        "id": "SCqSdbu0ywLS",
        "colab_type": "code",
        "colab": {}
      },
      "cell_type": "code",
      "source": [
        ""
      ],
      "execution_count": 0,
      "outputs": []
    }
  ]
}