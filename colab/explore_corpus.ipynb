{
  "nbformat": 4,
  "nbformat_minor": 0,
  "metadata": {
    "colab": {
      "name": "explore_corpus.ipynb",
      "version": "0.3.2",
      "provenance": [],
      "collapsed_sections": [],
      "include_colab_link": true
    },
    "kernelspec": {
      "name": "python3",
      "display_name": "Python 3"
    }
  },
  "cells": [
    {
      "cell_type": "markdown",
      "metadata": {
        "id": "view-in-github",
        "colab_type": "text"
      },
      "source": [
        "[View in Colaboratory](https://colab.research.google.com/github/alexamies/chinesenotes.com/blob/master/colab/explore_corpus.ipynb)"
      ]
    },
    {
      "metadata": {
        "id": "Qvbwz0208f6k",
        "colab_type": "text"
      },
      "cell_type": "markdown",
      "source": [
        "<h1>Exporing the Chinese Notes Corpus</h1>\n",
        "This notebook explores the Chinese Notes corpus of historic and literary Chinese texts."
      ]
    },
    {
      "metadata": {
        "id": "7ShIU0CO7sWt",
        "colab_type": "code",
        "colab": {}
      },
      "cell_type": "code",
      "source": [
        "import pandas as pd\n",
        "import numpy as np"
      ],
      "execution_count": 0,
      "outputs": []
    },
    {
      "metadata": {
        "id": "dvhY6j2R9PrR",
        "colab_type": "code",
        "colab": {
          "base_uri": "https://localhost:8080/",
          "height": 34
        },
        "outputId": "0bfaebeb-5286-4690-d8fb-b0baffe157ff"
      },
      "cell_type": "code",
      "source": [
        "# Load list of collections of documents\n",
        "colnames = ['Collection File', 'HTML File', 'Title', 'Description', \n",
        "            'Introduction File', 'Corpus', 'Language', 'Format', \n",
        "            'Period', 'Genre']\n",
        "types = {'Collection File': np.object, 'HTML File': np.object, 'Corpus': np.object, \n",
        "         'Description': np.object, 'Introduction File': np.object,\n",
        "         'Corpus': np.object, 'Language': np.object, 'Format': np.object,\n",
        "         'Period': np.object, 'Genre': np.object}\n",
        "collection_url = \"https://github.com/alexamies/chinesenotes.com/raw/master/data/corpus/collections.csv\"\n",
        "col_df = pd.read_table(collection_url, names=colnames, dtype=types, comment='#')\n",
        "num_col = len(col_df.index)\n",
        "print(\"Number of collections: \", num_col)"
      ],
      "execution_count": 19,
      "outputs": [
        {
          "output_type": "stream",
          "text": [
            "Number of collections:  67\n"
          ],
          "name": "stdout"
        }
      ]
    },
    {
      "metadata": {
        "id": "1iwQ6CS39uO9",
        "colab_type": "code",
        "colab": {}
      },
      "cell_type": "code",
      "source": [
        ""
      ],
      "execution_count": 0,
      "outputs": []
    }
  ]
}