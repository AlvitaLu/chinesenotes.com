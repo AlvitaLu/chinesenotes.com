{
 "cells": [
  {
   "cell_type": "code",
   "execution_count": 2,
   "metadata": {},
   "outputs": [
    {
     "name": "stdout",
     "output_type": "stream",
     "text": [
      "Opening the Chinese Notes dictionary\n",
      "OpenDictionary completed with 125980 entries\n"
     ]
    }
   ],
   "source": [
    "from cndict import OpenDictionary, PersonName\n",
    "\n",
    "wdict = OpenDictionary()"
   ]
  },
  {
   "cell_type": "code",
   "execution_count": 3,
   "metadata": {},
   "outputs": [],
   "source": [
    "# User input is a list of names in traditional form, separated by spaces:\n",
    "trad = u\"張昭 竇儀 呂餘慶 劉熙古 石熙載 李穆\""
   ]
  },
  {
   "cell_type": "code",
   "execution_count": 7,
   "metadata": {},
   "outputs": [
    {
     "name": "stdout",
     "output_type": "stream",
     "text": [
      "Li Gu, Zan Jurun, Dou Zhengu, Li Tao, Wang Yijian, Zhao Shangjiao, Zhang Xi, Zhang Zhu, Bian Guidang, Liu Wensou, Liu Tao, Bian Guangfan, Liu Zai, Cheng Yu, \n"
     ]
    }
   ],
   "source": [
    "names = trad.split(\" \")\n",
    "engStr = u\"\"\n",
    "for name in names:\n",
    "  english = PersonName(wdict, name)\n",
    "  engStr += english + \", \"\n",
    "print engStr"
   ]
  },
  {
   "cell_type": "code",
   "execution_count": null,
   "metadata": {},
   "outputs": [],
   "source": []
  }
 ],
 "metadata": {
  "kernelspec": {
   "display_name": "Python 2",
   "language": "python",
   "name": "python2"
  },
  "language_info": {
   "codemirror_mode": {
    "name": "ipython",
    "version": 2
   },
   "file_extension": ".py",
   "mimetype": "text/x-python",
   "name": "python",
   "nbconvert_exporter": "python",
   "pygments_lexer": "ipython2",
   "version": "2.7.15"
  }
 },
 "nbformat": 4,
 "nbformat_minor": 2
}
