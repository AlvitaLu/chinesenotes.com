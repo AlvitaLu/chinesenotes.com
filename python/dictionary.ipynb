{
 "cells": [
  {
   "cell_type": "markdown",
   "metadata": {},
   "source": [
    "# Notebook for exploring the Chinese-English Dictionary"
   ]
  },
  {
   "cell_type": "code",
   "execution_count": 46,
   "metadata": {
    "collapsed": false
   },
   "outputs": [
    {
     "name": "stdout",
     "output_type": "stream",
     "text": [
      "56381\n",
      "45921\n"
     ]
    },
    {
     "data": {
      "text/html": [
       "<div>\n",
       "<table border=\"1\" class=\"dataframe\">\n",
       "  <thead>\n",
       "    <tr style=\"text-align: right;\">\n",
       "      <th></th>\n",
       "      <th>id</th>\n",
       "      <th>simplified</th>\n",
       "      <th>traditional</th>\n",
       "      <th>pinyin</th>\n",
       "      <th>english</th>\n",
       "      <th>grammar</th>\n",
       "      <th>concept_cn</th>\n",
       "      <th>concept_en</th>\n",
       "      <th>domain_cn</th>\n",
       "      <th>domain_en</th>\n",
       "      <th>subdomain_cn</th>\n",
       "      <th>subdomain_en</th>\n",
       "      <th>image</th>\n",
       "      <th>mp3</th>\n",
       "      <th>notes</th>\n",
       "      <th>headword</th>\n",
       "    </tr>\n",
       "  </thead>\n",
       "  <tbody>\n",
       "    <tr>\n",
       "      <th>3617</th>\n",
       "      <td>3618</td>\n",
       "      <td>佛</td>\n",
       "      <td>\\N</td>\n",
       "      <td>fó</td>\n",
       "      <td>Buddha / Awakened One</td>\n",
       "      <td>proper noun</td>\n",
       "      <td>\\N</td>\n",
       "      <td>\\N</td>\n",
       "      <td>佛教</td>\n",
       "      <td>Buddhism</td>\n",
       "      <td>\\N</td>\n",
       "      <td>\\N</td>\n",
       "      <td>\\N</td>\n",
       "      <td>fo2.mp3</td>\n",
       "      <td>Sanskrit: buddha, Pali: buddha, Japanese: buts...</td>\n",
       "      <td>3618</td>\n",
       "    </tr>\n",
       "    <tr>\n",
       "      <th>3618</th>\n",
       "      <td>3619</td>\n",
       "      <td>佛</td>\n",
       "      <td>\\N</td>\n",
       "      <td>fó</td>\n",
       "      <td>Buddhist / of Buddhism</td>\n",
       "      <td>adjective</td>\n",
       "      <td>\\N</td>\n",
       "      <td>\\N</td>\n",
       "      <td>佛教</td>\n",
       "      <td>Buddhism</td>\n",
       "      <td>\\N</td>\n",
       "      <td>\\N</td>\n",
       "      <td>\\N</td>\n",
       "      <td>fo2.mp3</td>\n",
       "      <td>As a modifier describing a concept that relate...</td>\n",
       "      <td>3618</td>\n",
       "    </tr>\n",
       "  </tbody>\n",
       "</table>\n",
       "</div>"
      ],
      "text/plain": [
       "        id simplified traditional pinyin                 english      grammar  \\\n",
       "3617  3618          佛          \\N     fó   Buddha / Awakened One  proper noun   \n",
       "3618  3619          佛          \\N     fó  Buddhist / of Buddhism    adjective   \n",
       "\n",
       "     concept_cn concept_en domain_cn domain_en subdomain_cn subdomain_en  \\\n",
       "3617         \\N         \\N        佛教  Buddhism           \\N           \\N   \n",
       "3618         \\N         \\N        佛教  Buddhism           \\N           \\N   \n",
       "\n",
       "     image      mp3                                              notes  \\\n",
       "3617    \\N  fo2.mp3  Sanskrit: buddha, Pali: buddha, Japanese: buts...   \n",
       "3618    \\N  fo2.mp3  As a modifier describing a concept that relate...   \n",
       "\n",
       "      headword  \n",
       "3617      3618  \n",
       "3618      3618  "
      ]
     },
     "execution_count": 46,
     "metadata": {},
     "output_type": "execute_result"
    }
   ],
   "source": [
    "import re\n",
    "import pandas as pd\n",
    "import numpy as np\n",
    "import matplotlib.pyplot as plt\n",
    "%matplotlib inline\n",
    "\n",
    "# Load lexical units table\n",
    "colnames = ['id', 'simplified', 'traditional', 'pinyin', \n",
    "            'english', 'grammar', 'concept_cn', 'concept_en', \n",
    "            'domain_cn', 'domain_en', 'subdomain_cn', 'subdomain_en',\n",
    "            'image', 'mp3', 'notes', 'headword']\n",
    "types = {'id': np.uint32, 'simplified': np.object, 'traditional': np.object, \n",
    "        'pinyin': np.object, 'english': np.object, 'grammar': np.object,\n",
    "        'concept_cn': np.object, 'concept_en': np.object,\n",
    "        'domain_cn': np.object, 'domain_en': np.object, 'subdomain_cn': np.object,\n",
    "         'subdomain_en': np.object, 'image': np.object, 'mp3': np.object,\n",
    "         'notes': np.object, 'headword': np.uint32}\n",
    "df = pd.read_table('../data/words.txt', names=colnames, dtype=types)\n",
    "print df['id'].count() # Number of lexical units\n",
    "\n",
    "# Unique headwords\n",
    "print len(df['headword'].unique())\n",
    "\n",
    "# Example row\n",
    "df[df.simplified == '佛']"
   ]
  },
  {
   "cell_type": "code",
   "execution_count": 47,
   "metadata": {
    "collapsed": false
   },
   "outputs": [
    {
     "data": {
      "text/plain": [
       "noun              20362\n",
       "proper noun       12306\n",
       "verb              11311\n",
       "adjective          4711\n",
       "\\N                 2684\n",
       "phrase             1648\n",
       "adverb              839\n",
       "set phrase          800\n",
       "measure word        317\n",
       "pronoun             223\n",
       "phonetic            212\n",
       "conjunction         201\n",
       "particle            119\n",
       "foreign             115\n",
       "number              115\n",
       "preposition          97\n",
       "onomatopoeia         82\n",
       "interjection         64\n",
       "ordinal              37\n",
       "bound form           33\n",
       "pattern              30\n",
       "auxiliary verb       25\n",
       "suffix               22\n",
       "expression           10\n",
       "prefix               10\n",
       "radical               6\n",
       "infix                 2\n",
       "Name: grammar, dtype: int64"
      ]
     },
     "execution_count": 47,
     "metadata": {},
     "output_type": "execute_result"
    }
   ],
   "source": [
    "# Counts for different parts of speech\n",
    "df['grammar'].value_counts()"
   ]
  },
  {
   "cell_type": "code",
   "execution_count": 48,
   "metadata": {
    "collapsed": false
   },
   "outputs": [
    {
     "data": {
      "text/plain": [
       "<matplotlib.axes.AxesSubplot at 0x10baaf950>"
      ]
     },
     "execution_count": 48,
     "metadata": {},
     "output_type": "execute_result"
    },
    {
     "data": {
      "image/png": "[encoded data removed]",
      "text/plain": [
       "<matplotlib.figure.Figure at 0x10bfd93d0>"
      ]
     },
     "metadata": {},
     "output_type": "display_data"
    }
   ],
   "source": [
    "# Histogram for different parts of speech\n",
    "df['grammar'].value_counts()[:10].plot(kind='bar')"
   ]
  },
  {
   "cell_type": "code",
   "execution_count": 49,
   "metadata": {
    "collapsed": false
   },
   "outputs": [
    {
     "data": {
      "text/plain": [
       "Classical Chinese    15118\n",
       "Buddhism              8063\n",
       "History               2772\n",
       "Actions               1527\n",
       "Condition             1099\n",
       "Places                1061\n",
       "Geography              896\n",
       "Language               820\n",
       "Emotion                803\n",
       "Thought                793\n",
       "Name: domain_en, dtype: int64"
      ]
     },
     "execution_count": 49,
     "metadata": {},
     "output_type": "execute_result"
    }
   ],
   "source": [
    "# Counts for lexical units of different domains\n",
    "df['domain_en'].value_counts()[:10]"
   ]
  },
  {
   "cell_type": "code",
   "execution_count": 5,
   "metadata": {
    "collapsed": false
   },
   "outputs": [
    {
     "data": {
      "text/plain": [
       "<matplotlib.axes.AxesSubplot at 0x10d772e50>"
      ]
     },
     "execution_count": 5,
     "metadata": {},
     "output_type": "execute_result"
    },
    {
     "data": {
      "image/png": "[encoded data removed]",
      "text/plain": [
       "<matplotlib.figure.Figure at 0x110d36790>"
      ]
     },
     "metadata": {},
     "output_type": "display_data"
    }
   ],
   "source": [
    "# Histogram for different domains\n",
    "df['domain_en'].value_counts()[:10].plot(kind='bar')"
   ]
  },
  {
   "cell_type": "code",
   "execution_count": 6,
   "metadata": {
    "collapsed": false
   },
   "outputs": [
    {
     "data": {
      "text/plain": [
       "\\N          36438\n",
       "Sutra        1275\n",
       "Monastic      389\n",
       "Temple        367\n",
       "City          352\n",
       "Emperor       334\n",
       "Surname       305\n",
       "Country       283\n",
       "Book          261\n",
       "Person        245\n",
       "Name: concept_en, dtype: int64"
      ]
     },
     "execution_count": 6,
     "metadata": {},
     "output_type": "execute_result"
    }
   ],
   "source": [
    "df['concept_en'].value_counts()[:10]"
   ]
  },
  {
   "cell_type": "code",
   "execution_count": null,
   "metadata": {
    "collapsed": true
   },
   "outputs": [],
   "source": []
  }
 ],
 "metadata": {
  "kernelspec": {
   "display_name": "Python 2",
   "language": "python",
   "name": "python2"
  },
  "language_info": {
   "codemirror_mode": {
    "name": "ipython",
    "version": 2
   },
   "file_extension": ".py",
   "mimetype": "text/x-python",
   "name": "python",
   "nbconvert_exporter": "python",
   "pygments_lexer": "ipython2",
   "version": "2.7.10"
  }
 },
 "nbformat": 4,
 "nbformat_minor": 0
}
