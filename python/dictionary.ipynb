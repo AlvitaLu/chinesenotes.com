{
 "cells": [
  {
   "cell_type": "markdown",
   "metadata": {},
   "source": [
    "# Notebook for exploring the Chinese-English Dictionary"
   ]
  },
  {
   "cell_type": "code",
   "execution_count": 1,
   "metadata": {
    "collapsed": true
   },
   "outputs": [],
   "source": [
    "import pandas as pd\n",
    "import numpy as np\n",
    "import matplotlib.pyplot as plt\n",
    "%matplotlib inline"
   ]
  },
  {
   "cell_type": "code",
   "execution_count": 2,
   "metadata": {
    "collapsed": false
   },
   "outputs": [
    {
     "data": {
      "text/plain": [
       "45126"
      ]
     },
     "execution_count": 2,
     "metadata": {},
     "output_type": "execute_result"
    }
   ],
   "source": [
    "colnames = ['id', 'simplified', 'traditional', 'pinyin', \n",
    "            'english', 'grammar', 'concept_cn', 'concept_en', \n",
    "            'domain_cn', 'domain_en', 'subdomain_cn', 'subdomain_en',\n",
    "            'image', 'mp3', 'notes', 'headword']\n",
    "df = pd.read_table('../data/words.txt', names=colnames)\n",
    "df['id'].count()"
   ]
  },
  {
   "cell_type": "code",
   "execution_count": 3,
   "metadata": {
    "collapsed": false
   },
   "outputs": [
    {
     "data": {
      "text/html": [
       "<div>\n",
       "<table border=\"1\" class=\"dataframe\">\n",
       "  <thead>\n",
       "    <tr style=\"text-align: right;\">\n",
       "      <th></th>\n",
       "      <th>id</th>\n",
       "      <th>simplified</th>\n",
       "      <th>traditional</th>\n",
       "      <th>pinyin</th>\n",
       "      <th>english</th>\n",
       "      <th>grammar</th>\n",
       "      <th>concept_cn</th>\n",
       "      <th>concept_en</th>\n",
       "      <th>domain_cn</th>\n",
       "      <th>domain_en</th>\n",
       "      <th>subdomain_cn</th>\n",
       "      <th>subdomain_en</th>\n",
       "      <th>image</th>\n",
       "      <th>mp3</th>\n",
       "      <th>notes</th>\n",
       "      <th>headword</th>\n",
       "    </tr>\n",
       "  </thead>\n",
       "  <tbody>\n",
       "    <tr>\n",
       "      <th>3617</th>\n",
       "      <td>3618</td>\n",
       "      <td>佛</td>\n",
       "      <td>\\N</td>\n",
       "      <td>fó</td>\n",
       "      <td>Buddha / Awakened One</td>\n",
       "      <td>proper noun</td>\n",
       "      <td>\\N</td>\n",
       "      <td>\\N</td>\n",
       "      <td>佛教</td>\n",
       "      <td>Buddhism</td>\n",
       "      <td>\\N</td>\n",
       "      <td>\\N</td>\n",
       "      <td>foshixiang_nqi400.jpg</td>\n",
       "      <td>fo2.mp3</td>\n",
       "      <td>MC: bjut; one of the ten epithets of a Buddha ...</td>\n",
       "      <td>3618</td>\n",
       "    </tr>\n",
       "    <tr>\n",
       "      <th>3618</th>\n",
       "      <td>3619</td>\n",
       "      <td>佛</td>\n",
       "      <td>\\N</td>\n",
       "      <td>fó</td>\n",
       "      <td>Buddhist / of Buddhism</td>\n",
       "      <td>adjective</td>\n",
       "      <td>\\N</td>\n",
       "      <td>\\N</td>\n",
       "      <td>佛教</td>\n",
       "      <td>Buddhism</td>\n",
       "      <td>\\N</td>\n",
       "      <td>\\N</td>\n",
       "      <td>foshixiang_nqi400.jpg</td>\n",
       "      <td>fo2.mp3</td>\n",
       "      <td>(CCD '佛' 1; FE '佛' 2)</td>\n",
       "      <td>3618</td>\n",
       "    </tr>\n",
       "  </tbody>\n",
       "</table>\n",
       "</div>"
      ],
      "text/plain": [
       "        id simplified traditional pinyin                 english      grammar  \\\n",
       "3617  3618          佛          \\N     fó   Buddha / Awakened One  proper noun   \n",
       "3618  3619          佛          \\N     fó  Buddhist / of Buddhism    adjective   \n",
       "\n",
       "     concept_cn concept_en domain_cn domain_en subdomain_cn subdomain_en  \\\n",
       "3617         \\N         \\N        佛教  Buddhism           \\N           \\N   \n",
       "3618         \\N         \\N        佛教  Buddhism           \\N           \\N   \n",
       "\n",
       "                      image      mp3  \\\n",
       "3617  foshixiang_nqi400.jpg  fo2.mp3   \n",
       "3618  foshixiang_nqi400.jpg  fo2.mp3   \n",
       "\n",
       "                                                  notes  headword  \n",
       "3617  MC: bjut; one of the ten epithets of a Buddha ...      3618  \n",
       "3618                              (CCD '佛' 1; FE '佛' 2)      3618  "
      ]
     },
     "execution_count": 3,
     "metadata": {},
     "output_type": "execute_result"
    }
   ],
   "source": [
    "df[df.simplified == '佛']"
   ]
  },
  {
   "cell_type": "code",
   "execution_count": 4,
   "metadata": {
    "collapsed": false
   },
   "outputs": [
    {
     "data": {
      "text/plain": [
       "noun              17545\n",
       "verb               9877\n",
       "proper noun        9047\n",
       "adjective          3933\n",
       "phrase             1563\n",
       "adverb              783\n",
       "set phrase          713\n",
       "measure word        304\n",
       "pronoun             214\n",
       "conjunction         196\n",
       "phonetic            189\n",
       "number              112\n",
       "foreign             111\n",
       "particle            102\n",
       "preposition          95\n",
       "onomatopoeia         70\n",
       "\\N                   62\n",
       "interjection         55\n",
       "ordinal              35\n",
       "pattern              30\n",
       "auxiliary verb       25\n",
       "suffix               21\n",
       "bound form           17\n",
       "expression           10\n",
       "prefix               10\n",
       "radical               5\n",
       "infix                 2\n",
       "Name: grammar, dtype: int64"
      ]
     },
     "execution_count": 4,
     "metadata": {},
     "output_type": "execute_result"
    }
   ],
   "source": [
    "df['grammar'].value_counts()"
   ]
  },
  {
   "cell_type": "code",
   "execution_count": 8,
   "metadata": {
    "collapsed": false
   },
   "outputs": [
    {
     "data": {
      "text/plain": [
       "<matplotlib.axes.AxesSubplot at 0x10f8027d0>"
      ]
     },
     "execution_count": 8,
     "metadata": {},
     "output_type": "execute_result"
    },
    {
     "data": {
      "image/png": "[encoded data removed]",
      "text/plain": [
       "<matplotlib.figure.Figure at 0x10f6e7d50>"
      ]
     },
     "metadata": {},
     "output_type": "display_data"
    }
   ],
   "source": [
    "df['grammar'].value_counts().plot(kind='bar')"
   ]
  },
  {
   "cell_type": "code",
   "execution_count": 5,
   "metadata": {
    "collapsed": false
   },
   "outputs": [
    {
     "data": {
      "text/plain": [
       "Classical Chinese         7688\n",
       "Buddhism                  4886\n",
       "History                   2654\n",
       "Actions                   1547\n",
       "Condition                 1101\n",
       "Places                     988\n",
       "Geography                  875\n",
       "Emotion                    805\n",
       "Thought                    790\n",
       "Language                   789\n",
       "Health                     773\n",
       "Quantity                   721\n",
       "Information Technology     719\n",
       "Time                       655\n",
       "Characteristic             643\n",
       "Food and Drink             622\n",
       "Function Words             606\n",
       "Idiom                      586\n",
       "Form                       567\n",
       "Art                        551\n",
       "Linguistics                473\n",
       "Names                      434\n",
       "Religion                   413\n",
       "Movement                   403\n",
       "Ethics                     398\n",
       "Work                       381\n",
       "Architecture               367\n",
       "Position                   367\n",
       "Nature                     353\n",
       "Law                        347\n",
       "                          ... \n",
       "Computer Science            16\n",
       "Chinese medicine            15\n",
       "Taoism                      15\n",
       "Attempt                     14\n",
       "Archaeology                 13\n",
       "Space Flight                13\n",
       "Affixes                     13\n",
       "\\N                          13\n",
       "Facilities                  11\n",
       "Climate                     11\n",
       "Material Object             10\n",
       "Chinese Medicine            10\n",
       "Danger                       9\n",
       "Logic                        9\n",
       "Abstract                     9\n",
       "Toys                         7\n",
       "Mountaineering               7\n",
       "Hunting                      6\n",
       "Entertainment                6\n",
       "Pianpang                     5\n",
       "Cosmetic                     4\n",
       "Electrical Engineering       3\n",
       "Kungfu                       3\n",
       "furniture                    3\n",
       "Japanese                     3\n",
       "Research                     3\n",
       "Social Work                  3\n",
       "Social Science               3\n",
       "Utensil                      2\n",
       "Meditation                   2\n",
       "Name: domain_en, dtype: int64"
      ]
     },
     "execution_count": 5,
     "metadata": {},
     "output_type": "execute_result"
    }
   ],
   "source": [
    "df['domain_en'].value_counts()"
   ]
  },
  {
   "cell_type": "code",
   "execution_count": 7,
   "metadata": {
    "collapsed": false
   },
   "outputs": [
    {
     "data": {
      "text/plain": [
       "<matplotlib.axes.AxesSubplot at 0x10e6ec8d0>"
      ]
     },
     "execution_count": 7,
     "metadata": {},
     "output_type": "execute_result"
    },
    {
     "data": {
      "image/png": "[encoded data removed]",
      "text/plain": [
       "<matplotlib.figure.Figure at 0x10b33c850>"
      ]
     },
     "metadata": {},
     "output_type": "display_data"
    }
   ],
   "source": [
    "df['grammar'].value_counts().plot(kind='bar')"
   ]
  },
  {
   "cell_type": "code",
   "execution_count": null,
   "metadata": {
    "collapsed": true
   },
   "outputs": [],
   "source": []
  }
 ],
 "metadata": {
  "kernelspec": {
   "display_name": "Python 2",
   "language": "python",
   "name": "python2"
  },
  "language_info": {
   "codemirror_mode": {
    "name": "ipython",
    "version": 2
   },
   "file_extension": ".py",
   "mimetype": "text/x-python",
   "name": "python",
   "nbconvert_exporter": "python",
   "pygments_lexer": "ipython2",
   "version": "2.7.10"
  }
 },
 "nbformat": 4,
 "nbformat_minor": 0
}
