{
 "cells": [
  {
   "cell_type": "markdown",
   "metadata": {},
   "source": [
    "# Notebook for exploring the Chinese-English Dictionary"
   ]
  },
  {
   "cell_type": "code",
   "execution_count": 1,
   "metadata": {
    "collapsed": true
   },
   "outputs": [],
   "source": [
    "import pandas as pd\n",
    "import numpy as np\n",
    "import matplotlib.pyplot as plt\n",
    "%matplotlib inline"
   ]
  },
  {
   "cell_type": "code",
   "execution_count": 2,
   "metadata": {
    "collapsed": false
   },
   "outputs": [
    {
     "data": {
      "text/plain": [
       "45500"
      ]
     },
     "execution_count": 2,
     "metadata": {},
     "output_type": "execute_result"
    }
   ],
   "source": [
    "# Load words table\n",
    "colnames = ['id', 'simplified', 'traditional', 'pinyin', \n",
    "            'english', 'grammar', 'concept_cn', 'concept_en', \n",
    "            'domain_cn', 'domain_en', 'subdomain_cn', 'subdomain_en',\n",
    "            'image', 'mp3', 'notes', 'headword']\n",
    "types = {'id': np.uint32, 'simplified': np.object, 'traditional': np.object, \n",
    "        'pinyin': np.object, 'english': np.object, 'grammar': np.object,\n",
    "        'concept_cn': np.object, 'concept_en': np.object,\n",
    "        'domain_cn': np.object, 'domain_en': np.object, 'subdomain_cn': np.object,\n",
    "         'subdomain_en': np.object, 'image': np.object, 'mp3': np.object,\n",
    "         'notes': np.object, 'headword': np.uint32}\n",
    "df = pd.read_table('../data/words.txt', names=colnames, dtype=types)\n",
    "df['id'].count() # Number of lexical units"
   ]
  },
  {
   "cell_type": "code",
   "execution_count": 3,
   "metadata": {
    "collapsed": false
   },
   "outputs": [
    {
     "data": {
      "text/html": [
       "<div>\n",
       "<table border=\"1\" class=\"dataframe\">\n",
       "  <thead>\n",
       "    <tr style=\"text-align: right;\">\n",
       "      <th></th>\n",
       "      <th>id</th>\n",
       "      <th>simplified</th>\n",
       "      <th>traditional</th>\n",
       "      <th>pinyin</th>\n",
       "      <th>english</th>\n",
       "      <th>grammar</th>\n",
       "      <th>concept_cn</th>\n",
       "      <th>concept_en</th>\n",
       "      <th>domain_cn</th>\n",
       "      <th>domain_en</th>\n",
       "      <th>subdomain_cn</th>\n",
       "      <th>subdomain_en</th>\n",
       "      <th>image</th>\n",
       "      <th>mp3</th>\n",
       "      <th>notes</th>\n",
       "      <th>headword</th>\n",
       "    </tr>\n",
       "  </thead>\n",
       "  <tbody>\n",
       "    <tr>\n",
       "      <th>3617</th>\n",
       "      <td>3618</td>\n",
       "      <td>佛</td>\n",
       "      <td>\\N</td>\n",
       "      <td>fó</td>\n",
       "      <td>Buddha / Awakened One</td>\n",
       "      <td>proper noun</td>\n",
       "      <td>\\N</td>\n",
       "      <td>\\N</td>\n",
       "      <td>佛教</td>\n",
       "      <td>Buddhism</td>\n",
       "      <td>\\N</td>\n",
       "      <td>\\N</td>\n",
       "      <td>\\N</td>\n",
       "      <td>fo2.mp3</td>\n",
       "      <td>Sanskrit: buddha, Pali: buddha, Japanese: buts...</td>\n",
       "      <td>3618</td>\n",
       "    </tr>\n",
       "    <tr>\n",
       "      <th>3618</th>\n",
       "      <td>3619</td>\n",
       "      <td>佛</td>\n",
       "      <td>\\N</td>\n",
       "      <td>fó</td>\n",
       "      <td>Buddhist / of Buddhism</td>\n",
       "      <td>adjective</td>\n",
       "      <td>\\N</td>\n",
       "      <td>\\N</td>\n",
       "      <td>佛教</td>\n",
       "      <td>Buddhism</td>\n",
       "      <td>\\N</td>\n",
       "      <td>\\N</td>\n",
       "      <td>\\N</td>\n",
       "      <td>fo2.mp3</td>\n",
       "      <td>As a modifier describing a concept that relate...</td>\n",
       "      <td>3618</td>\n",
       "    </tr>\n",
       "  </tbody>\n",
       "</table>\n",
       "</div>"
      ],
      "text/plain": [
       "        id simplified traditional pinyin                 english      grammar  \\\n",
       "3617  3618          佛          \\N     fó   Buddha / Awakened One  proper noun   \n",
       "3618  3619          佛          \\N     fó  Buddhist / of Buddhism    adjective   \n",
       "\n",
       "     concept_cn concept_en domain_cn domain_en subdomain_cn subdomain_en  \\\n",
       "3617         \\N         \\N        佛教  Buddhism           \\N           \\N   \n",
       "3618         \\N         \\N        佛教  Buddhism           \\N           \\N   \n",
       "\n",
       "     image      mp3                                              notes  \\\n",
       "3617    \\N  fo2.mp3  Sanskrit: buddha, Pali: buddha, Japanese: buts...   \n",
       "3618    \\N  fo2.mp3  As a modifier describing a concept that relate...   \n",
       "\n",
       "      headword  \n",
       "3617      3618  \n",
       "3618      3618  "
      ]
     },
     "execution_count": 3,
     "metadata": {},
     "output_type": "execute_result"
    }
   ],
   "source": [
    "# Example row\n",
    "df[df.simplified == '佛']"
   ]
  },
  {
   "cell_type": "code",
   "execution_count": 4,
   "metadata": {
    "collapsed": false
   },
   "outputs": [
    {
     "data": {
      "text/plain": [
       "noun              17664\n",
       "verb               9955\n",
       "proper noun        9116\n",
       "adjective          3978\n",
       "phrase             1568\n",
       "adverb              787\n",
       "set phrase          720\n",
       "measure word        305\n",
       "pronoun             214\n",
       "conjunction         196\n",
       "phonetic            189\n",
       "number              113\n",
       "foreign             111\n",
       "\\N                  103\n",
       "particle            102\n",
       "preposition          97\n",
       "onomatopoeia         70\n",
       "interjection         55\n",
       "ordinal              35\n",
       "pattern              30\n",
       "auxiliary verb       25\n",
       "suffix               21\n",
       "bound form           19\n",
       "expression           10\n",
       "prefix               10\n",
       "radical               5\n",
       "infix                 2\n",
       "Name: grammar, dtype: int64"
      ]
     },
     "execution_count": 4,
     "metadata": {},
     "output_type": "execute_result"
    }
   ],
   "source": [
    "# Counts for different parts of speech\n",
    "df['grammar'].value_counts()"
   ]
  },
  {
   "cell_type": "code",
   "execution_count": 5,
   "metadata": {
    "collapsed": false
   },
   "outputs": [
    {
     "data": {
      "text/plain": [
       "<matplotlib.axes.AxesSubplot at 0x105d57cd0>"
      ]
     },
     "execution_count": 5,
     "metadata": {},
     "output_type": "execute_result"
    },
    {
     "data": {
      "image/png": "[encoded data removed]",
      "text/plain": [
       "<matplotlib.figure.Figure at 0x102aeb390>"
      ]
     },
     "metadata": {},
     "output_type": "display_data"
    }
   ],
   "source": [
    "# Histogram for different parts of speech\n",
    "df['grammar'].value_counts()[:10].plot(kind='bar')"
   ]
  },
  {
   "cell_type": "code",
   "execution_count": 6,
   "metadata": {
    "collapsed": false
   },
   "outputs": [
    {
     "data": {
      "text/plain": [
       "Classical Chinese         7984\n",
       "Buddhism                  4975\n",
       "History                   2650\n",
       "Actions                   1544\n",
       "Condition                 1098\n",
       "Places                     990\n",
       "Geography                  876\n",
       "Emotion                    802\n",
       "Language                   792\n",
       "Thought                    788\n",
       "Health                     773\n",
       "Quantity                   722\n",
       "Information Technology     719\n",
       "Time                       654\n",
       "Characteristic             641\n",
       "Food and Drink             621\n",
       "Function Words             608\n",
       "Idiom                      588\n",
       "Form                       566\n",
       "Art                        544\n",
       "Linguistics                473\n",
       "Names                      445\n",
       "Religion                   412\n",
       "Movement                   403\n",
       "Ethics                     398\n",
       "Work                       380\n",
       "Architecture               367\n",
       "Position                   367\n",
       "Nature                     348\n",
       "Law                        346\n",
       "                          ... \n",
       "Computer Science            16\n",
       "Chinese medicine            15\n",
       "Taoism                      15\n",
       "Attempt                     14\n",
       "Affixes                     13\n",
       "Archaeology                 13\n",
       "\\N                          13\n",
       "Space Flight                13\n",
       "Climate                     11\n",
       "Facilities                  11\n",
       "Chinese Medicine            10\n",
       "Material Object             10\n",
       "Logic                        9\n",
       "Abstract                     9\n",
       "Danger                       9\n",
       "Mountaineering               7\n",
       "Toys                         7\n",
       "Entertainment                6\n",
       "Hunting                      6\n",
       "Pianpang                     5\n",
       "Cosmetic                     4\n",
       "Research                     3\n",
       "Electrical Engineering       3\n",
       "Social Work                  3\n",
       "Social Science               3\n",
       "Kungfu                       3\n",
       "Japanese                     3\n",
       "furniture                    3\n",
       "Utensil                      2\n",
       "Meditation                   2\n",
       "Name: domain_en, dtype: int64"
      ]
     },
     "execution_count": 6,
     "metadata": {},
     "output_type": "execute_result"
    }
   ],
   "source": [
    "# Counts for lexical units of different domains\n",
    "df['domain_en'].value_counts()"
   ]
  },
  {
   "cell_type": "code",
   "execution_count": 7,
   "metadata": {
    "collapsed": false
   },
   "outputs": [
    {
     "data": {
      "text/plain": [
       "<matplotlib.axes.AxesSubplot at 0x1029a37d0>"
      ]
     },
     "execution_count": 7,
     "metadata": {},
     "output_type": "execute_result"
    },
    {
     "data": {
      "image/png": "[encoded data removed]",
      "text/plain": [
       "<matplotlib.figure.Figure at 0x10452b610>"
      ]
     },
     "metadata": {},
     "output_type": "display_data"
    }
   ],
   "source": [
    "# Histogram for different domains\n",
    "df['domain_en'].value_counts()[:10].plot(kind='bar')"
   ]
  },
  {
   "cell_type": "code",
   "execution_count": 8,
   "metadata": {
    "collapsed": false
   },
   "outputs": [
    {
     "data": {
      "text/plain": [
       "37082"
      ]
     },
     "execution_count": 8,
     "metadata": {},
     "output_type": "execute_result"
    }
   ],
   "source": [
    "# Unique headwords\n",
    "len(df['headword'].unique())"
   ]
  },
  {
   "cell_type": "code",
   "execution_count": null,
   "metadata": {
    "collapsed": true
   },
   "outputs": [],
   "source": []
  }
 ],
 "metadata": {
  "kernelspec": {
   "display_name": "Python 2",
   "language": "python",
   "name": "python2"
  },
  "language_info": {
   "codemirror_mode": {
    "name": "ipython",
    "version": 2
   },
   "file_extension": ".py",
   "mimetype": "text/x-python",
   "name": "python",
   "nbconvert_exporter": "python",
   "pygments_lexer": "ipython2",
   "version": "2.7.10"
  }
 },
 "nbformat": 4,
 "nbformat_minor": 0
}
