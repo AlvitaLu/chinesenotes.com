{
 "cells": [
  {
   "cell_type": "markdown",
   "metadata": {},
   "source": [
    "# Notebook for exploring the Chinese-English Dictionary"
   ]
  },
  {
   "cell_type": "code",
   "execution_count": 20,
   "metadata": {
    "collapsed": false
   },
   "outputs": [
    {
     "name": "stdout",
     "output_type": "stream",
     "text": [
      "45743\n",
      "37229\n"
     ]
    },
    {
     "data": {
      "text/html": [
       "<div>\n",
       "<table border=\"1\" class=\"dataframe\">\n",
       "  <thead>\n",
       "    <tr style=\"text-align: right;\">\n",
       "      <th></th>\n",
       "      <th>id</th>\n",
       "      <th>simplified</th>\n",
       "      <th>traditional</th>\n",
       "      <th>pinyin</th>\n",
       "      <th>english</th>\n",
       "      <th>grammar</th>\n",
       "      <th>concept_cn</th>\n",
       "      <th>concept_en</th>\n",
       "      <th>domain_cn</th>\n",
       "      <th>domain_en</th>\n",
       "      <th>subdomain_cn</th>\n",
       "      <th>subdomain_en</th>\n",
       "      <th>image</th>\n",
       "      <th>mp3</th>\n",
       "      <th>notes</th>\n",
       "      <th>headword</th>\n",
       "    </tr>\n",
       "  </thead>\n",
       "  <tbody>\n",
       "    <tr>\n",
       "      <th>3617</th>\n",
       "      <td>3618</td>\n",
       "      <td>佛</td>\n",
       "      <td>\\N</td>\n",
       "      <td>fó</td>\n",
       "      <td>Buddha / Awakened One</td>\n",
       "      <td>proper noun</td>\n",
       "      <td>\\N</td>\n",
       "      <td>\\N</td>\n",
       "      <td>佛教</td>\n",
       "      <td>Buddhism</td>\n",
       "      <td>\\N</td>\n",
       "      <td>\\N</td>\n",
       "      <td>\\N</td>\n",
       "      <td>fo2.mp3</td>\n",
       "      <td>Sanskrit: buddha, Pali: buddha, Japanese: buts...</td>\n",
       "      <td>3618</td>\n",
       "    </tr>\n",
       "    <tr>\n",
       "      <th>3618</th>\n",
       "      <td>3619</td>\n",
       "      <td>佛</td>\n",
       "      <td>\\N</td>\n",
       "      <td>fó</td>\n",
       "      <td>Buddhist / of Buddhism</td>\n",
       "      <td>adjective</td>\n",
       "      <td>\\N</td>\n",
       "      <td>\\N</td>\n",
       "      <td>佛教</td>\n",
       "      <td>Buddhism</td>\n",
       "      <td>\\N</td>\n",
       "      <td>\\N</td>\n",
       "      <td>\\N</td>\n",
       "      <td>fo2.mp3</td>\n",
       "      <td>As a modifier describing a concept that relate...</td>\n",
       "      <td>3618</td>\n",
       "    </tr>\n",
       "  </tbody>\n",
       "</table>\n",
       "</div>"
      ],
      "text/plain": [
       "        id simplified traditional pinyin                 english      grammar  \\\n",
       "3617  3618          佛          \\N     fó   Buddha / Awakened One  proper noun   \n",
       "3618  3619          佛          \\N     fó  Buddhist / of Buddhism    adjective   \n",
       "\n",
       "     concept_cn concept_en domain_cn domain_en subdomain_cn subdomain_en  \\\n",
       "3617         \\N         \\N        佛教  Buddhism           \\N           \\N   \n",
       "3618         \\N         \\N        佛教  Buddhism           \\N           \\N   \n",
       "\n",
       "     image      mp3                                              notes  \\\n",
       "3617    \\N  fo2.mp3  Sanskrit: buddha, Pali: buddha, Japanese: buts...   \n",
       "3618    \\N  fo2.mp3  As a modifier describing a concept that relate...   \n",
       "\n",
       "      headword  \n",
       "3617      3618  \n",
       "3618      3618  "
      ]
     },
     "execution_count": 20,
     "metadata": {},
     "output_type": "execute_result"
    }
   ],
   "source": [
    "import re\n",
    "import pandas as pd\n",
    "import numpy as np\n",
    "import matplotlib.pyplot as plt\n",
    "%matplotlib inline\n",
    "\n",
    "# Load lexical units table\n",
    "colnames = ['id', 'simplified', 'traditional', 'pinyin', \n",
    "            'english', 'grammar', 'concept_cn', 'concept_en', \n",
    "            'domain_cn', 'domain_en', 'subdomain_cn', 'subdomain_en',\n",
    "            'image', 'mp3', 'notes', 'headword']\n",
    "types = {'id': np.uint32, 'simplified': np.object, 'traditional': np.object, \n",
    "        'pinyin': np.object, 'english': np.object, 'grammar': np.object,\n",
    "        'concept_cn': np.object, 'concept_en': np.object,\n",
    "        'domain_cn': np.object, 'domain_en': np.object, 'subdomain_cn': np.object,\n",
    "         'subdomain_en': np.object, 'image': np.object, 'mp3': np.object,\n",
    "         'notes': np.object, 'headword': np.uint32}\n",
    "df = pd.read_table('../data/words.txt', names=colnames, dtype=types)\n",
    "print df['id'].count() # Number of lexical units\n",
    "\n",
    "# Unique headwords\n",
    "print len(df['headword'].unique())\n",
    "\n",
    "# Example row\n",
    "df[df.simplified == '佛']"
   ]
  },
  {
   "cell_type": "code",
   "execution_count": 21,
   "metadata": {
    "collapsed": false
   },
   "outputs": [
    {
     "data": {
      "text/plain": [
       "noun              17711\n",
       "verb               9992\n",
       "proper noun        9223\n",
       "adjective          4000\n",
       "phrase             1568\n",
       "adverb              789\n",
       "set phrase          726\n",
       "measure word        306\n",
       "pronoun             214\n",
       "conjunction         196\n",
       "phonetic            192\n",
       "\\N                  116\n",
       "number              113\n",
       "foreign             111\n",
       "particle            102\n",
       "preposition          97\n",
       "onomatopoeia         70\n",
       "interjection         55\n",
       "ordinal              35\n",
       "pattern              30\n",
       "auxiliary verb       25\n",
       "bound form           24\n",
       "suffix               21\n",
       "expression           10\n",
       "prefix               10\n",
       "radical               5\n",
       "infix                 2\n",
       "Name: grammar, dtype: int64"
      ]
     },
     "execution_count": 21,
     "metadata": {},
     "output_type": "execute_result"
    }
   ],
   "source": [
    "# Counts for different parts of speech\n",
    "df['grammar'].value_counts()"
   ]
  },
  {
   "cell_type": "code",
   "execution_count": 22,
   "metadata": {
    "collapsed": false
   },
   "outputs": [
    {
     "data": {
      "text/plain": [
       "<matplotlib.axes.AxesSubplot at 0x112b7d9d0>"
      ]
     },
     "execution_count": 22,
     "metadata": {},
     "output_type": "execute_result"
    },
    {
     "data": {
      "image/png": "[encoded data removed]",
      "text/plain": [
       "<matplotlib.figure.Figure at 0x113d88190>"
      ]
     },
     "metadata": {},
     "output_type": "display_data"
    }
   ],
   "source": [
    "# Histogram for different parts of speech\n",
    "df['grammar'].value_counts()[:10].plot(kind='bar')"
   ]
  },
  {
   "cell_type": "code",
   "execution_count": 23,
   "metadata": {
    "collapsed": false
   },
   "outputs": [
    {
     "data": {
      "text/plain": [
       "Classical Chinese         8113\n",
       "Buddhism                  5090\n",
       "History                   2652\n",
       "Actions                   1540\n",
       "Condition                 1097\n",
       "Places                     990\n",
       "Geography                  876\n",
       "Emotion                    797\n",
       "Language                   792\n",
       "Thought                    785\n",
       "Health                     772\n",
       "Quantity                   724\n",
       "Information Technology     719\n",
       "Time                       654\n",
       "Characteristic             638\n",
       "Food and Drink             621\n",
       "Function Words             611\n",
       "Idiom                      594\n",
       "Form                       566\n",
       "Art                        544\n",
       "Linguistics                473\n",
       "Names                      453\n",
       "Religion                   411\n",
       "Movement                   402\n",
       "Ethics                     395\n",
       "Work                       377\n",
       "Position                   367\n",
       "Architecture               366\n",
       "Nature                     348\n",
       "Law                        347\n",
       "                          ... \n",
       "Computer Science            16\n",
       "Chinese medicine            15\n",
       "Taoism                      15\n",
       "Attempt                     14\n",
       "Affixes                     13\n",
       "Archaeology                 13\n",
       "\\N                          13\n",
       "Space Flight                13\n",
       "Climate                     11\n",
       "Facilities                  11\n",
       "Chinese Medicine            10\n",
       "Material Object             10\n",
       "Logic                        9\n",
       "Abstract                     9\n",
       "Danger                       9\n",
       "Mountaineering               7\n",
       "Toys                         7\n",
       "Entertainment                6\n",
       "Hunting                      6\n",
       "Pianpang                     5\n",
       "Cosmetic                     4\n",
       "Research                     3\n",
       "Electrical Engineering       3\n",
       "Social Work                  3\n",
       "Social Science               3\n",
       "Kungfu                       3\n",
       "Japanese                     3\n",
       "furniture                    3\n",
       "Utensil                      2\n",
       "Meditation                   2\n",
       "Name: domain_en, dtype: int64"
      ]
     },
     "execution_count": 23,
     "metadata": {},
     "output_type": "execute_result"
    }
   ],
   "source": [
    "# Counts for lexical units of different domains\n",
    "df['domain_en'].value_counts()"
   ]
  },
  {
   "cell_type": "code",
   "execution_count": 24,
   "metadata": {
    "collapsed": false
   },
   "outputs": [
    {
     "data": {
      "text/plain": [
       "<matplotlib.axes.AxesSubplot at 0x1139c1810>"
      ]
     },
     "execution_count": 24,
     "metadata": {},
     "output_type": "execute_result"
    },
    {
     "data": {
      "image/png": "[encoded data removed]",
      "text/plain": [
       "<matplotlib.figure.Figure at 0x113b70350>"
      ]
     },
     "metadata": {},
     "output_type": "display_data"
    }
   ],
   "source": [
    "# Histogram for different domains\n",
    "df['domain_en'].value_counts()[:10].plot(kind='bar')"
   ]
  },
  {
   "cell_type": "code",
   "execution_count": 25,
   "metadata": {
    "collapsed": false
   },
   "outputs": [
    {
     "data": {
      "text/html": [
       "<div>\n",
       "<table border=\"1\" class=\"dataframe\">\n",
       "  <thead>\n",
       "    <tr style=\"text-align: right;\">\n",
       "      <th></th>\n",
       "      <th>id</th>\n",
       "      <th>simplified</th>\n",
       "      <th>traditional</th>\n",
       "      <th>pinyin</th>\n",
       "      <th>english</th>\n",
       "    </tr>\n",
       "  </thead>\n",
       "  <tbody>\n",
       "    <tr>\n",
       "      <th>269</th>\n",
       "      <td>270</td>\n",
       "      <td>收听</td>\n",
       "      <td>收聽</td>\n",
       "      <td>shōutīng</td>\n",
       "      <td>to listen to</td>\n",
       "    </tr>\n",
       "    <tr>\n",
       "      <th>279</th>\n",
       "      <td>280</td>\n",
       "      <td>听</td>\n",
       "      <td>聽</td>\n",
       "      <td>tīng</td>\n",
       "      <td>to listen</td>\n",
       "    </tr>\n",
       "    <tr>\n",
       "      <th>285</th>\n",
       "      <td>286</td>\n",
       "      <td>一月</td>\n",
       "      <td>\\N</td>\n",
       "      <td>yīyuè</td>\n",
       "      <td>January / the First Month</td>\n",
       "    </tr>\n",
       "    <tr>\n",
       "      <th>286</th>\n",
       "      <td>287</td>\n",
       "      <td>二月</td>\n",
       "      <td>\\N</td>\n",
       "      <td>èryuè</td>\n",
       "      <td>February / the Second Month</td>\n",
       "    </tr>\n",
       "    <tr>\n",
       "      <th>287</th>\n",
       "      <td>288</td>\n",
       "      <td>三月</td>\n",
       "      <td>\\N</td>\n",
       "      <td>sānyuè</td>\n",
       "      <td>March / the Third Month</td>\n",
       "    </tr>\n",
       "  </tbody>\n",
       "</table>\n",
       "</div>"
      ],
      "text/plain": [
       "      id simplified traditional    pinyin                      english\n",
       "269  270         收听          收聽  shōutīng                 to listen to\n",
       "279  280          听           聽      tīng                    to listen\n",
       "285  286         一月          \\N     yīyuè    January / the First Month\n",
       "286  287         二月          \\N     èryuè  February / the Second Month\n",
       "287  288         三月          \\N    sānyuè      March / the Third Month"
      ]
     },
     "execution_count": 25,
     "metadata": {},
     "output_type": "execute_result"
    }
   ],
   "source": [
    "# Words with no notes\n",
    "df.ix[df.notes == '\\N', :5].head()"
   ]
  },
  {
   "cell_type": "code",
   "execution_count": 115,
   "metadata": {
    "collapsed": false
   },
   "outputs": [
    {
     "name": "stdout",
     "output_type": "stream",
     "text": [
      "权\n",
      "权\n",
      "權\n",
      "quán\n",
      "English: 10\n",
      "Grammar: 10\n",
      "Concept: 10\n",
      "Domain: 10\n",
      "Note: 10\n"
     ]
    }
   ],
   "source": [
    "# Find simplified and pinyin from a traditional text string\n",
    "luid = 2886\n",
    "tradArr = [\"權\"]\n",
    "english = [u\"authority / power\",\n",
    "           u\"a sliding weight\",\n",
    "           u\"Quan\",\n",
    "           u\"to assess / to weigh\",\n",
    "           u\"a right\",\n",
    "           u\"an advantage\",\n",
    "           u\"tentatively / temporarily\",\n",
    "           u\"adaptive / flexible\",\n",
    "           u\"expedient\",\n",
    "           u\"a kind of tree\"]\n",
    "grammar = [\"noun\",\n",
    "           \"noun\",\n",
    "           \"proper noun\",\n",
    "           \"verb\",\n",
    "           \"noun\",\n",
    "           \"noun\",\n",
    "           \"adverb\",\n",
    "           \"adjective\",\n",
    "           \"adjective\",\n",
    "           \"noun\"]\n",
    "concept = [u\"\\\\N\\t\\\\N\",\n",
    "           u\"\\\\N\\t\\\\N\",\n",
    "           u\"姓氏\\tSurname\",\n",
    "           u\"\\\\N\\t\\\\N\",\n",
    "           u\"\\\\N\\t\\\\N\",\n",
    "           u\"\\\\N\\t\\\\N\",\n",
    "           u\"\\\\N\\t\\\\N\",\n",
    "           u\"\\\\N\\t\\\\N\",\n",
    "           u\"\\\\N\\t\\\\N\",\n",
    "           u\"\\\\N\\t\\\\N\"]\n",
    "domain = [u\"古文\\tClassical Chinese\",\n",
    "          u\"古文\\tClassical Chinese\",\n",
    "          u\"名字\\tNames\",\n",
    "          u\"古文\\tClassical Chinese\",\n",
    "          u\"古文\\tClassical Chinese\", \n",
    "          u\"古文\\tClassical Chinese\",\n",
    "          u\"古文\\tClassical Chinese\",\n",
    "          u\"古文\\tClassical Chinese\",\n",
    "          u\"佛教\\tBuddhism\",\n",
    "          u\"古文\\tClassical Chinese\"]\n",
    "subdomain = u\"\\\\N\\t\\\\N\"\n",
    "note = [\"\",\n",
    "        u\"As used in a steelyard \",\n",
    "        \"\",\n",
    "        u\"In the sense of 权衡 \",\n",
    "        \"\",\n",
    "        \"\", \n",
    "        \"\",\n",
    "        \"\",\n",
    "        u\"For example, 善權 'expedient means'. See 方便. \"\n",
    "        \"\",\n",
    "        \"\"]\n",
    "\n",
    "# Generated\n",
    "traditional = \"\"\n",
    "simplified = \"\"\n",
    "pinyin = \"\"\n",
    "for t in tradArr:\n",
    "  sDF = df[df.traditional == t]['simplified']\n",
    "  tDF = df[df.traditional == t]['traditional']\n",
    "  pDF = df[df.traditional == t]['pinyin']\n",
    "  if sDF.count() > 0:\n",
    "    simplified += sDF.iloc[0].decode('utf-8')\n",
    "    traditional +=tDF.iloc[0].decode('utf-8')\n",
    "    pinyin += pDF.iloc[0].decode('utf-8') + \" \"\n",
    "  else:\n",
    "    sDF = df[df.simplified == t]['simplified']\n",
    "    tDF = df[df.simplified == t]['simplified']\n",
    "    pDF = df[df.simplified == t]['pinyin']\n",
    "    if sDF.count() > 0:\n",
    "      simplified += sDF.iloc[0].decode('utf-8')\n",
    "      traditional += sDF.iloc[0].decode('utf-8')\n",
    "      pinyin += pDF.iloc[0].decode('utf-8') + \" \"\n",
    "    else:\n",
    "      print \"%s not found\" % t\n",
    "pinyin.strip()\n",
    "print simplified\n",
    "trad = traditional\n",
    "if simplified == traditional:\n",
    "  trad = \"\\\\N\"\n",
    "pinyin = pinyin.replace(\" \", \"\")\n",
    "print simplified\n",
    "print trad\n",
    "print pinyin\n",
    "print \"English: %d\" % len(english)\n",
    "print \"Grammar: %d\" % len(grammar)\n",
    "print \"Concept: %d\" % len(concept)\n",
    "print \"Domain: %d\" % len(domain)\n",
    "print \"Note: %d\" % len(note)"
   ]
  },
  {
   "cell_type": "code",
   "execution_count": 116,
   "metadata": {
    "collapsed": false
   },
   "outputs": [
    {
     "name": "stdout",
     "output_type": "stream",
     "text": [
      "2886\t权\t權\tquán\tauthority / power\tnoun\t\\N\t\\N\t古文\tClassical Chinese\t\\N\t\\N\t\\N\t\\N\t(ABC 'quán' n 2; CED '权' 3; Kroll '權' 2)\t2886\n",
      "2886\t权\t權\tquán\ta sliding weight\tnoun\t\\N\t\\N\t古文\tClassical Chinese\t\\N\t\\N\t\\N\t\\N\tAs used in a steelyard (ABC 'quán' n 1; CED '权' 1; Kroll '權' 1; GHC '权' 1)\t2886\n",
      "2886\t权\t權\tquán\tQuan\tproper noun\t姓氏\tSurname\t名字\tNames\t\\N\t\\N\t\\N\t\\N\t(ABC 'quán' n 3; CED '权' 8)\t2886\n",
      "2886\t权\t權\tquán\tto assess / to weigh\tverb\t\\N\t\\N\t古文\tClassical Chinese\t\\N\t\\N\t\\N\t\\N\tIn the sense of 权衡 (ABC 'quán' bf; CED '权' 2; Kroll '權' 1a)\t2886\n",
      "2886\t权\t權\tquán\ta right\tnoun\t\\N\t\\N\t古文\tClassical Chinese\t\\N\t\\N\t\\N\t\\N\t(CED '权' 4)\t2886\n",
      "2886\t权\t權\tquán\tan advantage\tnoun\t\\N\t\\N\t古文\tClassical Chinese\t\\N\t\\N\t\\N\t\\N\t(CED '权' 5; Kroll '權' 2a)\t2886\n",
      "2886\t权\t權\tquán\ttentatively / temporarily\tadverb\t\\N\t\\N\t古文\tClassical Chinese\t\\N\t\\N\t\\N\t\\N\t(CED '权' 7)\t2886\n",
      "2886\t权\t權\tquán\tadaptive / flexible\tadjective\t\\N\t\\N\t古文\tClassical Chinese\t\\N\t\\N\t\\N\t\\N\t(CED '权' 6; Kroll '權' 3)\t2886\n",
      "2886\t权\t權\tquán\texpedient\tadjective\t\\N\t\\N\t佛教\tBuddhism\t\\N\t\\N\t\\N\t\\N\tFor example, 善權 'expedient means'. See 方便. (Kroll '權' 3a; FGDB '方便')\t2886\n",
      "2886\t权\t權\tquán\ta kind of tree\tnoun\t\\N\t\\N\t古文\tClassical Chinese\t\\N\t\\N\t\\N\t\\N\t(GHC '权' 2)\t2886\n"
     ]
    }
   ],
   "source": [
    "# Input - \n",
    "#pinyin = u\"tài\" # override for variant pronounciations\n",
    "\n",
    "# Modify references as needed\n",
    "# Repeat this for each lexical unit. See abbreviations.html for the abbreviations.\n",
    "abc1 = u\"ABC '%s' n 2\" % pinyin\n",
    "abc2 = u\"ABC '%s' n 1\" % pinyin\n",
    "abc3 = u\"ABC '%s' n 3\" % pinyin\n",
    "abc4 = u\"ABC '%s' bf\" % pinyin\n",
    "ced1 = u\"CED '%s' 3\" % simplified\n",
    "ced2 = u\"CED '%s' 1\" % simplified\n",
    "ced3 = u\"CED '%s' 8\" % simplified\n",
    "ced4 = u\"CED '%s' 2\" % simplified\n",
    "ced5 = u\"CED '%s' 4\" % simplified\n",
    "ced6 = u\"CED '%s' 5\" % simplified\n",
    "ced7 = u\"CED '%s' 7\" % simplified\n",
    "ced8 = u\"CED '%s' 6\" % simplified\n",
    "k1 = u\"Kroll '%s' 2\" % traditional\n",
    "k2 = u\"Kroll '%s' 1\" % traditional\n",
    "k4 = u\"Kroll '%s' 1a\" % traditional\n",
    "k6 = u\"Kroll '%s' 2a\" % traditional\n",
    "k8 = u\"Kroll '%s' 3\" % traditional\n",
    "k9 = u\"Kroll '%s' 3a\" % traditional\n",
    "fgdb9 = u\"FGDB '方便'\"\n",
    "ghc2 = u\"GHC '%s' 1\" % simplified\n",
    "ghc10 = u\"GHC '%s' 2\" % simplified\n",
    "\n",
    "#ncced = u\"NCCED '%s' 6\" % simplified\n",
    "#ncced = u\"\"\n",
    "# add more references as needed\n",
    "\n",
    "# References\n",
    "refArr = [[abc1, ced1, k1],\n",
    "          [abc2, ced2, k2, ghc2],\n",
    "          [abc3, ced3],\n",
    "          [abc4, ced4, k4],\n",
    "          [ced5],\n",
    "          [ced6, k6],\n",
    "          [ced7],\n",
    "          [ced8, k8],\n",
    "          [k9, fgdb9],\n",
    "          [ghc10]\n",
    "         ]\n",
    "for i in range(len(english)):\n",
    "  ref = u\"\"\n",
    "  for r in refArr[i]:\n",
    "    if r != \"\":\n",
    "      ref += r + \"; \"\n",
    "  ref = re.sub(\"; $\", \"\", ref)\n",
    "  if ref != \"\":\n",
    "    ref = u\"(%s)\" % ref\n",
    "\n",
    "  notes = u\"%s%s\" % (note[i], ref)\n",
    "  print u\"%d\\t%s\\t%s\\t%s\\t%s\\t%s\\t%s\\t%s\\t%s\\t\\\\N\\t\\\\N\\t%s\\t%d\" % (\n",
    "      luid, simplified, trad, pinyin, english[i], grammar[i], \n",
    "      concept[i], domain[i], subdomain, notes, luid)"
   ]
  },
  {
   "cell_type": "code",
   "execution_count": null,
   "metadata": {
    "collapsed": true
   },
   "outputs": [],
   "source": []
  }
 ],
 "metadata": {
  "kernelspec": {
   "display_name": "Python 2",
   "language": "python",
   "name": "python2"
  },
  "language_info": {
   "codemirror_mode": {
    "name": "ipython",
    "version": 2
   },
   "file_extension": ".py",
   "mimetype": "text/x-python",
   "name": "python",
   "nbconvert_exporter": "python",
   "pygments_lexer": "ipython2",
   "version": "2.7.10"
  }
 },
 "nbformat": 4,
 "nbformat_minor": 0
}
