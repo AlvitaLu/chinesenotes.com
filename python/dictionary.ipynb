{
 "cells": [
  {
   "cell_type": "markdown",
   "metadata": {},
   "source": [
    "# Notebook for Exploring the Chinese-English Dictionary"
   ]
  },
  {
   "cell_type": "code",
   "execution_count": 27,
   "metadata": {
    "collapsed": false
   },
   "outputs": [
    {
     "name": "stdout",
     "output_type": "stream",
     "text": [
      "Number of lexical units: 58428\n",
      "Number of headwords: 47220\n",
      "Example row\n"
     ]
    },
    {
     "data": {
      "text/html": [
       "<div>\n",
       "<table border=\"1\" class=\"dataframe\">\n",
       "  <thead>\n",
       "    <tr style=\"text-align: right;\">\n",
       "      <th></th>\n",
       "      <th>id</th>\n",
       "      <th>simplified</th>\n",
       "      <th>traditional</th>\n",
       "      <th>pinyin</th>\n",
       "      <th>english</th>\n",
       "      <th>grammar</th>\n",
       "      <th>concept_cn</th>\n",
       "      <th>concept_en</th>\n",
       "      <th>domain_cn</th>\n",
       "      <th>domain_en</th>\n",
       "      <th>subdomain_cn</th>\n",
       "      <th>subdomain_en</th>\n",
       "      <th>image</th>\n",
       "      <th>mp3</th>\n",
       "      <th>notes</th>\n",
       "      <th>headword</th>\n",
       "    </tr>\n",
       "  </thead>\n",
       "  <tbody>\n",
       "    <tr>\n",
       "      <th>3617</th>\n",
       "      <td>3618</td>\n",
       "      <td>佛</td>\n",
       "      <td>\\N</td>\n",
       "      <td>fó</td>\n",
       "      <td>Buddha / Awakened One</td>\n",
       "      <td>proper noun</td>\n",
       "      <td>\\N</td>\n",
       "      <td>\\N</td>\n",
       "      <td>佛教</td>\n",
       "      <td>Buddhism</td>\n",
       "      <td>\\N</td>\n",
       "      <td>\\N</td>\n",
       "      <td>\\N</td>\n",
       "      <td>fo2.mp3</td>\n",
       "      <td>Sanskrit: buddha, Pali: buddha, Japanese: buts...</td>\n",
       "      <td>3618</td>\n",
       "    </tr>\n",
       "  </tbody>\n",
       "</table>\n",
       "</div>"
      ],
      "text/plain": [
       "        id simplified traditional pinyin                english      grammar  \\\n",
       "3617  3618          佛          \\N     fó  Buddha / Awakened One  proper noun   \n",
       "\n",
       "     concept_cn concept_en domain_cn domain_en subdomain_cn subdomain_en  \\\n",
       "3617         \\N         \\N        佛教  Buddhism           \\N           \\N   \n",
       "\n",
       "     image      mp3                                              notes  \\\n",
       "3617    \\N  fo2.mp3  Sanskrit: buddha, Pali: buddha, Japanese: buts...   \n",
       "\n",
       "      headword  \n",
       "3617      3618  "
      ]
     },
     "execution_count": 27,
     "metadata": {},
     "output_type": "execute_result"
    }
   ],
   "source": [
    "import re\n",
    "import pandas as pd\n",
    "import numpy as np\n",
    "import matplotlib.pyplot as plt\n",
    "%matplotlib inline\n",
    "\n",
    "# Load lexical units table\n",
    "colnames = ['id', 'simplified', 'traditional', 'pinyin', \n",
    "            'english', 'grammar', 'concept_cn', 'concept_en', \n",
    "            'domain_cn', 'domain_en', 'subdomain_cn', 'subdomain_en',\n",
    "            'image', 'mp3', 'notes', 'headword']\n",
    "types = {'id': np.uint32, 'simplified': np.object, 'traditional': np.object, \n",
    "        'pinyin': np.object, 'english': np.object, 'grammar': np.object,\n",
    "        'concept_cn': np.object, 'concept_en': np.object,\n",
    "        'domain_cn': np.object, 'domain_en': np.object, 'subdomain_cn': np.object,\n",
    "         'subdomain_en': np.object, 'image': np.object, 'mp3': np.object,\n",
    "         'notes': np.object, 'headword': np.uint32}\n",
    "df = pd.read_table('../data/words.txt', names=colnames, dtype=types)\n",
    "print \"Number of lexical units: %d\" % df['id'].count()\n",
    "\n",
    "print \"Number of headwords: %d\" % len(df['headword'].unique())\n",
    "\n",
    "print \"Example row\"\n",
    "df[df.simplified == '佛'][:1]"
   ]
  },
  {
   "cell_type": "code",
   "execution_count": 28,
   "metadata": {
    "collapsed": false
   },
   "outputs": [
    {
     "data": {
      "text/plain": [
       "noun              20960\n",
       "proper noun       12518\n",
       "verb              11742\n",
       "adjective          4859\n",
       "\\N                 3062\n",
       "phrase             1651\n",
       "set phrase         1012\n",
       "adverb              869\n",
       "measure word        318\n",
       "pronoun             225\n",
       "phonetic            213\n",
       "conjunction         202\n",
       "particle            124\n",
       "number              117\n",
       "foreign             115\n",
       "preposition         106\n",
       "onomatopoeia         82\n",
       "interjection         65\n",
       "bound form           41\n",
       "ordinal              37\n",
       "pattern              30\n",
       "auxiliary verb       26\n",
       "suffix               25\n",
       "prefix               11\n",
       "expression           10\n",
       "radical               6\n",
       "infix                 2\n",
       "Name: grammar, dtype: int64"
      ]
     },
     "execution_count": 28,
     "metadata": {},
     "output_type": "execute_result"
    }
   ],
   "source": [
    "# Counts for different parts of speech\n",
    "df['grammar'].value_counts()"
   ]
  },
  {
   "cell_type": "code",
   "execution_count": 29,
   "metadata": {
    "collapsed": false
   },
   "outputs": [
    {
     "data": {
      "text/plain": [
       "<matplotlib.axes.AxesSubplot at 0x1134997d0>"
      ]
     },
     "execution_count": 29,
     "metadata": {},
     "output_type": "execute_result"
    },
    {
     "data": {
      "image/png": "[encoded data removed]",
      "text/plain": [
       "<matplotlib.figure.Figure at 0x112790590>"
      ]
     },
     "metadata": {},
     "output_type": "display_data"
    }
   ],
   "source": [
    "# Histogram for different parts of speech\n",
    "df['grammar'].value_counts()[:10].plot(kind='bar')"
   ]
  },
  {
   "cell_type": "code",
   "execution_count": 30,
   "metadata": {
    "collapsed": false
   },
   "outputs": [
    {
     "data": {
      "text/plain": [
       "Classical Chinese    16474\n",
       "Buddhism              8556\n",
       "History               2789\n",
       "Actions               1512\n",
       "Condition             1102\n",
       "Places                1076\n",
       "Geography              897\n",
       "Language               822\n",
       "Thought                802\n",
       "Emotion                801\n",
       "Name: domain_en, dtype: int64"
      ]
     },
     "execution_count": 30,
     "metadata": {},
     "output_type": "execute_result"
    }
   ],
   "source": [
    "# Counts for lexical units of different domains\n",
    "df['domain_en'].value_counts()[:10]"
   ]
  },
  {
   "cell_type": "code",
   "execution_count": 10,
   "metadata": {
    "collapsed": false
   },
   "outputs": [
    {
     "data": {
      "text/plain": [
       "<matplotlib.axes.AxesSubplot at 0x113da7890>"
      ]
     },
     "execution_count": 10,
     "metadata": {},
     "output_type": "execute_result"
    },
    {
     "data": {
      "image/png": "[encoded data removed]",
      "text/plain": [
       "<matplotlib.figure.Figure at 0x10d15fa90>"
      ]
     },
     "metadata": {},
     "output_type": "display_data"
    }
   ],
   "source": [
    "# Histogram for different domains\n",
    "df['domain_en'].value_counts()[:10].plot(kind='bar')"
   ]
  },
  {
   "cell_type": "code",
   "execution_count": 6,
   "metadata": {
    "collapsed": false
   },
   "outputs": [
    {
     "data": {
      "text/plain": [
       "\\N          43456\n",
       "Sutra        1869\n",
       "Monastic      781\n",
       "Surname       378\n",
       "Temple        370\n",
       "City          359\n",
       "Emperor       338\n",
       "Country       284\n",
       "Treatise      265\n",
       "Book          257\n",
       "Name: concept_en, dtype: int64"
      ]
     },
     "execution_count": 6,
     "metadata": {},
     "output_type": "execute_result"
    }
   ],
   "source": [
    "df['concept_en'].value_counts()[:10]"
   ]
  },
  {
   "cell_type": "code",
   "execution_count": 11,
   "metadata": {
    "collapsed": false
   },
   "outputs": [
    {
     "data": {
      "text/plain": [
       "<matplotlib.axes.AxesSubplot at 0x112083350>"
      ]
     },
     "execution_count": 11,
     "metadata": {},
     "output_type": "execute_result"
    },
    {
     "data": {
      "image/png": "[encoded data removed]",
      "text/plain": [
       "<matplotlib.figure.Figure at 0x113da89d0>"
      ]
     },
     "metadata": {},
     "output_type": "display_data"
    }
   ],
   "source": [
    "# Histogram for different domains\n",
    "df['concept_en'].value_counts()[:10].plot(kind='bar')"
   ]
  },
  {
   "cell_type": "code",
   "execution_count": null,
   "metadata": {
    "collapsed": true
   },
   "outputs": [],
   "source": []
  }
 ],
 "metadata": {
  "kernelspec": {
   "display_name": "Python 2",
   "language": "python",
   "name": "python2"
  },
  "language_info": {
   "codemirror_mode": {
    "name": "ipython",
    "version": 2
   },
   "file_extension": ".py",
   "mimetype": "text/x-python",
   "name": "python",
   "nbconvert_exporter": "python",
   "pygments_lexer": "ipython2",
   "version": "2.7.10"
  }
 },
 "nbformat": 4,
 "nbformat_minor": 0
}
