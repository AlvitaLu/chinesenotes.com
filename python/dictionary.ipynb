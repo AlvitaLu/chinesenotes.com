{
 "cells": [
  {
   "cell_type": "markdown",
   "metadata": {},
   "source": [
    "# Notebook for exploring the Chinese-English Dictionary"
   ]
  },
  {
   "cell_type": "code",
   "execution_count": 1,
   "metadata": {
    "collapsed": true
   },
   "outputs": [],
   "source": [
    "import pandas as pd\n",
    "import numpy as np\n",
    "import matplotlib.pyplot as plt\n",
    "%matplotlib inline"
   ]
  },
  {
   "cell_type": "code",
   "execution_count": 2,
   "metadata": {
    "collapsed": false
   },
   "outputs": [
    {
     "data": {
      "text/plain": [
       "45676"
      ]
     },
     "execution_count": 2,
     "metadata": {},
     "output_type": "execute_result"
    }
   ],
   "source": [
    "# Load lexical units table\n",
    "colnames = ['id', 'simplified', 'traditional', 'pinyin', \n",
    "            'english', 'grammar', 'concept_cn', 'concept_en', \n",
    "            'domain_cn', 'domain_en', 'subdomain_cn', 'subdomain_en',\n",
    "            'image', 'mp3', 'notes', 'headword']\n",
    "types = {'id': np.uint32, 'simplified': np.object, 'traditional': np.object, \n",
    "        'pinyin': np.object, 'english': np.object, 'grammar': np.object,\n",
    "        'concept_cn': np.object, 'concept_en': np.object,\n",
    "        'domain_cn': np.object, 'domain_en': np.object, 'subdomain_cn': np.object,\n",
    "         'subdomain_en': np.object, 'image': np.object, 'mp3': np.object,\n",
    "         'notes': np.object, 'headword': np.uint32}\n",
    "df = pd.read_table('../data/words.txt', names=colnames, dtype=types)\n",
    "df['id'].count() # Number of lexical units"
   ]
  },
  {
   "cell_type": "code",
   "execution_count": 10,
   "metadata": {
    "collapsed": false
   },
   "outputs": [
    {
     "data": {
      "text/plain": [
       "37186"
      ]
     },
     "execution_count": 10,
     "metadata": {},
     "output_type": "execute_result"
    }
   ],
   "source": [
    "# Unique headwords\n",
    "len(df['headword'].unique())"
   ]
  },
  {
   "cell_type": "code",
   "execution_count": 3,
   "metadata": {
    "collapsed": false
   },
   "outputs": [
    {
     "data": {
      "text/html": [
       "<div>\n",
       "<table border=\"1\" class=\"dataframe\">\n",
       "  <thead>\n",
       "    <tr style=\"text-align: right;\">\n",
       "      <th></th>\n",
       "      <th>id</th>\n",
       "      <th>simplified</th>\n",
       "      <th>traditional</th>\n",
       "      <th>pinyin</th>\n",
       "      <th>english</th>\n",
       "      <th>grammar</th>\n",
       "      <th>concept_cn</th>\n",
       "      <th>concept_en</th>\n",
       "      <th>domain_cn</th>\n",
       "      <th>domain_en</th>\n",
       "      <th>subdomain_cn</th>\n",
       "      <th>subdomain_en</th>\n",
       "      <th>image</th>\n",
       "      <th>mp3</th>\n",
       "      <th>notes</th>\n",
       "      <th>headword</th>\n",
       "    </tr>\n",
       "  </thead>\n",
       "  <tbody>\n",
       "    <tr>\n",
       "      <th>3617</th>\n",
       "      <td>3618</td>\n",
       "      <td>佛</td>\n",
       "      <td>\\N</td>\n",
       "      <td>fó</td>\n",
       "      <td>Buddha / Awakened One</td>\n",
       "      <td>proper noun</td>\n",
       "      <td>\\N</td>\n",
       "      <td>\\N</td>\n",
       "      <td>佛教</td>\n",
       "      <td>Buddhism</td>\n",
       "      <td>\\N</td>\n",
       "      <td>\\N</td>\n",
       "      <td>\\N</td>\n",
       "      <td>fo2.mp3</td>\n",
       "      <td>Sanskrit: buddha, Pali: buddha, Japanese: buts...</td>\n",
       "      <td>3618</td>\n",
       "    </tr>\n",
       "    <tr>\n",
       "      <th>3618</th>\n",
       "      <td>3619</td>\n",
       "      <td>佛</td>\n",
       "      <td>\\N</td>\n",
       "      <td>fó</td>\n",
       "      <td>Buddhist / of Buddhism</td>\n",
       "      <td>adjective</td>\n",
       "      <td>\\N</td>\n",
       "      <td>\\N</td>\n",
       "      <td>佛教</td>\n",
       "      <td>Buddhism</td>\n",
       "      <td>\\N</td>\n",
       "      <td>\\N</td>\n",
       "      <td>\\N</td>\n",
       "      <td>fo2.mp3</td>\n",
       "      <td>As a modifier describing a concept that relate...</td>\n",
       "      <td>3618</td>\n",
       "    </tr>\n",
       "  </tbody>\n",
       "</table>\n",
       "</div>"
      ],
      "text/plain": [
       "        id simplified traditional pinyin                 english      grammar  \\\n",
       "3617  3618          佛          \\N     fó   Buddha / Awakened One  proper noun   \n",
       "3618  3619          佛          \\N     fó  Buddhist / of Buddhism    adjective   \n",
       "\n",
       "     concept_cn concept_en domain_cn domain_en subdomain_cn subdomain_en  \\\n",
       "3617         \\N         \\N        佛教  Buddhism           \\N           \\N   \n",
       "3618         \\N         \\N        佛教  Buddhism           \\N           \\N   \n",
       "\n",
       "     image      mp3                                              notes  \\\n",
       "3617    \\N  fo2.mp3  Sanskrit: buddha, Pali: buddha, Japanese: buts...   \n",
       "3618    \\N  fo2.mp3  As a modifier describing a concept that relate...   \n",
       "\n",
       "      headword  \n",
       "3617      3618  \n",
       "3618      3618  "
      ]
     },
     "execution_count": 3,
     "metadata": {},
     "output_type": "execute_result"
    }
   ],
   "source": [
    "# Example row\n",
    "df[df.simplified == '佛']"
   ]
  },
  {
   "cell_type": "code",
   "execution_count": 4,
   "metadata": {
    "collapsed": false
   },
   "outputs": [
    {
     "data": {
      "text/plain": [
       "noun              17702\n",
       "verb               9978\n",
       "proper noun        9195\n",
       "adjective          3990\n",
       "phrase             1568\n",
       "adverb              788\n",
       "set phrase          726\n",
       "measure word        306\n",
       "pronoun             214\n",
       "conjunction         196\n",
       "phonetic            192\n",
       "number              113\n",
       "foreign             111\n",
       "\\N                  111\n",
       "particle            102\n",
       "preposition          97\n",
       "onomatopoeia         70\n",
       "interjection         55\n",
       "ordinal              35\n",
       "pattern              30\n",
       "auxiliary verb       25\n",
       "bound form           24\n",
       "suffix               21\n",
       "expression           10\n",
       "prefix               10\n",
       "radical               5\n",
       "infix                 2\n",
       "Name: grammar, dtype: int64"
      ]
     },
     "execution_count": 4,
     "metadata": {},
     "output_type": "execute_result"
    }
   ],
   "source": [
    "# Counts for different parts of speech\n",
    "df['grammar'].value_counts()"
   ]
  },
  {
   "cell_type": "code",
   "execution_count": 5,
   "metadata": {
    "collapsed": false
   },
   "outputs": [
    {
     "data": {
      "text/plain": [
       "<matplotlib.axes.AxesSubplot at 0x10f81f790>"
      ]
     },
     "execution_count": 5,
     "metadata": {},
     "output_type": "execute_result"
    },
    {
     "data": {
      "image/png": "[encoded data removed]",
      "text/plain": [
       "<matplotlib.figure.Figure at 0x10f80d910>"
      ]
     },
     "metadata": {},
     "output_type": "display_data"
    }
   ],
   "source": [
    "# Histogram for different parts of speech\n",
    "df['grammar'].value_counts()[:10].plot(kind='bar')"
   ]
  },
  {
   "cell_type": "code",
   "execution_count": 6,
   "metadata": {
    "collapsed": false
   },
   "outputs": [
    {
     "data": {
      "text/plain": [
       "Classical Chinese         8077\n",
       "Buddhism                  5059\n",
       "History                   2652\n",
       "Actions                   1541\n",
       "Condition                 1097\n",
       "Places                     990\n",
       "Geography                  876\n",
       "Emotion                    797\n",
       "Language                   792\n",
       "Thought                    785\n",
       "Health                     772\n",
       "Quantity                   724\n",
       "Information Technology     719\n",
       "Time                       654\n",
       "Characteristic             638\n",
       "Food and Drink             621\n",
       "Function Words             608\n",
       "Idiom                      594\n",
       "Form                       566\n",
       "Art                        544\n",
       "Linguistics                473\n",
       "Names                      453\n",
       "Religion                   411\n",
       "Movement                   402\n",
       "Ethics                     395\n",
       "Work                       377\n",
       "Position                   367\n",
       "Architecture               366\n",
       "Nature                     348\n",
       "Law                        347\n",
       "                          ... \n",
       "Computer Science            16\n",
       "Chinese medicine            15\n",
       "Taoism                      15\n",
       "Attempt                     14\n",
       "Affixes                     13\n",
       "Archaeology                 13\n",
       "\\N                          13\n",
       "Space Flight                13\n",
       "Climate                     11\n",
       "Facilities                  11\n",
       "Chinese Medicine            10\n",
       "Material Object             10\n",
       "Logic                        9\n",
       "Abstract                     9\n",
       "Danger                       9\n",
       "Mountaineering               7\n",
       "Toys                         7\n",
       "Entertainment                6\n",
       "Hunting                      6\n",
       "Pianpang                     5\n",
       "Cosmetic                     4\n",
       "Research                     3\n",
       "Electrical Engineering       3\n",
       "Social Work                  3\n",
       "Social Science               3\n",
       "Kungfu                       3\n",
       "Japanese                     3\n",
       "furniture                    3\n",
       "Utensil                      2\n",
       "Meditation                   2\n",
       "Name: domain_en, dtype: int64"
      ]
     },
     "execution_count": 6,
     "metadata": {},
     "output_type": "execute_result"
    }
   ],
   "source": [
    "# Counts for lexical units of different domains\n",
    "df['domain_en'].value_counts()"
   ]
  },
  {
   "cell_type": "code",
   "execution_count": 7,
   "metadata": {
    "collapsed": false
   },
   "outputs": [
    {
     "data": {
      "text/plain": [
       "<matplotlib.axes.AxesSubplot at 0x10f81fad0>"
      ]
     },
     "execution_count": 7,
     "metadata": {},
     "output_type": "execute_result"
    },
    {
     "data": {
      "image/png": "[encoded data removed]",
      "text/plain": [
       "<matplotlib.figure.Figure at 0x10c459110>"
      ]
     },
     "metadata": {},
     "output_type": "display_data"
    }
   ],
   "source": [
    "# Histogram for different domains\n",
    "df['domain_en'].value_counts()[:10].plot(kind='bar')"
   ]
  },
  {
   "cell_type": "code",
   "execution_count": 11,
   "metadata": {
    "collapsed": false
   },
   "outputs": [
    {
     "data": {
      "text/html": [
       "<div>\n",
       "<table border=\"1\" class=\"dataframe\">\n",
       "  <thead>\n",
       "    <tr style=\"text-align: right;\">\n",
       "      <th></th>\n",
       "      <th>id</th>\n",
       "      <th>simplified</th>\n",
       "      <th>traditional</th>\n",
       "      <th>pinyin</th>\n",
       "      <th>english</th>\n",
       "    </tr>\n",
       "  </thead>\n",
       "  <tbody>\n",
       "    <tr>\n",
       "      <th>267</th>\n",
       "      <td>268</td>\n",
       "      <td>节目</td>\n",
       "      <td>節目</td>\n",
       "      <td>jiémù</td>\n",
       "      <td>program</td>\n",
       "    </tr>\n",
       "    <tr>\n",
       "      <th>268</th>\n",
       "      <td>269</td>\n",
       "      <td>欢迎</td>\n",
       "      <td>歡迎</td>\n",
       "      <td>huānyíng</td>\n",
       "      <td>to welcome</td>\n",
       "    </tr>\n",
       "    <tr>\n",
       "      <th>269</th>\n",
       "      <td>270</td>\n",
       "      <td>收听</td>\n",
       "      <td>收聽</td>\n",
       "      <td>shōutīng</td>\n",
       "      <td>to listen to</td>\n",
       "    </tr>\n",
       "    <tr>\n",
       "      <th>273</th>\n",
       "      <td>274</td>\n",
       "      <td>波</td>\n",
       "      <td>\\N</td>\n",
       "      <td>bō</td>\n",
       "      <td>to broadcast</td>\n",
       "    </tr>\n",
       "    <tr>\n",
       "      <th>274</th>\n",
       "      <td>275</td>\n",
       "      <td>出</td>\n",
       "      <td>\\N</td>\n",
       "      <td>chū</td>\n",
       "      <td>to go out</td>\n",
       "    </tr>\n",
       "  </tbody>\n",
       "</table>\n",
       "</div>"
      ],
      "text/plain": [
       "      id simplified traditional    pinyin       english\n",
       "267  268         节目          節目     jiémù       program\n",
       "268  269         欢迎          歡迎  huānyíng    to welcome\n",
       "269  270         收听          收聽  shōutīng  to listen to\n",
       "273  274          波          \\N        bō  to broadcast\n",
       "274  275          出          \\N       chū     to go out"
      ]
     },
     "execution_count": 11,
     "metadata": {},
     "output_type": "execute_result"
    }
   ],
   "source": [
    "# Words with no notes\n",
    "df.ix[df.notes == '\\N', :5].head()"
   ]
  },
  {
   "cell_type": "code",
   "execution_count": 23,
   "metadata": {
    "collapsed": false
   },
   "outputs": [
    {
     "name": "stdout",
     "output_type": "stream",
     "text": [
      "45678\t法镜经\t法鏡經\tFǎ Jìng Jīng\tUgradattaparipṛcchā (Fa Jing Jing)\tproper noun\t经\tSutra\t佛教\tBuddhism\t大乘佛教\tMahāyāna Buddhism\t\\N\t\\N\tFrom Sanskrit: ugradattaparipṛcchā; a text in the Chinese Buddhist canon (T 322; Lancaster 2004, K 32)\t45678\n"
     ]
    }
   ],
   "source": [
    "# Add a Taisho title\n",
    "# As a word entry in the dictionary\n",
    "luid = 45678\n",
    "simplified = u\"法镜经\"\n",
    "traditional = u\"法鏡經\"\n",
    "pinyin = u\"Fǎ Jìng Jīng\"\n",
    "english = u\"Ugradattaparipṛcchā (Fa Jing Jing)\"\n",
    "grammar = \"proper noun\"\n",
    "concept = u\"经\\tSutra\"\n",
    "domain = u\"佛教\\tBuddhism\"\n",
    "subdomain = u\"大乘佛教\\tMahāyāna Buddhism\"\n",
    "tid = 322\n",
    "kid = 32\n",
    "notes = u\"From Sanskrit: ugradattaparipṛcchā; a text in the Chinese Buddhist canon (T %d; Lancaster 2004, K %d)\" % (\n",
    "    tid, kid)\n",
    "print u\"%d\\t%s\\t%s\\t%s\\t%s\\t%s\\t%s\\t%s\\t%s\\t\\\\N\\t\\\\N\\t%s\\t%d\" % (\n",
    "    luid, simplified, traditional, pinyin, english, grammar, concept, domain, subdomain, notes, luid)"
   ]
  },
  {
   "cell_type": "code",
   "execution_count": 24,
   "metadata": {
    "collapsed": false
   },
   "outputs": [
    {
     "name": "stdout",
     "output_type": "stream",
     "text": [
      "Ugradattaparipṛcchā (Fa Jing Jing) 《法鏡經》\n"
     ]
    }
   ],
   "source": [
    "# Full title of the Taisho entry\n",
    "title = u\"%s 《%s》\" % (english, traditional)\n",
    "print title"
   ]
  },
  {
   "cell_type": "code",
   "execution_count": 26,
   "metadata": {
    "collapsed": false
   },
   "outputs": [
    {
     "name": "stdout",
     "output_type": "stream",
     "text": [
      "taisho/t0322.csv\ttaisho/t0322.html\tUgradattaparipṛcchā (Fa Jing Jing) 《法鏡經》\tTranslated by An Xuan\ttaisho/t0322_00.txt\tTaishō\tSūtra\t181\tratnakūṭa\n"
     ]
    }
   ],
   "source": [
    "# Collection entry\n",
    "translator = u\"An Xuan\"\n",
    "daterange = u\"181\"\n",
    "genre = u\"ratnakūṭa\"\n",
    "entry = u\"taisho/t0%d.csv\\ttaisho/t0%d.html\\t%s\\tTranslated by %s\\ttaisho/t0%d_00.txt\\tTaishō\\tSūtra\\t%s\\t%s\" % (\n",
    "    tid, tid, title, translator, tid, daterange, genre)\n",
    "print entry"
   ]
  },
  {
   "cell_type": "code",
   "execution_count": 29,
   "metadata": {
    "collapsed": false
   },
   "outputs": [
    {
     "name": "stdout",
     "output_type": "stream",
     "text": [
      "An Xuan, 《法鏡經》 'Ugradattaparipṛcchā (Fa Jing Jing),' in <i>Taishō shinshū Daizōkyō</i> 《大正新脩大藏經》, in Takakusu Junjiro, ed., (Tokyo: Taishō Shinshū Daizōkyō Kankōkai, 1988), Vol. 12, No. 322, Accessed 2016-08-31, <a href='http://tripitaka.cbeta.org/T12n0322'>http://tripitaka.cbeta.org/T12n0322</a>.\n"
     ]
    }
   ],
   "source": [
    "# Primary source reference\n",
    "url = u\"http://tripitaka.cbeta.org/T12n0322\"\n",
    "reference = u\"%s, 《%s》 '%s,' in <i>Taishō shinshū Daizōkyō</i> 《大正新脩大藏經》, in Takakusu Junjiro, ed., (Tokyo: Taishō Shinshū Daizōkyō Kankōkai, 1988), Vol. 12, No. %d, Accessed 2016-08-31, <a href='%s'>%s</a>.\" % (\n",
    "    translator, traditional, english, tid, url, url)\n",
    "print reference"
   ]
  },
  {
   "cell_type": "code",
   "execution_count": null,
   "metadata": {
    "collapsed": true
   },
   "outputs": [],
   "source": []
  }
 ],
 "metadata": {
  "kernelspec": {
   "display_name": "Python 2",
   "language": "python",
   "name": "python2"
  },
  "language_info": {
   "codemirror_mode": {
    "name": "ipython",
    "version": 2
   },
   "file_extension": ".py",
   "mimetype": "text/x-python",
   "name": "python",
   "nbconvert_exporter": "python",
   "pygments_lexer": "ipython2",
   "version": "2.7.10"
  }
 },
 "nbformat": 4,
 "nbformat_minor": 0
}
