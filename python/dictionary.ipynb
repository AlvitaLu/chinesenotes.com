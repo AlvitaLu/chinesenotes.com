{
 "cells": [
  {
   "cell_type": "markdown",
   "metadata": {},
   "source": [
    "# Notebook for exploring the Chinese-English Dictionary"
   ]
  },
  {
   "cell_type": "code",
   "execution_count": 1,
   "metadata": {
    "collapsed": false
   },
   "outputs": [
    {
     "name": "stdout",
     "output_type": "stream",
     "text": [
      "45890\n",
      "37329\n"
     ]
    },
    {
     "data": {
      "text/html": [
       "<div>\n",
       "<table border=\"1\" class=\"dataframe\">\n",
       "  <thead>\n",
       "    <tr style=\"text-align: right;\">\n",
       "      <th></th>\n",
       "      <th>id</th>\n",
       "      <th>simplified</th>\n",
       "      <th>traditional</th>\n",
       "      <th>pinyin</th>\n",
       "      <th>english</th>\n",
       "      <th>grammar</th>\n",
       "      <th>concept_cn</th>\n",
       "      <th>concept_en</th>\n",
       "      <th>domain_cn</th>\n",
       "      <th>domain_en</th>\n",
       "      <th>subdomain_cn</th>\n",
       "      <th>subdomain_en</th>\n",
       "      <th>image</th>\n",
       "      <th>mp3</th>\n",
       "      <th>notes</th>\n",
       "      <th>headword</th>\n",
       "    </tr>\n",
       "  </thead>\n",
       "  <tbody>\n",
       "    <tr>\n",
       "      <th>3617</th>\n",
       "      <td>3618</td>\n",
       "      <td>佛</td>\n",
       "      <td>\\N</td>\n",
       "      <td>fó</td>\n",
       "      <td>Buddha / Awakened One</td>\n",
       "      <td>proper noun</td>\n",
       "      <td>\\N</td>\n",
       "      <td>\\N</td>\n",
       "      <td>佛教</td>\n",
       "      <td>Buddhism</td>\n",
       "      <td>\\N</td>\n",
       "      <td>\\N</td>\n",
       "      <td>\\N</td>\n",
       "      <td>fo2.mp3</td>\n",
       "      <td>Sanskrit: buddha, Pali: buddha, Japanese: buts...</td>\n",
       "      <td>3618</td>\n",
       "    </tr>\n",
       "    <tr>\n",
       "      <th>3618</th>\n",
       "      <td>3619</td>\n",
       "      <td>佛</td>\n",
       "      <td>\\N</td>\n",
       "      <td>fó</td>\n",
       "      <td>Buddhist / of Buddhism</td>\n",
       "      <td>adjective</td>\n",
       "      <td>\\N</td>\n",
       "      <td>\\N</td>\n",
       "      <td>佛教</td>\n",
       "      <td>Buddhism</td>\n",
       "      <td>\\N</td>\n",
       "      <td>\\N</td>\n",
       "      <td>\\N</td>\n",
       "      <td>fo2.mp3</td>\n",
       "      <td>As a modifier describing a concept that relate...</td>\n",
       "      <td>3618</td>\n",
       "    </tr>\n",
       "  </tbody>\n",
       "</table>\n",
       "</div>"
      ],
      "text/plain": [
       "        id simplified traditional pinyin                 english      grammar  \\\n",
       "3617  3618          佛          \\N     fó   Buddha / Awakened One  proper noun   \n",
       "3618  3619          佛          \\N     fó  Buddhist / of Buddhism    adjective   \n",
       "\n",
       "     concept_cn concept_en domain_cn domain_en subdomain_cn subdomain_en  \\\n",
       "3617         \\N         \\N        佛教  Buddhism           \\N           \\N   \n",
       "3618         \\N         \\N        佛教  Buddhism           \\N           \\N   \n",
       "\n",
       "     image      mp3                                              notes  \\\n",
       "3617    \\N  fo2.mp3  Sanskrit: buddha, Pali: buddha, Japanese: buts...   \n",
       "3618    \\N  fo2.mp3  As a modifier describing a concept that relate...   \n",
       "\n",
       "      headword  \n",
       "3617      3618  \n",
       "3618      3618  "
      ]
     },
     "execution_count": 1,
     "metadata": {},
     "output_type": "execute_result"
    }
   ],
   "source": [
    "import re\n",
    "import pandas as pd\n",
    "import numpy as np\n",
    "import matplotlib.pyplot as plt\n",
    "%matplotlib inline\n",
    "\n",
    "# Load lexical units table\n",
    "colnames = ['id', 'simplified', 'traditional', 'pinyin', \n",
    "            'english', 'grammar', 'concept_cn', 'concept_en', \n",
    "            'domain_cn', 'domain_en', 'subdomain_cn', 'subdomain_en',\n",
    "            'image', 'mp3', 'notes', 'headword']\n",
    "types = {'id': np.uint32, 'simplified': np.object, 'traditional': np.object, \n",
    "        'pinyin': np.object, 'english': np.object, 'grammar': np.object,\n",
    "        'concept_cn': np.object, 'concept_en': np.object,\n",
    "        'domain_cn': np.object, 'domain_en': np.object, 'subdomain_cn': np.object,\n",
    "         'subdomain_en': np.object, 'image': np.object, 'mp3': np.object,\n",
    "         'notes': np.object, 'headword': np.uint32}\n",
    "df = pd.read_table('../data/words.txt', names=colnames, dtype=types)\n",
    "print df['id'].count() # Number of lexical units\n",
    "\n",
    "# Unique headwords\n",
    "print len(df['headword'].unique())\n",
    "\n",
    "# Example row\n",
    "df[df.simplified == '佛']"
   ]
  },
  {
   "cell_type": "code",
   "execution_count": 2,
   "metadata": {
    "collapsed": false
   },
   "outputs": [
    {
     "data": {
      "text/plain": [
       "noun              17747\n",
       "verb              10019\n",
       "proper noun        9283\n",
       "adjective          4007\n",
       "phrase             1573\n",
       "adverb              795\n",
       "set phrase          726\n",
       "measure word        306\n",
       "pronoun             214\n",
       "conjunction         196\n",
       "phonetic            192\n",
       "\\N                  121\n",
       "number              113\n",
       "foreign             111\n",
       "particle            102\n",
       "preposition          97\n",
       "onomatopoeia         70\n",
       "interjection         55\n",
       "ordinal              35\n",
       "pattern              30\n",
       "auxiliary verb       25\n",
       "bound form           25\n",
       "suffix               21\n",
       "expression           10\n",
       "prefix                9\n",
       "radical               6\n",
       "infix                 2\n",
       "Name: grammar, dtype: int64"
      ]
     },
     "execution_count": 2,
     "metadata": {},
     "output_type": "execute_result"
    }
   ],
   "source": [
    "# Counts for different parts of speech\n",
    "df['grammar'].value_counts()"
   ]
  },
  {
   "cell_type": "code",
   "execution_count": 3,
   "metadata": {
    "collapsed": false
   },
   "outputs": [
    {
     "data": {
      "text/plain": [
       "<matplotlib.axes.AxesSubplot at 0x103b5be90>"
      ]
     },
     "execution_count": 3,
     "metadata": {},
     "output_type": "execute_result"
    },
    {
     "data": {
      "image/png": "[encoded data removed]",
      "text/plain": [
       "<matplotlib.figure.Figure at 0x103b5bb50>"
      ]
     },
     "metadata": {},
     "output_type": "display_data"
    }
   ],
   "source": [
    "# Histogram for different parts of speech\n",
    "df['grammar'].value_counts()[:10].plot(kind='bar')"
   ]
  },
  {
   "cell_type": "code",
   "execution_count": 9,
   "metadata": {
    "collapsed": false
   },
   "outputs": [
    {
     "data": {
      "text/plain": [
       "Classical Chinese    8165\n",
       "Buddhism             5184\n",
       "History              2651\n",
       "Actions              1540\n",
       "Condition            1096\n",
       "Places                990\n",
       "Geography             876\n",
       "Emotion               797\n",
       "Language              792\n",
       "Thought               785\n",
       "Name: domain_en, dtype: int64"
      ]
     },
     "execution_count": 9,
     "metadata": {},
     "output_type": "execute_result"
    }
   ],
   "source": [
    "# Counts for lexical units of different domains\n",
    "df['domain_en'].value_counts()[:10]"
   ]
  },
  {
   "cell_type": "code",
   "execution_count": 5,
   "metadata": {
    "collapsed": false
   },
   "outputs": [
    {
     "data": {
      "text/plain": [
       "<matplotlib.axes.AxesSubplot at 0x103b5ba10>"
      ]
     },
     "execution_count": 5,
     "metadata": {},
     "output_type": "execute_result"
    },
    {
     "data": {
      "image/png": "[encoded data removed]",
      "text/plain": [
       "<matplotlib.figure.Figure at 0x10397c550>"
      ]
     },
     "metadata": {},
     "output_type": "display_data"
    }
   ],
   "source": [
    "# Histogram for different domains\n",
    "df['domain_en'].value_counts()[:10].plot(kind='bar')"
   ]
  },
  {
   "cell_type": "code",
   "execution_count": 6,
   "metadata": {
    "collapsed": false
   },
   "outputs": [
    {
     "data": {
      "text/html": [
       "<div>\n",
       "<table border=\"1\" class=\"dataframe\">\n",
       "  <thead>\n",
       "    <tr style=\"text-align: right;\">\n",
       "      <th></th>\n",
       "      <th>id</th>\n",
       "      <th>simplified</th>\n",
       "      <th>traditional</th>\n",
       "      <th>pinyin</th>\n",
       "      <th>english</th>\n",
       "    </tr>\n",
       "  </thead>\n",
       "  <tbody>\n",
       "    <tr>\n",
       "      <th>269</th>\n",
       "      <td>270</td>\n",
       "      <td>收听</td>\n",
       "      <td>收聽</td>\n",
       "      <td>shōutīng</td>\n",
       "      <td>to listen to</td>\n",
       "    </tr>\n",
       "    <tr>\n",
       "      <th>279</th>\n",
       "      <td>280</td>\n",
       "      <td>听</td>\n",
       "      <td>聽</td>\n",
       "      <td>tīng</td>\n",
       "      <td>to listen</td>\n",
       "    </tr>\n",
       "    <tr>\n",
       "      <th>285</th>\n",
       "      <td>286</td>\n",
       "      <td>一月</td>\n",
       "      <td>\\N</td>\n",
       "      <td>yīyuè</td>\n",
       "      <td>January / the First Month</td>\n",
       "    </tr>\n",
       "    <tr>\n",
       "      <th>286</th>\n",
       "      <td>287</td>\n",
       "      <td>二月</td>\n",
       "      <td>\\N</td>\n",
       "      <td>èryuè</td>\n",
       "      <td>February / the Second Month</td>\n",
       "    </tr>\n",
       "    <tr>\n",
       "      <th>287</th>\n",
       "      <td>288</td>\n",
       "      <td>三月</td>\n",
       "      <td>\\N</td>\n",
       "      <td>sānyuè</td>\n",
       "      <td>March / the Third Month</td>\n",
       "    </tr>\n",
       "  </tbody>\n",
       "</table>\n",
       "</div>"
      ],
      "text/plain": [
       "      id simplified traditional    pinyin                      english\n",
       "269  270         收听          收聽  shōutīng                 to listen to\n",
       "279  280          听           聽      tīng                    to listen\n",
       "285  286         一月          \\N     yīyuè    January / the First Month\n",
       "286  287         二月          \\N     èryuè  February / the Second Month\n",
       "287  288         三月          \\N    sānyuè      March / the Third Month"
      ]
     },
     "execution_count": 6,
     "metadata": {},
     "output_type": "execute_result"
    }
   ],
   "source": [
    "# Words with no notes\n",
    "df.ix[df.notes == '\\N', :5].head()"
   ]
  },
  {
   "cell_type": "code",
   "execution_count": 8,
   "metadata": {
    "collapsed": false
   },
   "outputs": [
    {
     "data": {
      "text/plain": [
       "\\N          35684\n",
       "Sutra         594\n",
       "Temple        367\n",
       "Monastic      366\n",
       "City          352\n",
       "Emperor       334\n",
       "Surname       300\n",
       "Country       283\n",
       "Book          261\n",
       "Person        243\n",
       "Name: concept_en, dtype: int64"
      ]
     },
     "execution_count": 8,
     "metadata": {},
     "output_type": "execute_result"
    }
   ],
   "source": [
    "df['concept_en'].value_counts()[:10]"
   ]
  },
  {
   "cell_type": "code",
   "execution_count": 16,
   "metadata": {
    "collapsed": false
   },
   "outputs": [
    {
     "name": "stdout",
     "output_type": "stream",
     "text": [
      "根柢\n",
      "\\N\n",
      "gēndǐ\n",
      "English: 2\n",
      "Grammar: 2\n",
      "Concept: 2\n",
      "Domain: 2\n",
      "Note: 2\n"
     ]
    }
   ],
   "source": [
    "# Find simplified and pinyin from a traditional text string\n",
    "luid = 45852\n",
    "tradArr = [\"根\", \"柢\"]\n",
    "english = [u\"a plant root\",\n",
    "           \"a foundation / a basis\"\n",
    "          ]\n",
    "grammar = [\"noun\", \n",
    "           \"noun\"\n",
    "          ]\n",
    "concept = [u\"\\\\N\\t\\\\N\",\n",
    "           u\"\\\\N\\t\\\\N\"\n",
    "          ]\n",
    "domain = [u\"古文\\tClassical Chinese\", u\"古文\\tClassical Chinese\"\n",
    "         ]\n",
    "subdomain = u\"\\\\N\\t\\\\N\"\n",
    "note = [u\" \", \n",
    "        u\"\"\n",
    "       ]\n",
    "\n",
    "# Generated\n",
    "traditional = \"\"\n",
    "simplified = \"\"\n",
    "pinyin = \"\"\n",
    "for t in tradArr:\n",
    "  sDF = df[df.traditional == t]['simplified']\n",
    "  tDF = df[df.traditional == t]['traditional']\n",
    "  pDF = df[df.traditional == t]['pinyin']\n",
    "  if sDF.count() > 0:\n",
    "    simplified += sDF.iloc[0].decode('utf-8')\n",
    "    traditional +=tDF.iloc[0].decode('utf-8')\n",
    "    pinyin += pDF.iloc[0].decode('utf-8') + \" \"\n",
    "  else:\n",
    "    sDF = df[df.simplified == t]['simplified']\n",
    "    tDF = df[df.simplified == t]['simplified']\n",
    "    pDF = df[df.simplified == t]['pinyin']\n",
    "    if sDF.count() > 0:\n",
    "      simplified += sDF.iloc[0].decode('utf-8')\n",
    "      traditional += sDF.iloc[0].decode('utf-8')\n",
    "      pinyin += pDF.iloc[0].decode('utf-8') + \" \"\n",
    "    else:\n",
    "      print \"%s not found\" % t\n",
    "pinyin.strip()\n",
    "trad = traditional\n",
    "if simplified == traditional:\n",
    "  trad = \"\\\\N\"\n",
    "pinyin = pinyin.replace(\" \", \"\")\n",
    "print simplified\n",
    "print trad\n",
    "print pinyin\n",
    "print \"English: %d\" % len(english)\n",
    "print \"Grammar: %d\" % len(grammar)\n",
    "print \"Concept: %d\" % len(concept)\n",
    "print \"Domain: %d\" % len(domain)\n",
    "print \"Note: %d\" % len(note)"
   ]
  },
  {
   "cell_type": "code",
   "execution_count": 17,
   "metadata": {
    "collapsed": false
   },
   "outputs": [
    {
     "name": "stdout",
     "output_type": "stream",
     "text": [
      "45852\t根柢\t\\N\tgēndǐ\ta plant root\tnoun\t\\N\t\\N\t古文\tClassical Chinese\t\\N\t\\N\t\\N\t\\N\t (FE '根柢' 1; GHDC '根柢' 1)\t45852\n",
      "45852\t根柢\t\\N\tgēndǐ\ta foundation / a basis\tnoun\t\\N\t\\N\t古文\tClassical Chinese\t\\N\t\\N\t\\N\t\\N\t(FE '根柢' 2)\t45852\n"
     ]
    }
   ],
   "source": [
    "# Input - \n",
    "#pinyin = u\"tài\" # override for variant pronounciations\n",
    "\n",
    "# Modify references as needed\n",
    "# Repeat this for each lexical unit. See abbreviations.html for the abbreviations.\n",
    "#bscd = u\"BCSD '%s'\" % traditional\n",
    "abc1 = u\"ABC '%s' bf 1\" % pinyin\n",
    "\n",
    "ccd1 = u\"CCD '%s' 4\" % simplified\n",
    "\n",
    "ced1 = u\"CED '%s' 1\" % simplified\n",
    "\n",
    "fe1 = u\"FE '%s' 1\" % traditional\n",
    "fe2 = u\"FE '%s' 2\" % traditional\n",
    "\n",
    "ghc1 = u\"GHC '%s' 1\" % simplified\n",
    "\n",
    "ghdc1 = u\"GHDC '%s' 1\" % simplified\n",
    "\n",
    "#fgdb = u\"FGDB '%s'\" % traditional\n",
    "\n",
    "k1 = u\"Kroll '%s' 1\" % traditional\n",
    "\n",
    "hsk1 = u\"GHDC '%s' 3\" % simplified\n",
    "\n",
    "ncced1 = u\"NCCED '%s' 1\" % simplified\n",
    "#mw = u\"MW 'upāya'\"\n",
    "# add more references as needed\n",
    "refArr = [[fe1, ghdc1],\n",
    "          [fe2]\n",
    "         ]\n",
    "\n",
    "# References\n",
    "for i in range(len(english)):\n",
    "  ref = u\"\"\n",
    "  for r in refArr[i]:\n",
    "    if r != \"\":\n",
    "      ref += r + \"; \"\n",
    "  ref = re.sub(\"; $\", \"\", ref)\n",
    "  if ref != \"\":\n",
    "    ref = u\"(%s)\" % ref\n",
    "\n",
    "  notes = u\"%s%s\" % (note[i], ref)\n",
    "  print u\"%d\\t%s\\t%s\\t%s\\t%s\\t%s\\t%s\\t%s\\t%s\\t\\\\N\\t\\\\N\\t%s\\t%d\" % (\n",
    "      luid, simplified, trad, pinyin, english[i], grammar[i], \n",
    "      concept[i], domain[i], subdomain, notes, luid)"
   ]
  },
  {
   "cell_type": "code",
   "execution_count": null,
   "metadata": {
    "collapsed": true
   },
   "outputs": [],
   "source": []
  }
 ],
 "metadata": {
  "kernelspec": {
   "display_name": "Python 2",
   "language": "python",
   "name": "python2"
  },
  "language_info": {
   "codemirror_mode": {
    "name": "ipython",
    "version": 2
   },
   "file_extension": ".py",
   "mimetype": "text/x-python",
   "name": "python",
   "nbconvert_exporter": "python",
   "pygments_lexer": "ipython2",
   "version": "2.7.10"
  }
 },
 "nbformat": 4,
 "nbformat_minor": 0
}
