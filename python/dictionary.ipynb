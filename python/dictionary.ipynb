{
 "cells": [
  {
   "cell_type": "code",
   "execution_count": 1,
   "metadata": {
    "collapsed": true
   },
   "outputs": [],
   "source": [
    "import pandas as pd\n",
    "import numpy as np\n",
    "import matplotlib.pyplot as plt\n",
    "%matplotlib inline"
   ]
  },
  {
   "cell_type": "code",
   "execution_count": 4,
   "metadata": {
    "collapsed": false
   },
   "outputs": [
    {
     "data": {
      "text/plain": [
       "45117"
      ]
     },
     "execution_count": 4,
     "metadata": {},
     "output_type": "execute_result"
    }
   ],
   "source": [
    "colnames = ['id', 'simplified', 'traditional', 'pinyin', \n",
    "            'english', 'grammar', 'concept_cn', 'concept_en', \n",
    "            'domain_cn', 'domain_en', 'subdomain_cn', 'subdomain_en',\n",
    "            'image', 'mp3', 'notes', 'headword']\n",
    "df = pd.read_table('../data/words.txt', names=colnames)\n",
    "df['id'].count()"
   ]
  },
  {
   "cell_type": "code",
   "execution_count": 5,
   "metadata": {
    "collapsed": false
   },
   "outputs": [
    {
     "data": {
      "text/html": [
       "<div>\n",
       "<table border=\"1\" class=\"dataframe\">\n",
       "  <thead>\n",
       "    <tr style=\"text-align: right;\">\n",
       "      <th></th>\n",
       "      <th>id</th>\n",
       "      <th>simplified</th>\n",
       "      <th>traditional</th>\n",
       "      <th>pinyin</th>\n",
       "      <th>english</th>\n",
       "      <th>grammar</th>\n",
       "      <th>concept_cn</th>\n",
       "      <th>concept_en</th>\n",
       "      <th>domain_cn</th>\n",
       "      <th>domain_en</th>\n",
       "      <th>subdomain_cn</th>\n",
       "      <th>subdomain_en</th>\n",
       "      <th>image</th>\n",
       "      <th>mp3</th>\n",
       "      <th>notes</th>\n",
       "      <th>headword</th>\n",
       "    </tr>\n",
       "  </thead>\n",
       "  <tbody>\n",
       "    <tr>\n",
       "      <th>0</th>\n",
       "      <td>1</td>\n",
       "      <td>阿尔巴尼亚</td>\n",
       "      <td>阿爾巴尼亞</td>\n",
       "      <td>Āěrbāníyà</td>\n",
       "      <td>Albania</td>\n",
       "      <td>proper noun</td>\n",
       "      <td>国家</td>\n",
       "      <td>Country</td>\n",
       "      <td>地理</td>\n",
       "      <td>Geography</td>\n",
       "      <td>欧洲</td>\n",
       "      <td>Europe</td>\n",
       "      <td>\\N</td>\n",
       "      <td>\\N</td>\n",
       "      <td>(SDC, p. 96; XHZD, p. 701)</td>\n",
       "      <td>1</td>\n",
       "    </tr>\n",
       "  </tbody>\n",
       "</table>\n",
       "</div>"
      ],
      "text/plain": [
       "   id simplified traditional     pinyin  english      grammar concept_cn  \\\n",
       "0   1      阿尔巴尼亚       阿爾巴尼亞  Āěrbāníyà  Albania  proper noun         国家   \n",
       "\n",
       "  concept_en domain_cn  domain_en subdomain_cn subdomain_en image mp3  \\\n",
       "0    Country        地理  Geography           欧洲       Europe    \\N  \\N   \n",
       "\n",
       "                        notes  headword  \n",
       "0  (SDC, p. 96; XHZD, p. 701)         1  "
      ]
     },
     "execution_count": 5,
     "metadata": {},
     "output_type": "execute_result"
    }
   ],
   "source": [
    "df.head(1)"
   ]
  },
  {
   "cell_type": "code",
   "execution_count": 6,
   "metadata": {
    "collapsed": false
   },
   "outputs": [
    {
     "data": {
      "text/plain": [
       "noun              17541\n",
       "verb               9874\n",
       "proper noun        9047\n",
       "adjective          3932\n",
       "phrase             1563\n",
       "adverb              783\n",
       "set phrase          713\n",
       "measure word        304\n",
       "pronoun             214\n",
       "conjunction         196\n",
       "phonetic            189\n",
       "number              112\n",
       "foreign             111\n",
       "particle            102\n",
       "preposition          95\n",
       "onomatopoeia         70\n",
       "\\N                   61\n",
       "interjection         55\n",
       "ordinal              35\n",
       "pattern              30\n",
       "auxiliary verb       25\n",
       "suffix               21\n",
       "bound form           17\n",
       "expression           10\n",
       "prefix               10\n",
       "radical               5\n",
       "infix                 2\n",
       "Name: grammar, dtype: int64"
      ]
     },
     "execution_count": 6,
     "metadata": {},
     "output_type": "execute_result"
    }
   ],
   "source": [
    "df['grammar'].value_counts()"
   ]
  },
  {
   "cell_type": "code",
   "execution_count": 7,
   "metadata": {
    "collapsed": false
   },
   "outputs": [
    {
     "data": {
      "text/plain": [
       "Classical Chinese         7680\n",
       "Buddhism                  4885\n",
       "History                   2654\n",
       "Actions                   1547\n",
       "Condition                 1101\n",
       "Places                     988\n",
       "Geography                  875\n",
       "Emotion                    805\n",
       "Thought                    790\n",
       "Language                   789\n",
       "Health                     773\n",
       "Quantity                   721\n",
       "Information Technology     719\n",
       "Time                       655\n",
       "Characteristic             643\n",
       "Food and Drink             622\n",
       "Function Words             606\n",
       "Idiom                      586\n",
       "Form                       567\n",
       "Art                        551\n",
       "Linguistics                473\n",
       "Names                      434\n",
       "Religion                   407\n",
       "Movement                   403\n",
       "Ethics                     398\n",
       "Work                       381\n",
       "Architecture               367\n",
       "Position                   367\n",
       "Nature                     353\n",
       "Law                        347\n",
       "                          ... \n",
       "Archaeology                 13\n",
       "Affixes                     13\n",
       "\\N                          13\n",
       "Space Flight                13\n",
       "Climate                     11\n",
       "Facilities                  11\n",
       "Material Object             10\n",
       "Chinese Medicine            10\n",
       "Logic                        9\n",
       "Danger                       9\n",
       "Abstract                     9\n",
       "Toys                         7\n",
       "Mountaineering               7\n",
       "Hunting                      6\n",
       "religion                     6\n",
       "Entertainment                6\n",
       "Pianpang                     5\n",
       "furniture                    4\n",
       "Cosmetic                     4\n",
       "Research                     3\n",
       "Electrical Engineering       3\n",
       "Kungfu                       3\n",
       "Social Science               3\n",
       "Social Work                  3\n",
       "Japanese                     3\n",
       "Utensil                      2\n",
       "economics                    2\n",
       "life                         2\n",
       "Meditation                   2\n",
       "politics                     1\n",
       "Name: domain_en, dtype: int64"
      ]
     },
     "execution_count": 7,
     "metadata": {},
     "output_type": "execute_result"
    }
   ],
   "source": [
    "df['domain_en'].value_counts()"
   ]
  },
  {
   "cell_type": "code",
   "execution_count": null,
   "metadata": {
    "collapsed": true
   },
   "outputs": [],
   "source": []
  }
 ],
 "metadata": {
  "kernelspec": {
   "display_name": "Python 2",
   "language": "python",
   "name": "python2"
  },
  "language_info": {
   "codemirror_mode": {
    "name": "ipython",
    "version": 2
   },
   "file_extension": ".py",
   "mimetype": "text/x-python",
   "name": "python",
   "nbconvert_exporter": "python",
   "pygments_lexer": "ipython2",
   "version": "2.7.10"
  }
 },
 "nbformat": 4,
 "nbformat_minor": 0
}
