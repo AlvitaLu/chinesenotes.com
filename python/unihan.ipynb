{
 "cells": [
  {
   "cell_type": "markdown",
   "metadata": {},
   "source": [
    "# Notebook for exploring the Unihan Database"
   ]
  },
  {
   "cell_type": "code",
   "execution_count": 153,
   "metadata": {
    "collapsed": false
   },
   "outputs": [
    {
     "data": {
      "text/plain": [
       "187561"
      ]
     },
     "execution_count": 153,
     "metadata": {},
     "output_type": "execute_result"
    }
   ],
   "source": [
    "# Assumes the Unihan database has been downloaded from http://www.unicode.org/Public/UCD/latest/ucd/Unihan.zip\n",
    "# and placed in the directory ../Unihan\n",
    "import pandas as pd\n",
    "import numpy as np\n",
    "\n",
    "# Load Unihan table\n",
    "colnames = ['codepoint', 'fieldname', 'value']\n",
    "types = {'codepoint': np.string_, 'fieldname': np.string_, 'value': np.string_}\n",
    "df = pd.read_table('../Unihan/Unihan_Readings.txt', names=colnames, dtype=types)\n",
    "df['codepoint'].count() # Number of lexical units"
   ]
  },
  {
   "cell_type": "code",
   "execution_count": 142,
   "metadata": {
    "collapsed": false
   },
   "outputs": [
    {
     "data": {
      "text/html": [
       "<div>\n",
       "<table border=\"1\" class=\"dataframe\">\n",
       "  <thead>\n",
       "    <tr style=\"text-align: right;\">\n",
       "      <th></th>\n",
       "      <th>codepoint</th>\n",
       "      <th>fieldname</th>\n",
       "      <th>value</th>\n",
       "    </tr>\n",
       "  </thead>\n",
       "  <tbody>\n",
       "    <tr>\n",
       "      <th>120254</th>\n",
       "      <td>U+8A6A</td>\n",
       "      <td>kDefinition</td>\n",
       "      <td>difficulty in speaking; wrangling</td>\n",
       "    </tr>\n",
       "    <tr>\n",
       "      <th>120255</th>\n",
       "      <td>U+8A6A</td>\n",
       "      <td>kHanyuPinyin</td>\n",
       "      <td>63972.080:hěn</td>\n",
       "    </tr>\n",
       "    <tr>\n",
       "      <th>120256</th>\n",
       "      <td>U+8A6A</td>\n",
       "      <td>kMandarin</td>\n",
       "      <td>hěn</td>\n",
       "    </tr>\n",
       "  </tbody>\n",
       "</table>\n",
       "</div>"
      ],
      "text/plain": [
       "       codepoint     fieldname                              value\n",
       "120254    U+8A6A   kDefinition  difficulty in speaking; wrangling\n",
       "120255    U+8A6A  kHanyuPinyin                      63972.080:hěn\n",
       "120256    U+8A6A     kMandarin                                hěn"
      ]
     },
     "execution_count": 142,
     "metadata": {},
     "output_type": "execute_result"
    }
   ],
   "source": [
    "chinese = u'詪'\n",
    "cp = 'U+' + hex(ord(chinese)).replace('0x', '').upper()\n",
    "chineseDf = df[df.codepoint == cp]\n",
    "chineseDf"
   ]
  },
  {
   "cell_type": "code",
   "execution_count": 172,
   "metadata": {
    "collapsed": false
   },
   "outputs": [
    {
     "data": {
      "text/plain": [
       "'difficulty in speaking; wrangling'"
      ]
     },
     "execution_count": 172,
     "metadata": {},
     "output_type": "execute_result"
    }
   ],
   "source": [
    "english = chineseDf[chineseDf.fieldname == 'kDefinition']['value'].iloc[0]\n",
    "english"
   ]
  },
  {
   "cell_type": "code",
   "execution_count": 182,
   "metadata": {
    "collapsed": false
   },
   "outputs": [
    {
     "name": "stdout",
     "output_type": "stream",
     "text": [
      "hěn\n"
     ]
    }
   ],
   "source": [
    "pinyin = chineseDf[chineseDf.fieldname == 'kMandarin']['value'].iloc[0].decode('utf-8')\n",
    "print pinyin"
   ]
  },
  {
   "cell_type": "code",
   "execution_count": 192,
   "metadata": {
    "collapsed": false
   },
   "outputs": [
    {
     "name": "stdout",
     "output_type": "stream",
     "text": [
      "0\t詪\t\\N\thěn\tdifficulty in speaking; wrangling\t\\N\t\\N\t\\N\t古文\tClassical Chinese\t\\N\t\\N\t\\N\t(Unihan '詪')\t0\n"
     ]
    }
   ],
   "source": [
    "print u\"0\\t%s\\t\\\\N\\t%s\\t%s\\t\\\\N\\t\\\\N\\t\\\\N\\t古文\\tClassical Chinese\\t\\\\N\\t\\\\N\\t\\\\N\\t(Unihan '%s')\\t0\" %(chinese, pinyin, english, chinese)"
   ]
  },
  {
   "cell_type": "code",
   "execution_count": null,
   "metadata": {
    "collapsed": true
   },
   "outputs": [],
   "source": []
  }
 ],
 "metadata": {
  "kernelspec": {
   "display_name": "Python 2",
   "language": "python",
   "name": "python2"
  },
  "language_info": {
   "codemirror_mode": {
    "name": "ipython",
    "version": 2
   },
   "file_extension": ".py",
   "mimetype": "text/x-python",
   "name": "python",
   "nbconvert_exporter": "python",
   "pygments_lexer": "ipython2",
   "version": "2.7.10"
  }
 },
 "nbformat": 4,
 "nbformat_minor": 0
}
