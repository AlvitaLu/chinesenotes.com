{
 "cells": [
  {
   "cell_type": "markdown",
   "metadata": {},
   "source": [
    "# Notebook for exploring the Unihan Database"
   ]
  },
  {
   "cell_type": "code",
   "execution_count": 1,
   "metadata": {
    "collapsed": false
   },
   "outputs": [
    {
     "data": {
      "text/plain": [
       "12375"
      ]
     },
     "execution_count": 1,
     "metadata": {},
     "output_type": "execute_result"
    }
   ],
   "source": [
    "# Assumes the Unihan database has been downloaded from http://www.unicode.org/Public/UCD/latest/ucd/Unihan.zip\n",
    "# and placed in the directory ../Unihan\n",
    "import pandas as pd\n",
    "import numpy as np\n",
    "\n",
    "# Load Unihan Readings table\n",
    "colnames = ['codepoint', 'fieldname', 'value']\n",
    "types = {'codepoint': np.string_, 'fieldname': np.string_, 'value': np.string_}\n",
    "readings = pd.read_table('../Unihan/Unihan_Readings.txt', names=colnames, dtype=types)\n",
    "print readings['codepoint'].count() # Number of rows\n",
    "\n",
    "# Load Unihan Variants table\n",
    "colnames = ['codepoint', 'fieldname', 'value']\n",
    "types = {'codepoint': np.string_, 'fieldname': np.string_, 'value': np.string_}\n",
    "variants = pd.read_table('../Unihan/Unihan_Variants.txt', names=colnames, dtype=types)\n",
    "print variants['codepoint'].count() # Number of rows"
   ]
  },
  {
   "cell_type": "code",
   "execution_count": 33,
   "metadata": {
    "collapsed": false
   },
   "outputs": [
    {
     "data": {
      "text/html": [
       "<div>\n",
       "<table border=\"1\" class=\"dataframe\">\n",
       "  <thead>\n",
       "    <tr style=\"text-align: right;\">\n",
       "      <th></th>\n",
       "      <th>codepoint</th>\n",
       "      <th>fieldname</th>\n",
       "      <th>value</th>\n",
       "    </tr>\n",
       "  </thead>\n",
       "  <tbody>\n",
       "    <tr>\n",
       "      <th>29680</th>\n",
       "      <td>U+51FA</td>\n",
       "      <td>kCantonese</td>\n",
       "      <td>ceot1</td>\n",
       "    </tr>\n",
       "    <tr>\n",
       "      <th>29681</th>\n",
       "      <td>U+51FA</td>\n",
       "      <td>kDefinition</td>\n",
       "      <td>go out, send out; stand; produce</td>\n",
       "    </tr>\n",
       "    <tr>\n",
       "      <th>29682</th>\n",
       "      <td>U+51FA</td>\n",
       "      <td>kHangul</td>\n",
       "      <td>출</td>\n",
       "    </tr>\n",
       "    <tr>\n",
       "      <th>29683</th>\n",
       "      <td>U+51FA</td>\n",
       "      <td>kHanyuPinlu</td>\n",
       "      <td>chū(6753)</td>\n",
       "    </tr>\n",
       "    <tr>\n",
       "      <th>29684</th>\n",
       "      <td>U+51FA</td>\n",
       "      <td>kHanyuPinyin</td>\n",
       "      <td>10307.080:chū</td>\n",
       "    </tr>\n",
       "    <tr>\n",
       "      <th>29685</th>\n",
       "      <td>U+51FA</td>\n",
       "      <td>kJapaneseKun</td>\n",
       "      <td>DERU DASU</td>\n",
       "    </tr>\n",
       "    <tr>\n",
       "      <th>29686</th>\n",
       "      <td>U+51FA</td>\n",
       "      <td>kJapaneseOn</td>\n",
       "      <td>SHUTSU SUI</td>\n",
       "    </tr>\n",
       "    <tr>\n",
       "      <th>29687</th>\n",
       "      <td>U+51FA</td>\n",
       "      <td>kKorean</td>\n",
       "      <td>CHWUL CHWU</td>\n",
       "    </tr>\n",
       "    <tr>\n",
       "      <th>29688</th>\n",
       "      <td>U+51FA</td>\n",
       "      <td>kMandarin</td>\n",
       "      <td>chū</td>\n",
       "    </tr>\n",
       "    <tr>\n",
       "      <th>29689</th>\n",
       "      <td>U+51FA</td>\n",
       "      <td>kTang</td>\n",
       "      <td>*chuit</td>\n",
       "    </tr>\n",
       "    <tr>\n",
       "      <th>29690</th>\n",
       "      <td>U+51FA</td>\n",
       "      <td>kVietnamese</td>\n",
       "      <td>xuất</td>\n",
       "    </tr>\n",
       "    <tr>\n",
       "      <th>29691</th>\n",
       "      <td>U+51FA</td>\n",
       "      <td>kXHC1983</td>\n",
       "      <td>0155.030:chū</td>\n",
       "    </tr>\n",
       "  </tbody>\n",
       "</table>\n",
       "</div>"
      ],
      "text/plain": [
       "      codepoint     fieldname                             value\n",
       "29680    U+51FA    kCantonese                             ceot1\n",
       "29681    U+51FA   kDefinition  go out, send out; stand; produce\n",
       "29682    U+51FA       kHangul                                 출\n",
       "29683    U+51FA   kHanyuPinlu                         chū(6753)\n",
       "29684    U+51FA  kHanyuPinyin                     10307.080:chū\n",
       "29685    U+51FA  kJapaneseKun                         DERU DASU\n",
       "29686    U+51FA   kJapaneseOn                        SHUTSU SUI\n",
       "29687    U+51FA       kKorean                        CHWUL CHWU\n",
       "29688    U+51FA     kMandarin                               chū\n",
       "29689    U+51FA         kTang                            *chuit\n",
       "29690    U+51FA   kVietnamese                              xuất\n",
       "29691    U+51FA      kXHC1983                      0155.030:chū"
      ]
     },
     "execution_count": 33,
     "metadata": {},
     "output_type": "execute_result"
    }
   ],
   "source": [
    "chinese = u'出'\n",
    "cp = 'U+' + hex(ord(chinese)).replace('0x', '').upper()\n",
    "chineseDf = readings[readings.codepoint == cp]\n",
    "chineseDf"
   ]
  },
  {
   "cell_type": "code",
   "execution_count": 34,
   "metadata": {
    "collapsed": false
   },
   "outputs": [
    {
     "data": {
      "text/html": [
       "<div>\n",
       "<table border=\"1\" class=\"dataframe\">\n",
       "  <thead>\n",
       "    <tr style=\"text-align: right;\">\n",
       "      <th></th>\n",
       "      <th>codepoint</th>\n",
       "      <th>fieldname</th>\n",
       "      <th>value</th>\n",
       "    </tr>\n",
       "  </thead>\n",
       "  <tbody>\n",
       "    <tr>\n",
       "      <th>974</th>\n",
       "      <td>U+51FA</td>\n",
       "      <td>kZVariant</td>\n",
       "      <td>U+5C80</td>\n",
       "    </tr>\n",
       "  </tbody>\n",
       "</table>\n",
       "</div>"
      ],
      "text/plain": [
       "    codepoint  fieldname   value\n",
       "974    U+51FA  kZVariant  U+5C80"
      ]
     },
     "execution_count": 34,
     "metadata": {},
     "output_type": "execute_result"
    }
   ],
   "source": [
    "variantsDf = variants[variants.codepoint == cp]\n",
    "variantsDf"
   ]
  },
  {
   "cell_type": "code",
   "execution_count": 35,
   "metadata": {
    "collapsed": false
   },
   "outputs": [
    {
     "name": "stdout",
     "output_type": "stream",
     "text": [
      "go out, send out; stand; produce\n",
      "chū\n",
      "\n",
      "出\n",
      "noun\n",
      "45688\t出\t\\N\tchū\tgo out, send out; stand; produce\tnoun\t\\N\t\\N\t古文\tClassical Chinese\t\\N\t\\N\t\\N\t\\N\t (Unihan '出')\t45688\n"
     ]
    }
   ],
   "source": [
    "english = \"\\\\N\"\n",
    "englishDF = chineseDf[chineseDf.fieldname == 'kDefinition']['value']\n",
    "if len(englishDF) > 0:\n",
    "    english = englishDF.iloc[0]\n",
    "print english\n",
    "\n",
    "pinyin = chineseDf[chineseDf.fieldname == 'kMandarin']['value'].iloc[0].decode('utf-8')\n",
    "print pinyin\n",
    "\n",
    "# Kinds of variants\n",
    "notes = \"\"\n",
    "c = \"\"\n",
    "value = variantsDf[variantsDf.fieldname == 'kSemanticVariant']['value']\n",
    "if len(value) > 0:\n",
    "    val = value.iloc[0].split('<')[0]\n",
    "    val = val.replace(\"U+\", \"\")\n",
    "    c = unichr(int(val, 16))\n",
    "    notes = \"Semantic variant: %s \" % c\n",
    "print notes\n",
    "\n",
    "simplified = chinese\n",
    "traditional = \"\\\\N\"\n",
    "value = variantsDf[variantsDf.fieldname == 'kSimplifiedVariant']['value']\n",
    "if len(value) > 0:\n",
    "    val = value.iloc[0].split('<')[0]\n",
    "    val = val.replace(\"U+\", \"\")\n",
    "    simplified = unichr(int(val, 16))\n",
    "    traditional = chinese\n",
    "print simplified\n",
    "\n",
    "grammar = \"\\\\N\"\n",
    "if english != \"\\\\N\":\n",
    "    grammar = \"noun\"\n",
    "print grammar\n",
    "\n",
    "luid = 45688\n",
    "notes = \"%s (Unihan '%s')\" % (notes, chinese)\n",
    "domain = u\"古文\\tClassical Chinese\"\n",
    "print u\"%d\\t%s\\t%s\\t%s\\t%s\\t%s\\t\\\\N\\t\\\\N\\t%s\\t\\\\N\\t\\\\N\\t\\\\N\\t\\\\N\\t%s\\t%d\" % (\n",
    "    luid, simplified, traditional, pinyin, english, grammar, domain, notes, luid)"
   ]
  },
  {
   "cell_type": "code",
   "execution_count": null,
   "metadata": {
    "collapsed": true
   },
   "outputs": [],
   "source": []
  }
 ],
 "metadata": {
  "kernelspec": {
   "display_name": "Python 2",
   "language": "python",
   "name": "python2"
  },
  "language_info": {
   "codemirror_mode": {
    "name": "ipython",
    "version": 2
   },
   "file_extension": ".py",
   "mimetype": "text/x-python",
   "name": "python",
   "nbconvert_exporter": "python",
   "pygments_lexer": "ipython2",
   "version": "2.7.10"
  }
 },
 "nbformat": 4,
 "nbformat_minor": 0
}
