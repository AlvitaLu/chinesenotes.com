{
 "cells": [
  {
   "cell_type": "markdown",
   "metadata": {},
   "source": [
    "# Notebook for exploring the Unihan Database"
   ]
  },
  {
   "cell_type": "code",
   "execution_count": 2,
   "metadata": {
    "collapsed": false
   },
   "outputs": [
    {
     "data": {
      "text/plain": [
       "187561"
      ]
     },
     "execution_count": 2,
     "metadata": {},
     "output_type": "execute_result"
    }
   ],
   "source": [
    "# Assumes the Unihan database has been downloaded from http://www.unicode.org/Public/UCD/latest/ucd/Unihan.zip\n",
    "# and placed in the directory ../Unihan\n",
    "import pandas as pd\n",
    "import numpy as np\n",
    "\n",
    "# Load Unihan Readings table\n",
    "colnames = ['codepoint', 'fieldname', 'value']\n",
    "types = {'codepoint': np.string_, 'fieldname': np.string_, 'value': np.string_}\n",
    "readings = pd.read_table('../Unihan/Unihan_Readings.txt', names=colnames, dtype=types)\n",
    "readings['codepoint'].count() # Number of rows"
   ]
  },
  {
   "cell_type": "code",
   "execution_count": 3,
   "metadata": {
    "collapsed": false
   },
   "outputs": [
    {
     "data": {
      "text/plain": [
       "12375"
      ]
     },
     "execution_count": 3,
     "metadata": {},
     "output_type": "execute_result"
    }
   ],
   "source": [
    "# Load Unihan Variants table\n",
    "colnames = ['codepoint', 'fieldname', 'value']\n",
    "types = {'codepoint': np.string_, 'fieldname': np.string_, 'value': np.string_}\n",
    "variants = pd.read_table('../Unihan/Unihan_Variants.txt', names=colnames, dtype=types)\n",
    "variants['codepoint'].count() # Number of rows"
   ]
  },
  {
   "cell_type": "code",
   "execution_count": 4,
   "metadata": {
    "collapsed": false
   },
   "outputs": [
    {
     "data": {
      "text/html": [
       "<div>\n",
       "<table border=\"1\" class=\"dataframe\">\n",
       "  <thead>\n",
       "    <tr style=\"text-align: right;\">\n",
       "      <th></th>\n",
       "      <th>codepoint</th>\n",
       "      <th>fieldname</th>\n",
       "      <th>value</th>\n",
       "    </tr>\n",
       "  </thead>\n",
       "  <tbody>\n",
       "    <tr>\n",
       "      <th>134586</th>\n",
       "      <td>U+93E1</td>\n",
       "      <td>kCantonese</td>\n",
       "      <td>geng3</td>\n",
       "    </tr>\n",
       "    <tr>\n",
       "      <th>134587</th>\n",
       "      <td>U+93E1</td>\n",
       "      <td>kDefinition</td>\n",
       "      <td>mirror; lens; glass; glasses</td>\n",
       "    </tr>\n",
       "    <tr>\n",
       "      <th>134588</th>\n",
       "      <td>U+93E1</td>\n",
       "      <td>kHangul</td>\n",
       "      <td>경</td>\n",
       "    </tr>\n",
       "    <tr>\n",
       "      <th>134589</th>\n",
       "      <td>U+93E1</td>\n",
       "      <td>kHanyuPinlu</td>\n",
       "      <td>jìng(285)</td>\n",
       "    </tr>\n",
       "    <tr>\n",
       "      <th>134590</th>\n",
       "      <td>U+93E1</td>\n",
       "      <td>kHanyuPinyin</td>\n",
       "      <td>64250.100:jìng</td>\n",
       "    </tr>\n",
       "    <tr>\n",
       "      <th>134591</th>\n",
       "      <td>U+93E1</td>\n",
       "      <td>kJapaneseKun</td>\n",
       "      <td>KAGAMI</td>\n",
       "    </tr>\n",
       "    <tr>\n",
       "      <th>134592</th>\n",
       "      <td>U+93E1</td>\n",
       "      <td>kJapaneseOn</td>\n",
       "      <td>KYOU KEI</td>\n",
       "    </tr>\n",
       "    <tr>\n",
       "      <th>134593</th>\n",
       "      <td>U+93E1</td>\n",
       "      <td>kKorean</td>\n",
       "      <td>KYENG</td>\n",
       "    </tr>\n",
       "    <tr>\n",
       "      <th>134594</th>\n",
       "      <td>U+93E1</td>\n",
       "      <td>kMandarin</td>\n",
       "      <td>jìng</td>\n",
       "    </tr>\n",
       "    <tr>\n",
       "      <th>134595</th>\n",
       "      <td>U+93E1</td>\n",
       "      <td>kTang</td>\n",
       "      <td>*giæ̀ng</td>\n",
       "    </tr>\n",
       "    <tr>\n",
       "      <th>134596</th>\n",
       "      <td>U+93E1</td>\n",
       "      <td>kVietnamese</td>\n",
       "      <td>kẻng</td>\n",
       "    </tr>\n",
       "  </tbody>\n",
       "</table>\n",
       "</div>"
      ],
      "text/plain": [
       "       codepoint     fieldname                         value\n",
       "134586    U+93E1    kCantonese                         geng3\n",
       "134587    U+93E1   kDefinition  mirror; lens; glass; glasses\n",
       "134588    U+93E1       kHangul                             경\n",
       "134589    U+93E1   kHanyuPinlu                     jìng(285)\n",
       "134590    U+93E1  kHanyuPinyin                64250.100:jìng\n",
       "134591    U+93E1  kJapaneseKun                        KAGAMI\n",
       "134592    U+93E1   kJapaneseOn                      KYOU KEI\n",
       "134593    U+93E1       kKorean                         KYENG\n",
       "134594    U+93E1     kMandarin                          jìng\n",
       "134595    U+93E1         kTang                       *giæ̀ng\n",
       "134596    U+93E1   kVietnamese                          kẻng"
      ]
     },
     "execution_count": 4,
     "metadata": {},
     "output_type": "execute_result"
    }
   ],
   "source": [
    "chinese = u'鏡'\n",
    "cp = 'U+' + hex(ord(chinese)).replace('0x', '').upper()\n",
    "chineseDf = readings[readings.codepoint == cp]\n",
    "chineseDf"
   ]
  },
  {
   "cell_type": "code",
   "execution_count": 5,
   "metadata": {
    "collapsed": false
   },
   "outputs": [
    {
     "data": {
      "text/plain": [
       "'mirror; lens; glass; glasses'"
      ]
     },
     "execution_count": 5,
     "metadata": {},
     "output_type": "execute_result"
    }
   ],
   "source": [
    "english = \"\\\\N\"\n",
    "englishDF = chineseDf[chineseDf.fieldname == 'kDefinition']['value']\n",
    "if len(englishDF) > 0:\n",
    "    english = englishDF.iloc[0]\n",
    "english"
   ]
  },
  {
   "cell_type": "code",
   "execution_count": 6,
   "metadata": {
    "collapsed": false
   },
   "outputs": [
    {
     "name": "stdout",
     "output_type": "stream",
     "text": [
      "jìng\n"
     ]
    }
   ],
   "source": [
    "pinyin = chineseDf[chineseDf.fieldname == 'kMandarin']['value'].iloc[0].decode('utf-8')\n",
    "print pinyin"
   ]
  },
  {
   "cell_type": "code",
   "execution_count": 7,
   "metadata": {
    "collapsed": false
   },
   "outputs": [
    {
     "data": {
      "text/html": [
       "<div>\n",
       "<table border=\"1\" class=\"dataframe\">\n",
       "  <thead>\n",
       "    <tr style=\"text-align: right;\">\n",
       "      <th></th>\n",
       "      <th>codepoint</th>\n",
       "      <th>fieldname</th>\n",
       "      <th>value</th>\n",
       "    </tr>\n",
       "  </thead>\n",
       "  <tbody>\n",
       "    <tr>\n",
       "      <th>9353</th>\n",
       "      <td>U+93E1</td>\n",
       "      <td>kSimplifiedVariant</td>\n",
       "      <td>U+955C</td>\n",
       "    </tr>\n",
       "  </tbody>\n",
       "</table>\n",
       "</div>"
      ],
      "text/plain": [
       "     codepoint           fieldname   value\n",
       "9353    U+93E1  kSimplifiedVariant  U+955C"
      ]
     },
     "execution_count": 7,
     "metadata": {},
     "output_type": "execute_result"
    }
   ],
   "source": [
    "variantsDf = variants[variants.codepoint == cp]\n",
    "variantsDf"
   ]
  },
  {
   "cell_type": "code",
   "execution_count": 8,
   "metadata": {
    "collapsed": false
   },
   "outputs": [
    {
     "name": "stdout",
     "output_type": "stream",
     "text": [
      "\n"
     ]
    }
   ],
   "source": [
    "notes = \"\"\n",
    "c = \"\"\n",
    "value = variantsDf[variantsDf.fieldname == 'kSemanticVariant']['value']\n",
    "if len(value) > 0:\n",
    "    val = value.iloc[0].split('<')[0]\n",
    "    val = val.replace(\"U+\", \"\")\n",
    "    c = unichr(int(val, 16))\n",
    "    notes = \"Semantic variant: %s \" % c\n",
    "print notes"
   ]
  },
  {
   "cell_type": "code",
   "execution_count": 9,
   "metadata": {
    "collapsed": false
   },
   "outputs": [
    {
     "name": "stdout",
     "output_type": "stream",
     "text": [
      "镜\n"
     ]
    }
   ],
   "source": [
    "simplified = chinese\n",
    "traditional = \"\\\\N\"\n",
    "value = variantsDf[variantsDf.fieldname == 'kSimplifiedVariant']['value']\n",
    "if len(value) > 0:\n",
    "    val = value.iloc[0].split('<')[0]\n",
    "    val = val.replace(\"U+\", \"\")\n",
    "    simplified = unichr(int(val, 16))\n",
    "    traditional = chinese\n",
    "print simplified"
   ]
  },
  {
   "cell_type": "code",
   "execution_count": 10,
   "metadata": {
    "collapsed": false
   },
   "outputs": [
    {
     "data": {
      "text/plain": [
       "'noun'"
      ]
     },
     "execution_count": 10,
     "metadata": {},
     "output_type": "execute_result"
    }
   ],
   "source": [
    "grammar = \"\\\\N\"\n",
    "if english != \"\\\\N\":\n",
    "    grammar = \"noun\"\n",
    "grammar"
   ]
  },
  {
   "cell_type": "code",
   "execution_count": 11,
   "metadata": {
    "collapsed": false
   },
   "outputs": [
    {
     "name": "stdout",
     "output_type": "stream",
     "text": [
      "9402\t镜\t鏡\tjìng\tmirror; lens; glass; glasses\tnoun\t\\N\t\\N\t古文\tClassical Chinese\t\\N\t\\N\t\\N\t\\N\t (Unihan '鏡')\t9402\n"
     ]
    }
   ],
   "source": [
    "luid = 45678\n",
    "notes = \"%s (Unihan '%s')\" % (notes, chinese)\n",
    "print u\"%d\\t%s\\t%s\\t%s\\t%s\\t%s\\t\\\\N\\t\\\\N\\t古文\\tClassical Chinese\\t\\\\N\\t\\\\N\\t\\\\N\\t\\\\N\\t%s\\t%d\" % (\n",
    "    luid, simplified, traditional, pinyin, english, grammar, notes, luid)"
   ]
  },
  {
   "cell_type": "code",
   "execution_count": null,
   "metadata": {
    "collapsed": true
   },
   "outputs": [],
   "source": []
  }
 ],
 "metadata": {
  "kernelspec": {
   "display_name": "Python 2",
   "language": "python",
   "name": "python2"
  },
  "language_info": {
   "codemirror_mode": {
    "name": "ipython",
    "version": 2
   },
   "file_extension": ".py",
   "mimetype": "text/x-python",
   "name": "python",
   "nbconvert_exporter": "python",
   "pygments_lexer": "ipython2",
   "version": "2.7.10"
  }
 },
 "nbformat": 4,
 "nbformat_minor": 0
}
