{
 "cells": [
  {
   "cell_type": "markdown",
   "metadata": {},
   "source": [
    "# Notebook for importing from the Unihan Database"
   ]
  },
  {
   "cell_type": "code",
   "execution_count": 39,
   "metadata": {
    "collapsed": false
   },
   "outputs": [
    {
     "name": "stdout",
     "output_type": "stream",
     "text": [
      "187561\n",
      "12375\n"
     ]
    },
    {
     "data": {
      "text/html": [
       "<div>\n",
       "<table border=\"1\" class=\"dataframe\">\n",
       "  <thead>\n",
       "    <tr style=\"text-align: right;\">\n",
       "      <th></th>\n",
       "      <th>codepoint</th>\n",
       "      <th>fieldname</th>\n",
       "      <th>value</th>\n",
       "    </tr>\n",
       "  </thead>\n",
       "  <tbody>\n",
       "    <tr>\n",
       "      <th>187556</th>\n",
       "      <td>U+2F994</td>\n",
       "      <td>kCantonese</td>\n",
       "      <td>fong1</td>\n",
       "    </tr>\n",
       "    <tr>\n",
       "      <th>187557</th>\n",
       "      <td>U+2F9B2</td>\n",
       "      <td>kCantonese</td>\n",
       "      <td>kwai4</td>\n",
       "    </tr>\n",
       "    <tr>\n",
       "      <th>187558</th>\n",
       "      <td>U+2F9BC</td>\n",
       "      <td>kCantonese</td>\n",
       "      <td>sip3</td>\n",
       "    </tr>\n",
       "    <tr>\n",
       "      <th>187559</th>\n",
       "      <td>U+2F9D4</td>\n",
       "      <td>kCantonese</td>\n",
       "      <td>gun3 gwun3</td>\n",
       "    </tr>\n",
       "    <tr>\n",
       "      <th>187560</th>\n",
       "      <td># EOF</td>\n",
       "      <td>NaN</td>\n",
       "      <td>NaN</td>\n",
       "    </tr>\n",
       "  </tbody>\n",
       "</table>\n",
       "</div>"
      ],
      "text/plain": [
       "       codepoint   fieldname       value\n",
       "187556   U+2F994  kCantonese       fong1\n",
       "187557   U+2F9B2  kCantonese       kwai4\n",
       "187558   U+2F9BC  kCantonese        sip3\n",
       "187559   U+2F9D4  kCantonese  gun3 gwun3\n",
       "187560     # EOF         NaN         NaN"
      ]
     },
     "execution_count": 39,
     "metadata": {},
     "output_type": "execute_result"
    }
   ],
   "source": [
    "# Assumes the Unihan database has been downloaded from http://www.unicode.org/Public/UCD/latest/ucd/Unihan.zip\n",
    "# and placed in the directory ../Unihan\n",
    "import sys\n",
    "\n",
    "import pandas as pd\n",
    "import numpy as np\n",
    "\n",
    "# Load Unihan Readings table\n",
    "colnames = ['codepoint', 'fieldname', 'value']\n",
    "types = {'codepoint': np.string_, 'fieldname': np.string_, 'value': np.string_}\n",
    "readings = pd.read_table('../Unihan/Unihan_Readings.txt', names=colnames, dtype=types)\n",
    "readings.set_index(\"codepoint\")\n",
    "print readings['codepoint'].count() # Number of rows\n",
    "\n",
    "# Load Unihan Variants table\n",
    "colnames = ['codepoint', 'fieldname', 'value']\n",
    "types = {'codepoint': np.string_, 'fieldname': np.string_, 'value': np.string_}\n",
    "variants = pd.read_table('../Unihan/Unihan_Variants.txt', names=colnames, dtype=types)\n",
    "print variants['codepoint'].count() # Number of rows\n",
    "\n",
    "readings.tail()"
   ]
  },
  {
   "cell_type": "code",
   "execution_count": 43,
   "metadata": {
    "collapsed": false
   },
   "outputs": [
    {
     "data": {
      "text/html": [
       "<div>\n",
       "<table border=\"1\" class=\"dataframe\">\n",
       "  <thead>\n",
       "    <tr style=\"text-align: right;\">\n",
       "      <th></th>\n",
       "      <th>codepoint</th>\n",
       "      <th>fieldname</th>\n",
       "      <th>value</th>\n",
       "    </tr>\n",
       "  </thead>\n",
       "  <tbody>\n",
       "    <tr>\n",
       "      <th>24361</th>\n",
       "      <td>U+4F1D</td>\n",
       "      <td>kDefinition</td>\n",
       "      <td>summon; propagate, transmit</td>\n",
       "    </tr>\n",
       "    <tr>\n",
       "      <th>24362</th>\n",
       "      <td>U+4F1D</td>\n",
       "      <td>kJapaneseKun</td>\n",
       "      <td>TSUTAERU TSUTAE TSUTAWARU</td>\n",
       "    </tr>\n",
       "    <tr>\n",
       "      <th>24363</th>\n",
       "      <td>U+4F1D</td>\n",
       "      <td>kJapaneseOn</td>\n",
       "      <td>DEN TEN</td>\n",
       "    </tr>\n",
       "    <tr>\n",
       "      <th>24364</th>\n",
       "      <td>U+4F1D</td>\n",
       "      <td>kKorean</td>\n",
       "      <td>CEN</td>\n",
       "    </tr>\n",
       "    <tr>\n",
       "      <th>24365</th>\n",
       "      <td>U+4F1D</td>\n",
       "      <td>kMandarin</td>\n",
       "      <td>yún</td>\n",
       "    </tr>\n",
       "  </tbody>\n",
       "</table>\n",
       "</div>"
      ],
      "text/plain": [
       "      codepoint     fieldname                        value\n",
       "24361    U+4F1D   kDefinition  summon; propagate, transmit\n",
       "24362    U+4F1D  kJapaneseKun    TSUTAERU TSUTAE TSUTAWARU\n",
       "24363    U+4F1D   kJapaneseOn                      DEN TEN\n",
       "24364    U+4F1D       kKorean                          CEN\n",
       "24365    U+4F1D     kMandarin                          yún"
      ]
     },
     "execution_count": 43,
     "metadata": {},
     "output_type": "execute_result"
    }
   ],
   "source": [
    "chinese = u'伝'\n",
    "cp = 'U+' + hex(ord(chinese)).replace('0x', '').upper()\n",
    "chineseDf = readings[readings.codepoint == cp]\n",
    "chineseDf"
   ]
  },
  {
   "cell_type": "code",
   "execution_count": 44,
   "metadata": {
    "collapsed": false
   },
   "outputs": [
    {
     "data": {
      "text/html": [
       "<div>\n",
       "<table border=\"1\" class=\"dataframe\">\n",
       "  <thead>\n",
       "    <tr style=\"text-align: right;\">\n",
       "      <th></th>\n",
       "      <th>codepoint</th>\n",
       "      <th>fieldname</th>\n",
       "      <th>value</th>\n",
       "    </tr>\n",
       "  </thead>\n",
       "  <tbody>\n",
       "    <tr>\n",
       "      <th>598</th>\n",
       "      <td>U+4F1D</td>\n",
       "      <td>kZVariant</td>\n",
       "      <td>U+50B3</td>\n",
       "    </tr>\n",
       "  </tbody>\n",
       "</table>\n",
       "</div>"
      ],
      "text/plain": [
       "    codepoint  fieldname   value\n",
       "598    U+4F1D  kZVariant  U+50B3"
      ]
     },
     "execution_count": 44,
     "metadata": {},
     "output_type": "execute_result"
    }
   ],
   "source": [
    "variantsDf = variants[variants.codepoint == cp]\n",
    "variantsDf"
   ]
  },
  {
   "cell_type": "code",
   "execution_count": 45,
   "metadata": {
    "collapsed": false
   },
   "outputs": [
    {
     "name": "stdout",
     "output_type": "stream",
     "text": [
      "summon; propagate, transmit\n",
      "yún\n",
      "\n",
      "伝\n",
      "noun\n",
      "57940\t伝\t\\N\tyún\tsummon; propagate, transmit\tnoun\t\\N\t\\N\t古文\tClassical Chinese\t\\N\t\\N\t\\N\t\\N\t (Unihan '伝')\t57940\n"
     ]
    }
   ],
   "source": [
    "english = \"\\\\N\"\n",
    "englishDF = chineseDf[chineseDf.fieldname == 'kDefinition']['value']\n",
    "if len(englishDF) > 0:\n",
    "    english = englishDF.iloc[0]\n",
    "print english\n",
    "\n",
    "pinyin = chineseDf[chineseDf.fieldname == 'kMandarin']['value'].iloc[0].decode('utf-8')\n",
    "print pinyin\n",
    "\n",
    "# Kinds of variants\n",
    "notes = \"\"\n",
    "c = \"\"\n",
    "value = variantsDf[variantsDf.fieldname == 'kSemanticVariant']['value']\n",
    "if len(value) > 0:\n",
    "    val = value.iloc[0].split('<')[0]\n",
    "    val = val.replace(\"U+\", \"\")\n",
    "    c = unichr(int(val, 16))\n",
    "    notes = \"Semantic variant: %s \" % c\n",
    "print notes\n",
    "\n",
    "simplified = chinese\n",
    "traditional = \"\\\\N\"\n",
    "value = variantsDf[variantsDf.fieldname == 'kSimplifiedVariant']['value']\n",
    "if len(value) > 0:\n",
    "    val = value.iloc[0].split('<')[0]\n",
    "    val = val.replace(\"U+\", \"\")\n",
    "    simplified = unichr(int(val, 16))\n",
    "    traditional = chinese\n",
    "print simplified\n",
    "\n",
    "grammar = \"\\\\N\"\n",
    "if english != \"\\\\N\":\n",
    "    grammar = \"noun\"\n",
    "print grammar\n",
    "\n",
    "luid = 57940\n",
    "notes = \"%s (Unihan '%s')\" % (notes, chinese)\n",
    "domain = u\"古文\\tClassical Chinese\"\n",
    "print u\"%d\\t%s\\t%s\\t%s\\t%s\\t%s\\t\\\\N\\t\\\\N\\t%s\\t\\\\N\\t\\\\N\\t\\\\N\\t\\\\N\\t%s\\t%d\" % (\n",
    "    luid, simplified, traditional, pinyin, english, grammar, domain, notes, luid)"
   ]
  },
  {
   "cell_type": "code",
   "execution_count": 27,
   "metadata": {
    "collapsed": false
   },
   "outputs": [
    {
     "data": {
      "text/html": [
       "<div>\n",
       "<table border=\"1\" class=\"dataframe\">\n",
       "  <thead>\n",
       "    <tr style=\"text-align: right;\">\n",
       "      <th></th>\n",
       "      <th>codepoint</th>\n",
       "      <th>char</th>\n",
       "    </tr>\n",
       "  </thead>\n",
       "  <tbody>\n",
       "  </tbody>\n",
       "</table>\n",
       "</div>"
      ],
      "text/plain": [
       "Empty DataFrame\n",
       "Columns: [codepoint, char]\n",
       "Index: []"
      ]
     },
     "execution_count": 27,
     "metadata": {},
     "output_type": "execute_result"
    }
   ],
   "source": [
    "# Generate lexical entries for the characters in file unknown.txt\n",
    "luid = 66853\n",
    "colnames = ['codepoint', 'char']\n",
    "types = {'char': np.string_, 'codepoint': np.string_}\n",
    "unknownDF = pd.read_table('unknown.txt', names = colnames, dtype=types, header = None)\n",
    "unknownDF"
   ]
  },
  {
   "cell_type": "code",
   "execution_count": 28,
   "metadata": {
    "collapsed": false
   },
   "outputs": [
    {
     "data": {
      "text/html": [
       "<div>\n",
       "<table border=\"1\" class=\"dataframe\">\n",
       "  <thead>\n",
       "    <tr style=\"text-align: right;\">\n",
       "      <th></th>\n",
       "      <th>char</th>\n",
       "      <th>codepoint</th>\n",
       "      <th>fieldname</th>\n",
       "      <th>value</th>\n",
       "    </tr>\n",
       "  </thead>\n",
       "  <tbody>\n",
       "  </tbody>\n",
       "</table>\n",
       "</div>"
      ],
      "text/plain": [
       "Empty DataFrame\n",
       "Columns: [char, codepoint, fieldname, value]\n",
       "Index: []"
      ]
     },
     "execution_count": 28,
     "metadata": {},
     "output_type": "execute_result"
    }
   ],
   "source": [
    "unknownReadings = pd.merge(unknownDF, readings, on = \"codepoint\")\n",
    "unknownReadings.set_index(\"codepoint\")\n",
    "unknownReadings"
   ]
  },
  {
   "cell_type": "code",
   "execution_count": 29,
   "metadata": {
    "collapsed": false
   },
   "outputs": [
    {
     "ename": "KeyError",
     "evalue": "'kCantonese'",
     "output_type": "error",
     "traceback": [
      "\u001b[0;31m---------------------------------------------------------------------------\u001b[0m",
      "\u001b[0;31mKeyError\u001b[0m                                  Traceback (most recent call last)",
      "\u001b[0;32m<ipython-input-29-e97db17aecb2>\u001b[0m in \u001b[0;36m<module>\u001b[0;34m()\u001b[0m\n\u001b[1;32m      1\u001b[0m \u001b[0mpivoted\u001b[0m \u001b[0;34m=\u001b[0m \u001b[0munknownReadings\u001b[0m\u001b[0;34m.\u001b[0m\u001b[0mpivot\u001b[0m\u001b[0;34m(\u001b[0m\u001b[0;34m\"codepoint\"\u001b[0m\u001b[0;34m,\u001b[0m \u001b[0;34m\"fieldname\"\u001b[0m\u001b[0;34m,\u001b[0m \u001b[0;34m\"value\"\u001b[0m\u001b[0;34m)\u001b[0m\u001b[0;34m\u001b[0m\u001b[0m\n\u001b[0;32m----> 2\u001b[0;31m \u001b[0;32mdel\u001b[0m \u001b[0mpivoted\u001b[0m\u001b[0;34m[\u001b[0m\u001b[0;34m\"kCantonese\"\u001b[0m\u001b[0;34m]\u001b[0m\u001b[0;34m\u001b[0m\u001b[0m\n\u001b[0m\u001b[1;32m      3\u001b[0m \u001b[0;32mdel\u001b[0m \u001b[0mpivoted\u001b[0m\u001b[0;34m[\u001b[0m\u001b[0;34m\"kHanyuPinyin\"\u001b[0m\u001b[0;34m]\u001b[0m\u001b[0;34m\u001b[0m\u001b[0m\n\u001b[1;32m      4\u001b[0m \u001b[0;32mdel\u001b[0m \u001b[0mpivoted\u001b[0m\u001b[0;34m[\u001b[0m\u001b[0;34m\"kJapaneseKun\"\u001b[0m\u001b[0;34m]\u001b[0m\u001b[0;34m\u001b[0m\u001b[0m\n\u001b[1;32m      5\u001b[0m \u001b[0;32mdel\u001b[0m \u001b[0mpivoted\u001b[0m\u001b[0;34m[\u001b[0m\u001b[0;34m\"kJapaneseOn\"\u001b[0m\u001b[0;34m]\u001b[0m\u001b[0;34m\u001b[0m\u001b[0m\n",
      "\u001b[0;32m/Library/Python/2.7/site-packages/pandas/core/generic.pyc\u001b[0m in \u001b[0;36m__delitem__\u001b[0;34m(self, key)\u001b[0m\n\u001b[1;32m   1604\u001b[0m             \u001b[0;31m# there was no match, this call should raise the appropriate\u001b[0m\u001b[0;34m\u001b[0m\u001b[0;34m\u001b[0m\u001b[0m\n\u001b[1;32m   1605\u001b[0m             \u001b[0;31m# exception:\u001b[0m\u001b[0;34m\u001b[0m\u001b[0;34m\u001b[0m\u001b[0m\n\u001b[0;32m-> 1606\u001b[0;31m             \u001b[0mself\u001b[0m\u001b[0;34m.\u001b[0m\u001b[0m_data\u001b[0m\u001b[0;34m.\u001b[0m\u001b[0mdelete\u001b[0m\u001b[0;34m(\u001b[0m\u001b[0mkey\u001b[0m\u001b[0;34m)\u001b[0m\u001b[0;34m\u001b[0m\u001b[0m\n\u001b[0m\u001b[1;32m   1607\u001b[0m \u001b[0;34m\u001b[0m\u001b[0m\n\u001b[1;32m   1608\u001b[0m         \u001b[0;31m# delete from the caches\u001b[0m\u001b[0;34m\u001b[0m\u001b[0;34m\u001b[0m\u001b[0m\n",
      "\u001b[0;32m/Library/Python/2.7/site-packages/pandas/core/internals.pyc\u001b[0m in \u001b[0;36mdelete\u001b[0;34m(self, item)\u001b[0m\n\u001b[1;32m   3347\u001b[0m         \u001b[0mDelete\u001b[0m \u001b[0mselected\u001b[0m \u001b[0mitem\u001b[0m \u001b[0;34m(\u001b[0m\u001b[0mitems\u001b[0m \u001b[0;32mif\u001b[0m \u001b[0mnon\u001b[0m\u001b[0;34m-\u001b[0m\u001b[0munique\u001b[0m\u001b[0;34m)\u001b[0m \u001b[0;32min\u001b[0m\u001b[0;34m-\u001b[0m\u001b[0mplace\u001b[0m\u001b[0;34m.\u001b[0m\u001b[0;34m\u001b[0m\u001b[0m\n\u001b[1;32m   3348\u001b[0m         \"\"\"\n\u001b[0;32m-> 3349\u001b[0;31m         \u001b[0mindexer\u001b[0m \u001b[0;34m=\u001b[0m \u001b[0mself\u001b[0m\u001b[0;34m.\u001b[0m\u001b[0mitems\u001b[0m\u001b[0;34m.\u001b[0m\u001b[0mget_loc\u001b[0m\u001b[0;34m(\u001b[0m\u001b[0mitem\u001b[0m\u001b[0;34m)\u001b[0m\u001b[0;34m\u001b[0m\u001b[0m\n\u001b[0m\u001b[1;32m   3350\u001b[0m \u001b[0;34m\u001b[0m\u001b[0m\n\u001b[1;32m   3351\u001b[0m         \u001b[0mis_deleted\u001b[0m \u001b[0;34m=\u001b[0m \u001b[0mnp\u001b[0m\u001b[0;34m.\u001b[0m\u001b[0mzeros\u001b[0m\u001b[0;34m(\u001b[0m\u001b[0mself\u001b[0m\u001b[0;34m.\u001b[0m\u001b[0mshape\u001b[0m\u001b[0;34m[\u001b[0m\u001b[0;36m0\u001b[0m\u001b[0;34m]\u001b[0m\u001b[0;34m,\u001b[0m \u001b[0mdtype\u001b[0m\u001b[0;34m=\u001b[0m\u001b[0mnp\u001b[0m\u001b[0;34m.\u001b[0m\u001b[0mbool_\u001b[0m\u001b[0;34m)\u001b[0m\u001b[0;34m\u001b[0m\u001b[0m\n",
      "\u001b[0;32m/Library/Python/2.7/site-packages/pandas/indexes/base.pyc\u001b[0m in \u001b[0;36mget_loc\u001b[0;34m(self, key, method, tolerance)\u001b[0m\n\u001b[1;32m   1945\u001b[0m                 \u001b[0;32mreturn\u001b[0m \u001b[0mself\u001b[0m\u001b[0;34m.\u001b[0m\u001b[0m_engine\u001b[0m\u001b[0;34m.\u001b[0m\u001b[0mget_loc\u001b[0m\u001b[0;34m(\u001b[0m\u001b[0mkey\u001b[0m\u001b[0;34m)\u001b[0m\u001b[0;34m\u001b[0m\u001b[0m\n\u001b[1;32m   1946\u001b[0m             \u001b[0;32mexcept\u001b[0m \u001b[0mKeyError\u001b[0m\u001b[0;34m:\u001b[0m\u001b[0;34m\u001b[0m\u001b[0m\n\u001b[0;32m-> 1947\u001b[0;31m                 \u001b[0;32mreturn\u001b[0m \u001b[0mself\u001b[0m\u001b[0;34m.\u001b[0m\u001b[0m_engine\u001b[0m\u001b[0;34m.\u001b[0m\u001b[0mget_loc\u001b[0m\u001b[0;34m(\u001b[0m\u001b[0mself\u001b[0m\u001b[0;34m.\u001b[0m\u001b[0m_maybe_cast_indexer\u001b[0m\u001b[0;34m(\u001b[0m\u001b[0mkey\u001b[0m\u001b[0;34m)\u001b[0m\u001b[0;34m)\u001b[0m\u001b[0;34m\u001b[0m\u001b[0m\n\u001b[0m\u001b[1;32m   1948\u001b[0m \u001b[0;34m\u001b[0m\u001b[0m\n\u001b[1;32m   1949\u001b[0m         \u001b[0mindexer\u001b[0m \u001b[0;34m=\u001b[0m \u001b[0mself\u001b[0m\u001b[0;34m.\u001b[0m\u001b[0mget_indexer\u001b[0m\u001b[0;34m(\u001b[0m\u001b[0;34m[\u001b[0m\u001b[0mkey\u001b[0m\u001b[0;34m]\u001b[0m\u001b[0;34m,\u001b[0m \u001b[0mmethod\u001b[0m\u001b[0;34m=\u001b[0m\u001b[0mmethod\u001b[0m\u001b[0;34m,\u001b[0m \u001b[0mtolerance\u001b[0m\u001b[0;34m=\u001b[0m\u001b[0mtolerance\u001b[0m\u001b[0;34m)\u001b[0m\u001b[0;34m\u001b[0m\u001b[0m\n",
      "\u001b[0;32mpandas/index.pyx\u001b[0m in \u001b[0;36mpandas.index.IndexEngine.get_loc (pandas/index.c:4154)\u001b[0;34m()\u001b[0m\n",
      "\u001b[0;32mpandas/index.pyx\u001b[0m in \u001b[0;36mpandas.index.IndexEngine.get_loc (pandas/index.c:4018)\u001b[0;34m()\u001b[0m\n",
      "\u001b[0;32mpandas/hashtable.pyx\u001b[0m in \u001b[0;36mpandas.hashtable.PyObjectHashTable.get_item (pandas/hashtable.c:12368)\u001b[0;34m()\u001b[0m\n",
      "\u001b[0;32mpandas/hashtable.pyx\u001b[0m in \u001b[0;36mpandas.hashtable.PyObjectHashTable.get_item (pandas/hashtable.c:12322)\u001b[0;34m()\u001b[0m\n",
      "\u001b[0;31mKeyError\u001b[0m: 'kCantonese'"
     ]
    }
   ],
   "source": [
    "pivoted = unknownReadings.pivot(\"codepoint\", \"fieldname\", \"value\")\n",
    "del pivoted[\"kCantonese\"]\n",
    "del pivoted[\"kHanyuPinyin\"]\n",
    "del pivoted[\"kJapaneseKun\"]\n",
    "del pivoted[\"kJapaneseOn\"]\n",
    "del pivoted[\"kVietnamese\"]\n",
    "del pivoted[\"kXHC1983\"]\n",
    "pivoted = pivoted.rename(columns = {\"kDefinition\":\"english\", \"kMandarin\":\"pinyin\"})\n",
    "pivoted"
   ]
  },
  {
   "cell_type": "code",
   "execution_count": 8,
   "metadata": {
    "collapsed": false
   },
   "outputs": [
    {
     "data": {
      "text/html": [
       "<div>\n",
       "<table border=\"1\" class=\"dataframe\">\n",
       "  <thead>\n",
       "    <tr style=\"text-align: right;\">\n",
       "      <th>fieldname</th>\n",
       "    </tr>\n",
       "    <tr>\n",
       "      <th>codepoint</th>\n",
       "    </tr>\n",
       "  </thead>\n",
       "  <tbody>\n",
       "  </tbody>\n",
       "</table>\n",
       "</div>"
      ],
      "text/plain": [
       "Empty DataFrame\n",
       "Columns: []\n",
       "Index: []"
      ]
     },
     "execution_count": 8,
     "metadata": {},
     "output_type": "execute_result"
    }
   ],
   "source": [
    "pivoted = pivoted.fillna(\"\\\\N\")\n",
    "pivoted"
   ]
  },
  {
   "cell_type": "code",
   "execution_count": 9,
   "metadata": {
    "collapsed": false
   },
   "outputs": [
    {
     "data": {
      "text/html": [
       "<div>\n",
       "<table border=\"1\" class=\"dataframe\">\n",
       "  <thead>\n",
       "    <tr style=\"text-align: right;\">\n",
       "      <th></th>\n",
       "      <th>codepoint</th>\n",
       "      <th>char</th>\n",
       "    </tr>\n",
       "  </thead>\n",
       "  <tbody>\n",
       "  </tbody>\n",
       "</table>\n",
       "</div>"
      ],
      "text/plain": [
       "Empty DataFrame\n",
       "Columns: [codepoint, char]\n",
       "Index: []"
      ]
     },
     "execution_count": 9,
     "metadata": {},
     "output_type": "execute_result"
    }
   ],
   "source": [
    "unknownDF = unknownDF.join(pivoted, on = \"codepoint\", lsuffix = \"_\")\n",
    "unknownDF"
   ]
  },
  {
   "cell_type": "code",
   "execution_count": 10,
   "metadata": {
    "collapsed": false
   },
   "outputs": [
    {
     "name": "stderr",
     "output_type": "stream",
     "text": [
      "/Library/Python/2.7/site-packages/pandas/indexes/range.py:439: RuntimeWarning: tp_compare didn't return -1 or -2 for exception\n",
      "  return max(0, -(-(self._stop - self._start) // self._step))\n"
     ]
    },
    {
     "ename": "ValueError",
     "evalue": "Cannot set a frame with no defined index and a value that cannot be converted to a Series",
     "output_type": "error",
     "traceback": [
      "\u001b[0;31m---------------------------------------------------------------------------\u001b[0m",
      "\u001b[0;31mValueError\u001b[0m                                Traceback (most recent call last)",
      "\u001b[0;32m<ipython-input-10-475079d6442c>\u001b[0m in \u001b[0;36m<module>\u001b[0;34m()\u001b[0m\n\u001b[1;32m      2\u001b[0m \u001b[0munknownDF\u001b[0m\u001b[0;34m[\u001b[0m\u001b[0;34m'traditional'\u001b[0m\u001b[0;34m]\u001b[0m \u001b[0;34m=\u001b[0m \u001b[0;34m\"\\\\N\"\u001b[0m\u001b[0;34m\u001b[0m\u001b[0m\n\u001b[1;32m      3\u001b[0m \u001b[0mgetGrammar\u001b[0m \u001b[0;34m=\u001b[0m \u001b[0;32mlambda\u001b[0m \u001b[0mx\u001b[0m\u001b[0;34m:\u001b[0m \u001b[0;34m\"noun\"\u001b[0m \u001b[0;32mif\u001b[0m \u001b[0mx\u001b[0m\u001b[0;34m.\u001b[0m\u001b[0menglish\u001b[0m \u001b[0;34m!=\u001b[0m \u001b[0;34m\"\\\\N\"\u001b[0m \u001b[0;32melse\u001b[0m \u001b[0;34m\"\\\\N\"\u001b[0m\u001b[0;34m\u001b[0m\u001b[0m\n\u001b[0;32m----> 4\u001b[0;31m \u001b[0munknownDF\u001b[0m\u001b[0;34m[\u001b[0m\u001b[0;34m'grammar'\u001b[0m\u001b[0;34m]\u001b[0m \u001b[0;34m=\u001b[0m \u001b[0munknownDF\u001b[0m\u001b[0;34m.\u001b[0m\u001b[0mapply\u001b[0m\u001b[0;34m(\u001b[0m\u001b[0mgetGrammar\u001b[0m\u001b[0;34m,\u001b[0m \u001b[0maxis\u001b[0m \u001b[0;34m=\u001b[0m \u001b[0;36m1\u001b[0m\u001b[0;34m)\u001b[0m\u001b[0;34m\u001b[0m\u001b[0m\n\u001b[0m\u001b[1;32m      5\u001b[0m \u001b[0munknownDF\u001b[0m\u001b[0;34m[\u001b[0m\u001b[0;34m'concept_cn'\u001b[0m\u001b[0;34m]\u001b[0m \u001b[0;34m=\u001b[0m \u001b[0;34m\"\\\\N\"\u001b[0m\u001b[0;34m\u001b[0m\u001b[0m\n\u001b[1;32m      6\u001b[0m \u001b[0munknownDF\u001b[0m\u001b[0;34m[\u001b[0m\u001b[0;34m'concept_en'\u001b[0m\u001b[0;34m]\u001b[0m \u001b[0;34m=\u001b[0m \u001b[0;34m\"\\\\N\"\u001b[0m\u001b[0;34m\u001b[0m\u001b[0m\n",
      "\u001b[0;32m/Library/Python/2.7/site-packages/pandas/core/frame.pyc\u001b[0m in \u001b[0;36m__setitem__\u001b[0;34m(self, key, value)\u001b[0m\n\u001b[1;32m   2355\u001b[0m         \u001b[0;32melse\u001b[0m\u001b[0;34m:\u001b[0m\u001b[0;34m\u001b[0m\u001b[0m\n\u001b[1;32m   2356\u001b[0m             \u001b[0;31m# set column\u001b[0m\u001b[0;34m\u001b[0m\u001b[0;34m\u001b[0m\u001b[0m\n\u001b[0;32m-> 2357\u001b[0;31m             \u001b[0mself\u001b[0m\u001b[0;34m.\u001b[0m\u001b[0m_set_item\u001b[0m\u001b[0;34m(\u001b[0m\u001b[0mkey\u001b[0m\u001b[0;34m,\u001b[0m \u001b[0mvalue\u001b[0m\u001b[0;34m)\u001b[0m\u001b[0;34m\u001b[0m\u001b[0m\n\u001b[0m\u001b[1;32m   2358\u001b[0m \u001b[0;34m\u001b[0m\u001b[0m\n\u001b[1;32m   2359\u001b[0m     \u001b[0;32mdef\u001b[0m \u001b[0m_setitem_slice\u001b[0m\u001b[0;34m(\u001b[0m\u001b[0mself\u001b[0m\u001b[0;34m,\u001b[0m \u001b[0mkey\u001b[0m\u001b[0;34m,\u001b[0m \u001b[0mvalue\u001b[0m\u001b[0;34m)\u001b[0m\u001b[0;34m:\u001b[0m\u001b[0;34m\u001b[0m\u001b[0m\n",
      "\u001b[0;32m/Library/Python/2.7/site-packages/pandas/core/frame.pyc\u001b[0m in \u001b[0;36m_set_item\u001b[0;34m(self, key, value)\u001b[0m\n\u001b[1;32m   2420\u001b[0m         \"\"\"\n\u001b[1;32m   2421\u001b[0m \u001b[0;34m\u001b[0m\u001b[0m\n\u001b[0;32m-> 2422\u001b[0;31m         \u001b[0mself\u001b[0m\u001b[0;34m.\u001b[0m\u001b[0m_ensure_valid_index\u001b[0m\u001b[0;34m(\u001b[0m\u001b[0mvalue\u001b[0m\u001b[0;34m)\u001b[0m\u001b[0;34m\u001b[0m\u001b[0m\n\u001b[0m\u001b[1;32m   2423\u001b[0m         \u001b[0mvalue\u001b[0m \u001b[0;34m=\u001b[0m \u001b[0mself\u001b[0m\u001b[0;34m.\u001b[0m\u001b[0m_sanitize_column\u001b[0m\u001b[0;34m(\u001b[0m\u001b[0mkey\u001b[0m\u001b[0;34m,\u001b[0m \u001b[0mvalue\u001b[0m\u001b[0;34m)\u001b[0m\u001b[0;34m\u001b[0m\u001b[0m\n\u001b[1;32m   2424\u001b[0m         \u001b[0mNDFrame\u001b[0m\u001b[0;34m.\u001b[0m\u001b[0m_set_item\u001b[0m\u001b[0;34m(\u001b[0m\u001b[0mself\u001b[0m\u001b[0;34m,\u001b[0m \u001b[0mkey\u001b[0m\u001b[0;34m,\u001b[0m \u001b[0mvalue\u001b[0m\u001b[0;34m)\u001b[0m\u001b[0;34m\u001b[0m\u001b[0m\n",
      "\u001b[0;32m/Library/Python/2.7/site-packages/pandas/core/frame.pyc\u001b[0m in \u001b[0;36m_ensure_valid_index\u001b[0;34m(self, value)\u001b[0m\n\u001b[1;32m   2402\u001b[0m                 \u001b[0mvalue\u001b[0m \u001b[0;34m=\u001b[0m \u001b[0mSeries\u001b[0m\u001b[0;34m(\u001b[0m\u001b[0mvalue\u001b[0m\u001b[0;34m)\u001b[0m\u001b[0;34m\u001b[0m\u001b[0m\n\u001b[1;32m   2403\u001b[0m             \u001b[0;32mexcept\u001b[0m\u001b[0;34m:\u001b[0m\u001b[0;34m\u001b[0m\u001b[0m\n\u001b[0;32m-> 2404\u001b[0;31m                 raise ValueError('Cannot set a frame with no defined index '\n\u001b[0m\u001b[1;32m   2405\u001b[0m                                  \u001b[0;34m'and a value that cannot be converted to a '\u001b[0m\u001b[0;34m\u001b[0m\u001b[0m\n\u001b[1;32m   2406\u001b[0m                                  'Series')\n",
      "\u001b[0;31mValueError\u001b[0m: Cannot set a frame with no defined index and a value that cannot be converted to a Series"
     ]
    }
   ],
   "source": [
    "unknownDF['id'] = range(luid, luid + len(unknownDF))\n",
    "unknownDF['traditional'] = \"\\\\N\"\n",
    "getGrammar = lambda x: \"noun\" if x.english != \"\\\\N\" else \"\\\\N\"\n",
    "unknownDF['grammar'] = unknownDF.apply(getGrammar, axis = 1)\n",
    "unknownDF['concept_cn'] = \"\\\\N\"\n",
    "unknownDF['concept_en'] = \"\\\\N\"\n",
    "unknownDF['domain_cn'] = \"古文\"\n",
    "unknownDF['domain_en'] = \"Classical Chinese\"\n",
    "unknownDF['subdomain_cn'] = \"\\\\N\"\n",
    "unknownDF['subdomain_en'] = \"\\\\N\"\n",
    "unknownDF['mp3'] = \"\\\\N\"\n",
    "unknownDF['image'] = \"\\\\N\"\n",
    "writeNotes = lambda c: \"(Unihan '\" + c + \"')\"\n",
    "unknownDF['notes'] = unknownDF['char'].map(writeNotes)\n",
    "unknownDF['headword'] = unknownDF['id']\n",
    "unknownDF"
   ]
  },
  {
   "cell_type": "code",
   "execution_count": 106,
   "metadata": {
    "collapsed": false
   },
   "outputs": [
    {
     "name": "stdout",
     "output_type": "stream",
     "text": [
      "61731\t㡏\t\\N\tshù\tto cut a strip of cloth; a breadth of material, (same as 繻) fine gauze, frayed edges of silk, silk torn into two pieces, one of which was given as a credential and the other retained, a loose garment or cloak; fine clothes, the left over material after cutting; ragged fabric\tnoun\t\\N\t\\N\t古文\tClassical Chinese\t\\N\t\\N\t\\N\t\\N\t(Unihan '㡏')\t61731\n",
      "61732\t𨪉\t\\N\ttí\t\\N\t\\N\t\\N\t\\N\t古文\tClassical Chinese\t\\N\t\\N\t\\N\t\\N\t(Unihan '𨪉')\t61732\n",
      "61733\t𣚍\t\\N\t\t\tnoun\t\\N\t\\N\t古文\tClassical Chinese\t\\N\t\\N\t\\N\t\\N\t(Unihan '𣚍')\t61733\n",
      "61734\t谫\t\\N\tjiǎn\tshallow; stupid\tnoun\t\\N\t\\N\t古文\tClassical Chinese\t\\N\t\\N\t\\N\t\\N\t(Unihan '谫')\t61734\n",
      "61735\t𨓆\t\\N\t\t\tnoun\t\\N\t\\N\t古文\tClassical Chinese\t\\N\t\\N\t\\N\t\\N\t(Unihan '𨓆')\t61735\n",
      "61736\t㞓\t\\N\tqì\tthe buttocks; the rump; the sacrum, to set sideways, the male organ; (Cant.) vulgar term for the female sex organ\tnoun\t\\N\t\\N\t古文\tClassical Chinese\t\\N\t\\N\t\\N\t\\N\t(Unihan '㞓')\t61736\n",
      "61737\t𥵸\t\\N\t\t\tnoun\t\\N\t\\N\t古文\tClassical Chinese\t\\N\t\\N\t\\N\t\\N\t(Unihan '𥵸')\t61737\n",
      "61738\t𧾨\t\\N\txiàn\t\\N\t\\N\t\\N\t\\N\t古文\tClassical Chinese\t\\N\t\\N\t\\N\t\\N\t(Unihan '𧾨')\t61738\n",
      "61739\t乿\t\\N\tzhì\tto cure, to heal\tnoun\t\\N\t\\N\t古文\tClassical Chinese\t\\N\t\\N\t\\N\t\\N\t(Unihan '乿')\t61739\n",
      "61740\t䡓\t\\N\tjuàn\tshake of a cart, awning in front of a cart, covering the horse or mule in the shafts, (same as 軒) high front of a chariot or carriage\tnoun\t\\N\t\\N\t古文\tClassical Chinese\t\\N\t\\N\t\\N\t\\N\t(Unihan '䡓')\t61740\n",
      "61741\t媁\t\\N\twéi\t\\N\t\\N\t\\N\t\\N\t古文\tClassical Chinese\t\\N\t\\N\t\\N\t\\N\t(Unihan '媁')\t61741\n",
      "61742\t緳\t\\N\txié\t\\N\t\\N\t\\N\t\\N\t古文\tClassical Chinese\t\\N\t\\N\t\\N\t\\N\t(Unihan '緳')\t61742\n",
      "61743\t𤰀\t\\N\t\t\tnoun\t\\N\t\\N\t古文\tClassical Chinese\t\\N\t\\N\t\\N\t\\N\t(Unihan '𤰀')\t61743\n",
      "61744\t塡\t\\N\ttián\tfill in, fill up; make good\tnoun\t\\N\t\\N\t古文\tClassical Chinese\t\\N\t\\N\t\\N\t\\N\t(Unihan '塡')\t61744\n",
      "61745\t䩛\t\\N\tbì\tleather belt used to bind or restrain a cart, (same as 轡) reins and bit; a bridle\tnoun\t\\N\t\\N\t古文\tClassical Chinese\t\\N\t\\N\t\\N\t\\N\t(Unihan '䩛')\t61745\n",
      "61746\t椴\t\\N\tduàn\tpoplar, aspen\tnoun\t\\N\t\\N\t古文\tClassical Chinese\t\\N\t\\N\t\\N\t\\N\t(Unihan '椴')\t61746\n",
      "61747\t㞋\t\\N\tniǎn\tsoft and meek, weak, to arrange, to regulate\tnoun\t\\N\t\\N\t古文\tClassical Chinese\t\\N\t\\N\t\\N\t\\N\t(Unihan '㞋')\t61747\n",
      "61748\t𣪌\t\\N\ttóu\t\\N\t\\N\t\\N\t\\N\t古文\tClassical Chinese\t\\N\t\\N\t\\N\t\\N\t(Unihan '𣪌')\t61748\n",
      "61749\t㥟\t\\N\txié\tenmity; animus; ill-will\tnoun\t\\N\t\\N\t古文\tClassical Chinese\t\\N\t\\N\t\\N\t\\N\t(Unihan '㥟')\t61749\n",
      "61750\t虇\t\\N\tquǎn\t\\N\t\\N\t\\N\t\\N\t古文\tClassical Chinese\t\\N\t\\N\t\\N\t\\N\t(Unihan '虇')\t61750\n",
      "61751\t𢄥\t\\N\t\t\tnoun\t\\N\t\\N\t古文\tClassical Chinese\t\\N\t\\N\t\\N\t\\N\t(Unihan '𢄥')\t61751\n",
      "61752\t𩎈\t\\N\t\t\tnoun\t\\N\t\\N\t古文\tClassical Chinese\t\\N\t\\N\t\\N\t\\N\t(Unihan '𩎈')\t61752\n",
      "61753\t鉵\t\\N\ttóng\t\\N\t\\N\t\\N\t\\N\t古文\tClassical Chinese\t\\N\t\\N\t\\N\t\\N\t(Unihan '鉵')\t61753\n",
      "61754\t䙾\t\\N\tshī\tto wait for; to await (interchangeable 伺), (same as 施) to act; to do; to make, to grant; to give, to apply\tnoun\t\\N\t\\N\t古文\tClassical Chinese\t\\N\t\\N\t\\N\t\\N\t(Unihan '䙾')\t61754\n",
      "61755\t𩡺\t\\N\tjiè\t\\N\t\\N\t\\N\t\\N\t古文\tClassical Chinese\t\\N\t\\N\t\\N\t\\N\t(Unihan '𩡺')\t61755\n",
      "61756\t𦯈\t\\N\tqǐn\t\\N\t\\N\t\\N\t\\N\t古文\tClassical Chinese\t\\N\t\\N\t\\N\t\\N\t(Unihan '𦯈')\t61756\n",
      "61757\t䳔\t\\N\tjú\ta pigeon-like bird; with a comb or crest, a shrike; butcherbird\tnoun\t\\N\t\\N\t古文\tClassical Chinese\t\\N\t\\N\t\\N\t\\N\t(Unihan '䳔')\t61757\n",
      "61758\t諆\t\\N\tqī\tto cheat\tnoun\t\\N\t\\N\t古文\tClassical Chinese\t\\N\t\\N\t\\N\t\\N\t(Unihan '諆')\t61758\n",
      "61759\t螴\t\\N\tchén\t\\N\t\\N\t\\N\t\\N\t古文\tClassical Chinese\t\\N\t\\N\t\\N\t\\N\t(Unihan '螴')\t61759\n",
      "61760\t𦚚\t\\N\t\t\tnoun\t\\N\t\\N\t古文\tClassical Chinese\t\\N\t\\N\t\\N\t\\N\t(Unihan '𦚚')\t61760\n",
      "61761\t鬗\t\\N\tmán\t\\N\t\\N\t\\N\t\\N\t古文\tClassical Chinese\t\\N\t\\N\t\\N\t\\N\t(Unihan '鬗')\t61761\n",
      "61762\t𪏆\t\\N\ttūn\t\\N\t\\N\t\\N\t\\N\t古文\tClassical Chinese\t\\N\t\\N\t\\N\t\\N\t(Unihan '𪏆')\t61762\n",
      "61763\t藈\t\\N\tkuí\t\\N\t\\N\t\\N\t\\N\t古文\tClassical Chinese\t\\N\t\\N\t\\N\t\\N\t(Unihan '藈')\t61763\n",
      "61764\t嘄\t\\N\tjiāo\t\\N\t\\N\t\\N\t\\N\t古文\tClassical Chinese\t\\N\t\\N\t\\N\t\\N\t(Unihan '嘄')\t61764\n",
      "61765\t䫞\t\\N\tqiāo\tlarge head, a wide forehead, numerous; crowd, (interchangeable 頒) a fish with a large head\tnoun\t\\N\t\\N\t古文\tClassical Chinese\t\\N\t\\N\t\\N\t\\N\t(Unihan '䫞')\t61765\n",
      "61766\t㕗\t\\N\tyòu\t(same as 誘) to induce; to entice; to mislead; to lead on\tnoun\t\\N\t\\N\t古文\tClassical Chinese\t\\N\t\\N\t\\N\t\\N\t(Unihan '㕗')\t61766\n",
      "61767\t𧊝\t\\N\t\t\tnoun\t\\N\t\\N\t古文\tClassical Chinese\t\\N\t\\N\t\\N\t\\N\t(Unihan '𧊝')\t61767\n",
      "61768\t籑\t\\N\tzhuàn\tto feed, to provide for delicacies, dainties\tnoun\t\\N\t\\N\t古文\tClassical Chinese\t\\N\t\\N\t\\N\t\\N\t(Unihan '籑')\t61768\n",
      "61769\t𠨐\t\\N\t\t\tnoun\t\\N\t\\N\t古文\tClassical Chinese\t\\N\t\\N\t\\N\t\\N\t(Unihan '𠨐')\t61769\n",
      "61770\t𧀩\t\\N\tsì\t\\N\t\\N\t\\N\t\\N\t古文\tClassical Chinese\t\\N\t\\N\t\\N\t\\N\t(Unihan '𧀩')\t61770\n",
      "61771\t𢓴\t\\N\t\t\tnoun\t\\N\t\\N\t古文\tClassical Chinese\t\\N\t\\N\t\\N\t\\N\t(Unihan '𢓴')\t61771\n",
      "61772\t蚥\t\\N\tfù\t\\N\t\\N\t\\N\t\\N\t古文\tClassical Chinese\t\\N\t\\N\t\\N\t\\N\t(Unihan '蚥')\t61772\n",
      "61773\t黓\t\\N\tyì\tblack\tnoun\t\\N\t\\N\t古文\tClassical Chinese\t\\N\t\\N\t\\N\t\\N\t(Unihan '黓')\t61773\n",
      "61774\t𠣾\t\\N\tfù\t\\N\t\\N\t\\N\t\\N\t古文\tClassical Chinese\t\\N\t\\N\t\\N\t\\N\t(Unihan '𠣾')\t61774\n",
      "61775\t𪗿\t\\N\t\t\tnoun\t\\N\t\\N\t古文\tClassical Chinese\t\\N\t\\N\t\\N\t\\N\t(Unihan '𪗿')\t61775\n",
      "61776\t郚\t\\N\twú\ttowns in Shandong province\tnoun\t\\N\t\\N\t古文\tClassical Chinese\t\\N\t\\N\t\\N\t\\N\t(Unihan '郚')\t61776\n",
      "61777\t嫴\t\\N\tgū\t\\N\t\\N\t\\N\t\\N\t古文\tClassical Chinese\t\\N\t\\N\t\\N\t\\N\t(Unihan '嫴')\t61777\n",
      "61778\t䐜\t\\N\tchēn\ta swelled belly; drop-sical, to swell, inflated\tnoun\t\\N\t\\N\t古文\tClassical Chinese\t\\N\t\\N\t\\N\t\\N\t(Unihan '䐜')\t61778\n",
      "61779\t𧒎\t\\N\té\t\\N\t\\N\t\\N\t\\N\t古文\tClassical Chinese\t\\N\t\\N\t\\N\t\\N\t(Unihan '𧒎')\t61779\n",
      "61780\t娝\t\\N\tpōu\t\\N\t\\N\t\\N\t\\N\t古文\tClassical Chinese\t\\N\t\\N\t\\N\t\\N\t(Unihan '娝')\t61780\n",
      "61781\t聏\t\\N\tér\t\\N\t\\N\t\\N\t\\N\t古文\tClassical Chinese\t\\N\t\\N\t\\N\t\\N\t(Unihan '聏')\t61781\n",
      "61782\t𧡸\t\\N\tdōu\t\\N\t\\N\t\\N\t\\N\t古文\tClassical Chinese\t\\N\t\\N\t\\N\t\\N\t(Unihan '𧡸')\t61782\n",
      "61783\t𤬖\t\\N\tyáo\t\\N\t\\N\t\\N\t\\N\t古文\tClassical Chinese\t\\N\t\\N\t\\N\t\\N\t(Unihan '𤬖')\t61783\n",
      "61784\t糷\t\\N\tlàn\t\\N\t\\N\t\\N\t\\N\t古文\tClassical Chinese\t\\N\t\\N\t\\N\t\\N\t(Unihan '糷')\t61784\n",
      "61785\t膷\t\\N\txiāng\tsoup\tnoun\t\\N\t\\N\t古文\tClassical Chinese\t\\N\t\\N\t\\N\t\\N\t(Unihan '膷')\t61785\n",
      "61786\t嗋\t\\N\txié\t\\N\t\\N\t\\N\t\\N\t古文\tClassical Chinese\t\\N\t\\N\t\\N\t\\N\t(Unihan '嗋')\t61786\n",
      "61787\t𪚁\t\\N\tlián\t\\N\t\\N\t\\N\t\\N\t古文\tClassical Chinese\t\\N\t\\N\t\\N\t\\N\t(Unihan '𪚁')\t61787\n",
      "61788\t𦜟\t\\N\t\t\tnoun\t\\N\t\\N\t古文\tClassical Chinese\t\\N\t\\N\t\\N\t\\N\t(Unihan '𦜟')\t61788\n",
      "61789\t𩬙\t\\N\tfù\t\\N\t\\N\t\\N\t\\N\t古文\tClassical Chinese\t\\N\t\\N\t\\N\t\\N\t(Unihan '𩬙')\t61789\n",
      "61790\t酁\t\\N\tchán\t\\N\t\\N\t\\N\t\\N\t古文\tClassical Chinese\t\\N\t\\N\t\\N\t\\N\t(Unihan '酁')\t61790\n",
      "61791\t蓳\t\\N\tjǐn\t\\N\t\\N\t\\N\t\\N\t古文\tClassical Chinese\t\\N\t\\N\t\\N\t\\N\t(Unihan '蓳')\t61791\n",
      "61792\t縼\t\\N\txuàn\t\\N\t\\N\t\\N\t\\N\t古文\tClassical Chinese\t\\N\t\\N\t\\N\t\\N\t(Unihan '縼')\t61792\n",
      "61793\t䍏\t\\N\t\t\tnoun\t\\N\t\\N\t古文\tClassical Chinese\t\\N\t\\N\t\\N\t\\N\t(Unihan '䍏')\t61793\n",
      "61794\t䥵\t\\N\txiǎo\tlines; stripes; veins on an iron plate\tnoun\t\\N\t\\N\t古文\tClassical Chinese\t\\N\t\\N\t\\N\t\\N\t(Unihan '䥵')\t61794\n",
      "61795\t䎳\t\\N\twà\tlose of the ear\tnoun\t\\N\t\\N\t古文\tClassical Chinese\t\\N\t\\N\t\\N\t\\N\t(Unihan '䎳')\t61795\n",
      "61796\t鱋\t\\N\tqū\t\\N\t\\N\t\\N\t\\N\t古文\tClassical Chinese\t\\N\t\\N\t\\N\t\\N\t(Unihan '鱋')\t61796\n",
      "61797\t𦗕\t\\N\tmí\t\\N\t\\N\t\\N\t\\N\t古文\tClassical Chinese\t\\N\t\\N\t\\N\t\\N\t(Unihan '𦗕')\t61797\n",
      "61798\t䛩\t\\N\twù\tto slander; to defame, (same as 惡) to abominate; to detest, (same as 啞) to laugh; to grin\tnoun\t\\N\t\\N\t古文\tClassical Chinese\t\\N\t\\N\t\\N\t\\N\t(Unihan '䛩')\t61798\n",
      "61799\t蕁\t\\N\tqián\tnettle\tnoun\t\\N\t\\N\t古文\tClassical Chinese\t\\N\t\\N\t\\N\t\\N\t(Unihan '蕁')\t61799\n",
      "61800\t𩉺\t\\N\ttuó\t\\N\t\\N\t\\N\t\\N\t古文\tClassical Chinese\t\\N\t\\N\t\\N\t\\N\t(Unihan '𩉺')\t61800\n",
      "61801\t𤜌\t\\N\t\t\tnoun\t\\N\t\\N\t古文\tClassical Chinese\t\\N\t\\N\t\\N\t\\N\t(Unihan '𤜌')\t61801\n",
      "61802\t𤓒\t\\N\t\t\tnoun\t\\N\t\\N\t古文\tClassical Chinese\t\\N\t\\N\t\\N\t\\N\t(Unihan '𤓒')\t61802\n",
      "61803\t𥏫\t\\N\tshāng\t\\N\t\\N\t\\N\t\\N\t古文\tClassical Chinese\t\\N\t\\N\t\\N\t\\N\t(Unihan '𥏫')\t61803\n",
      "61804\t㹃\t\\N\tfèi\ttwo brindled cows to plough face to each other, to cultivate; to plant after the second time of ploughing; (Cant.) to push lightly, flick off\tnoun\t\\N\t\\N\t古文\tClassical Chinese\t\\N\t\\N\t\\N\t\\N\t(Unihan '㹃')\t61804\n",
      "61805\t澔\t\\N\thào\tradiance of gems\tnoun\t\\N\t\\N\t古文\tClassical Chinese\t\\N\t\\N\t\\N\t\\N\t(Unihan '澔')\t61805\n",
      "61806\t嵾\t\\N\tcēn\tuneven\tnoun\t\\N\t\\N\t古文\tClassical Chinese\t\\N\t\\N\t\\N\t\\N\t(Unihan '嵾')\t61806\n",
      "61807\t𥿩\t\\N\tzì\t\\N\t\\N\t\\N\t\\N\t古文\tClassical Chinese\t\\N\t\\N\t\\N\t\\N\t(Unihan '𥿩')\t61807\n",
      "61808\t䖐\t\\N\tyín\tsound of a tiger\tnoun\t\\N\t\\N\t古文\tClassical Chinese\t\\N\t\\N\t\\N\t\\N\t(Unihan '䖐')\t61808\n",
      "61809\t㹤\t\\N\tqiè\t(same as 怯) lacking in courage; cowardly, nervous; socially timid; fright\tnoun\t\\N\t\\N\t古文\tClassical Chinese\t\\N\t\\N\t\\N\t\\N\t(Unihan '㹤')\t61809\n",
      "61810\t䆯\t\\N\tzhuó\ta short shaped face, charming; beautiful; delicate\tnoun\t\\N\t\\N\t古文\tClassical Chinese\t\\N\t\\N\t\\N\t\\N\t(Unihan '䆯')\t61810\n",
      "61811\t𤪎\t\\N\tyǒu\t\\N\t\\N\t\\N\t\\N\t古文\tClassical Chinese\t\\N\t\\N\t\\N\t\\N\t(Unihan '𤪎')\t61811\n",
      "61812\t鄐\t\\N\tchù\ttown in Henan province\tnoun\t\\N\t\\N\t古文\tClassical Chinese\t\\N\t\\N\t\\N\t\\N\t(Unihan '鄐')\t61812\n",
      "61813\t譻\t\\N\tyīng\t\\N\t\\N\t\\N\t\\N\t古文\tClassical Chinese\t\\N\t\\N\t\\N\t\\N\t(Unihan '譻')\t61813\n",
      "61814\t𤫉\t\\N\txiè\t\\N\t\\N\t\\N\t\\N\t古文\tClassical Chinese\t\\N\t\\N\t\\N\t\\N\t(Unihan '𤫉')\t61814\n",
      "61815\t𪄱\t\\N\tdí\t\\N\t\\N\t\\N\t\\N\t古文\tClassical Chinese\t\\N\t\\N\t\\N\t\\N\t(Unihan '𪄱')\t61815\n",
      "61816\t𣊓\t\\N\t\t\tnoun\t\\N\t\\N\t古文\tClassical Chinese\t\\N\t\\N\t\\N\t\\N\t(Unihan '𣊓')\t61816\n",
      "61817\t珢\t\\N\tyín\tprecious stone\tnoun\t\\N\t\\N\t古文\tClassical Chinese\t\\N\t\\N\t\\N\t\\N\t(Unihan '珢')\t61817\n",
      "61818\t䚐\t\\N\tjí\tgetting red in the eyes, to look from a distance\tnoun\t\\N\t\\N\t古文\tClassical Chinese\t\\N\t\\N\t\\N\t\\N\t(Unihan '䚐')\t61818\n",
      "61819\t𪎮\t\\N\t\t\tnoun\t\\N\t\\N\t古文\tClassical Chinese\t\\N\t\\N\t\\N\t\\N\t(Unihan '𪎮')\t61819\n",
      "61820\t𩁆\t\\N\t\t\tnoun\t\\N\t\\N\t古文\tClassical Chinese\t\\N\t\\N\t\\N\t\\N\t(Unihan '𩁆')\t61820\n",
      "61821\t䘰\t\\N\tshān\ta hood; some kind of covering used on a carriage, towel; kerchief\tnoun\t\\N\t\\N\t古文\tClassical Chinese\t\\N\t\\N\t\\N\t\\N\t(Unihan '䘰')\t61821\n",
      "61822\t㡮\t\\N\tjí\tdanger; precarious, to fear, lofty; high, just; honest, to grind, to cultivate; to polish\tnoun\t\\N\t\\N\t古文\tClassical Chinese\t\\N\t\\N\t\\N\t\\N\t(Unihan '㡮')\t61822\n",
      "61823\t𠃨\t\\N\t\t\tnoun\t\\N\t\\N\t古文\tClassical Chinese\t\\N\t\\N\t\\N\t\\N\t(Unihan '𠃨')\t61823\n",
      "61824\t𨄚\t\\N\tqiāng\t\\N\t\\N\t\\N\t\\N\t古文\tClassical Chinese\t\\N\t\\N\t\\N\t\\N\t(Unihan '𨄚')\t61824\n",
      "61825\t牬\t\\N\tbèi\t\\N\t\\N\t\\N\t\\N\t古文\tClassical Chinese\t\\N\t\\N\t\\N\t\\N\t(Unihan '牬')\t61825\n",
      "61826\t硞\t\\N\tquè\t\\N\t\\N\t\\N\t\\N\t古文\tClassical Chinese\t\\N\t\\N\t\\N\t\\N\t(Unihan '硞')\t61826\n",
      "61827\t𡢎\t\\N\t\t\tnoun\t\\N\t\\N\t古文\tClassical Chinese\t\\N\t\\N\t\\N\t\\N\t(Unihan '𡢎')\t61827\n",
      "61828\t𡕢\t\\N\tmiǎn\t\\N\t\\N\t\\N\t\\N\t古文\tClassical Chinese\t\\N\t\\N\t\\N\t\\N\t(Unihan '𡕢')\t61828\n",
      "61829\t蚞\t\\N\tmù\t\\N\t\\N\t\\N\t\\N\t古文\tClassical Chinese\t\\N\t\\N\t\\N\t\\N\t(Unihan '蚞')\t61829\n",
      "61830\t鰽\t\\N\tqiú\therring\tnoun\t\\N\t\\N\t古文\tClassical Chinese\t\\N\t\\N\t\\N\t\\N\t(Unihan '鰽')\t61830\n",
      "61831\t𩺀\t\\N\t\t\tnoun\t\\N\t\\N\t古文\tClassical Chinese\t\\N\t\\N\t\\N\t\\N\t(Unihan '𩺀')\t61831\n",
      "61832\t㱻\t\\N\tluò\tdiseases of dumb creatures, diseases of animals, illness; disease; ailment\tnoun\t\\N\t\\N\t古文\tClassical Chinese\t\\N\t\\N\t\\N\t\\N\t(Unihan '㱻')\t61832\n",
      "61833\t㰶\t\\N\tyǒu\tto wrinkle the nose with sorrowful (when sob or weep), (same as 嘔) to vomit; to throw up\tnoun\t\\N\t\\N\t古文\tClassical Chinese\t\\N\t\\N\t\\N\t\\N\t(Unihan '㰶')\t61833\n",
      "61834\t漀\t\\N\tqǐng\t\\N\t\\N\t\\N\t\\N\t古文\tClassical Chinese\t\\N\t\\N\t\\N\t\\N\t(Unihan '漀')\t61834\n",
      "61835\t𡗼\t\\N\txiè\t\\N\t\\N\t\\N\t\\N\t古文\tClassical Chinese\t\\N\t\\N\t\\N\t\\N\t(Unihan '𡗼')\t61835\n",
      "61836\t僆\t\\N\tliàn\t\\N\t\\N\t\\N\t\\N\t古文\tClassical Chinese\t\\N\t\\N\t\\N\t\\N\t(Unihan '僆')\t61836\n",
      "61837\t疈\t\\N\tpì\t\\N\t\\N\t\\N\t\\N\t古文\tClassical Chinese\t\\N\t\\N\t\\N\t\\N\t(Unihan '疈')\t61837\n",
      "61838\t𣃘\t\\N\tchǎn\t\\N\t\\N\t\\N\t\\N\t古文\tClassical Chinese\t\\N\t\\N\t\\N\t\\N\t(Unihan '𣃘')\t61838\n",
      "61839\t䞿\t\\N\tqiān\t(interchangeable 蹇) lame; crippled, slow, weak; feeble, difficult; hard\tnoun\t\\N\t\\N\t古文\tClassical Chinese\t\\N\t\\N\t\\N\t\\N\t(Unihan '䞿')\t61839\n",
      "61840\t㛆\t\\N\tduò\tto speculate; to conjecture; to assume; to make an intelligent guess; to fathom, (of a woman) beautiful, used in girl's name\tnoun\t\\N\t\\N\t古文\tClassical Chinese\t\\N\t\\N\t\\N\t\\N\t(Unihan '㛆')\t61840\n"
     ]
    }
   ],
   "source": [
    "cols = ['id', 'char', 'traditional', 'pinyin', 'english', 'grammar', 'concept_cn', 'concept_en', 'domain_cn', 'domain_en', 'subdomain_cn', 'subdomain_en', 'mp3', 'image', 'notes', 'headword']\n",
    "unknownDF = unknownDF[cols]\n",
    "unknownDF.to_csv(sys.stdout, index = False, header = False, sep = \"\\t\", cols = cols)"
   ]
  },
  {
   "cell_type": "code",
   "execution_count": null,
   "metadata": {
    "collapsed": true
   },
   "outputs": [],
   "source": []
  }
 ],
 "metadata": {
  "kernelspec": {
   "display_name": "Python 2",
   "language": "python",
   "name": "python2"
  },
  "language_info": {
   "codemirror_mode": {
    "name": "ipython",
    "version": 2
   },
   "file_extension": ".py",
   "mimetype": "text/x-python",
   "name": "python",
   "nbconvert_exporter": "python",
   "pygments_lexer": "ipython2",
   "version": "2.7.10"
  }
 },
 "nbformat": 4,
 "nbformat_minor": 0
}
